{
 "cells": [
  {
   "cell_type": "markdown",
   "metadata": {},
   "source": [
    "#### Prep Data"
   ]
  },
  {
   "cell_type": "code",
   "execution_count": 1,
   "metadata": {
    "collapsed": true
   },
   "outputs": [],
   "source": [
    "# set wd\n",
    "import os\n",
    "project_root = '/Users/kgedney/Documents/georgetown/anly503/project/'\n",
    "os.chdir(project_root)"
   ]
  },
  {
   "cell_type": "code",
   "execution_count": 2,
   "metadata": {},
   "outputs": [
    {
     "data": {
      "text/html": [
       "\n",
       "    <div class=\"bk-root\">\n",
       "        <a href=\"https://bokeh.pydata.org\" target=\"_blank\" class=\"bk-logo bk-logo-small bk-logo-notebook\"></a>\n",
       "        <span id=\"cbd8d133-bdfa-49e8-9257-5e3cef3a5400\">Loading BokehJS ...</span>\n",
       "    </div>"
      ]
     },
     "metadata": {},
     "output_type": "display_data"
    },
    {
     "data": {
      "application/javascript": [
       "\n",
       "(function(root) {\n",
       "  function now() {\n",
       "    return new Date();\n",
       "  }\n",
       "\n",
       "  var force = true;\n",
       "\n",
       "  if (typeof (root._bokeh_onload_callbacks) === \"undefined\" || force === true) {\n",
       "    root._bokeh_onload_callbacks = [];\n",
       "    root._bokeh_is_loading = undefined;\n",
       "  }\n",
       "\n",
       "  var JS_MIME_TYPE = 'application/javascript';\n",
       "  var HTML_MIME_TYPE = 'text/html';\n",
       "  var EXEC_MIME_TYPE = 'application/vnd.bokehjs_exec.v0+json';\n",
       "  var CLASS_NAME = 'output_bokeh rendered_html';\n",
       "\n",
       "  /**\n",
       "   * Render data to the DOM node\n",
       "   */\n",
       "  function render(props, node) {\n",
       "    var script = document.createElement(\"script\");\n",
       "    node.appendChild(script);\n",
       "  }\n",
       "\n",
       "  /**\n",
       "   * Handle when an output is cleared or removed\n",
       "   */\n",
       "  function handleClearOutput(event, handle) {\n",
       "    var cell = handle.cell;\n",
       "\n",
       "    var id = cell.output_area._bokeh_element_id;\n",
       "    var server_id = cell.output_area._bokeh_server_id;\n",
       "    // Clean up Bokeh references\n",
       "    if (id != null && id in Bokeh.index) {\n",
       "      Bokeh.index[id].model.document.clear();\n",
       "      delete Bokeh.index[id];\n",
       "    }\n",
       "\n",
       "    if (server_id !== undefined) {\n",
       "      // Clean up Bokeh references\n",
       "      var cmd = \"from bokeh.io.state import curstate; print(curstate().uuid_to_server['\" + server_id + \"'].get_sessions()[0].document.roots[0]._id)\";\n",
       "      cell.notebook.kernel.execute(cmd, {\n",
       "        iopub: {\n",
       "          output: function(msg) {\n",
       "            var id = msg.content.text.trim();\n",
       "            if (id in Bokeh.index) {\n",
       "              Bokeh.index[id].model.document.clear();\n",
       "              delete Bokeh.index[id];\n",
       "            }\n",
       "          }\n",
       "        }\n",
       "      });\n",
       "      // Destroy server and session\n",
       "      var cmd = \"import bokeh.io.notebook as ion; ion.destroy_server('\" + server_id + \"')\";\n",
       "      cell.notebook.kernel.execute(cmd);\n",
       "    }\n",
       "  }\n",
       "\n",
       "  /**\n",
       "   * Handle when a new output is added\n",
       "   */\n",
       "  function handleAddOutput(event, handle) {\n",
       "    var output_area = handle.output_area;\n",
       "    var output = handle.output;\n",
       "\n",
       "    // limit handleAddOutput to display_data with EXEC_MIME_TYPE content only\n",
       "    if ((output.output_type != \"display_data\") || (!output.data.hasOwnProperty(EXEC_MIME_TYPE))) {\n",
       "      return\n",
       "    }\n",
       "\n",
       "    var toinsert = output_area.element.find(\".\" + CLASS_NAME.split(' ')[0]);\n",
       "\n",
       "    if (output.metadata[EXEC_MIME_TYPE][\"id\"] !== undefined) {\n",
       "      toinsert[toinsert.length - 1].firstChild.textContent = output.data[JS_MIME_TYPE];\n",
       "      // store reference to embed id on output_area\n",
       "      output_area._bokeh_element_id = output.metadata[EXEC_MIME_TYPE][\"id\"];\n",
       "    }\n",
       "    if (output.metadata[EXEC_MIME_TYPE][\"server_id\"] !== undefined) {\n",
       "      var bk_div = document.createElement(\"div\");\n",
       "      bk_div.innerHTML = output.data[HTML_MIME_TYPE];\n",
       "      var script_attrs = bk_div.children[0].attributes;\n",
       "      for (var i = 0; i < script_attrs.length; i++) {\n",
       "        toinsert[toinsert.length - 1].firstChild.setAttribute(script_attrs[i].name, script_attrs[i].value);\n",
       "      }\n",
       "      // store reference to server id on output_area\n",
       "      output_area._bokeh_server_id = output.metadata[EXEC_MIME_TYPE][\"server_id\"];\n",
       "    }\n",
       "  }\n",
       "\n",
       "  function register_renderer(events, OutputArea) {\n",
       "\n",
       "    function append_mime(data, metadata, element) {\n",
       "      // create a DOM node to render to\n",
       "      var toinsert = this.create_output_subarea(\n",
       "        metadata,\n",
       "        CLASS_NAME,\n",
       "        EXEC_MIME_TYPE\n",
       "      );\n",
       "      this.keyboard_manager.register_events(toinsert);\n",
       "      // Render to node\n",
       "      var props = {data: data, metadata: metadata[EXEC_MIME_TYPE]};\n",
       "      render(props, toinsert[toinsert.length - 1]);\n",
       "      element.append(toinsert);\n",
       "      return toinsert\n",
       "    }\n",
       "\n",
       "    /* Handle when an output is cleared or removed */\n",
       "    events.on('clear_output.CodeCell', handleClearOutput);\n",
       "    events.on('delete.Cell', handleClearOutput);\n",
       "\n",
       "    /* Handle when a new output is added */\n",
       "    events.on('output_added.OutputArea', handleAddOutput);\n",
       "\n",
       "    /**\n",
       "     * Register the mime type and append_mime function with output_area\n",
       "     */\n",
       "    OutputArea.prototype.register_mime_type(EXEC_MIME_TYPE, append_mime, {\n",
       "      /* Is output safe? */\n",
       "      safe: true,\n",
       "      /* Index of renderer in `output_area.display_order` */\n",
       "      index: 0\n",
       "    });\n",
       "  }\n",
       "\n",
       "  // register the mime type if in Jupyter Notebook environment and previously unregistered\n",
       "  if (root.Jupyter !== undefined) {\n",
       "    var events = require('base/js/events');\n",
       "    var OutputArea = require('notebook/js/outputarea').OutputArea;\n",
       "\n",
       "    if (OutputArea.prototype.mime_types().indexOf(EXEC_MIME_TYPE) == -1) {\n",
       "      register_renderer(events, OutputArea);\n",
       "    }\n",
       "  }\n",
       "\n",
       "  \n",
       "  if (typeof (root._bokeh_timeout) === \"undefined\" || force === true) {\n",
       "    root._bokeh_timeout = Date.now() + 5000;\n",
       "    root._bokeh_failed_load = false;\n",
       "  }\n",
       "\n",
       "  var NB_LOAD_WARNING = {'data': {'text/html':\n",
       "     \"<div style='background-color: #fdd'>\\n\"+\n",
       "     \"<p>\\n\"+\n",
       "     \"BokehJS does not appear to have successfully loaded. If loading BokehJS from CDN, this \\n\"+\n",
       "     \"may be due to a slow or bad network connection. Possible fixes:\\n\"+\n",
       "     \"</p>\\n\"+\n",
       "     \"<ul>\\n\"+\n",
       "     \"<li>re-rerun `output_notebook()` to attempt to load from CDN again, or</li>\\n\"+\n",
       "     \"<li>use INLINE resources instead, as so:</li>\\n\"+\n",
       "     \"</ul>\\n\"+\n",
       "     \"<code>\\n\"+\n",
       "     \"from bokeh.resources import INLINE\\n\"+\n",
       "     \"output_notebook(resources=INLINE)\\n\"+\n",
       "     \"</code>\\n\"+\n",
       "     \"</div>\"}};\n",
       "\n",
       "  function display_loaded() {\n",
       "    var el = document.getElementById(\"cbd8d133-bdfa-49e8-9257-5e3cef3a5400\");\n",
       "    if (el != null) {\n",
       "      el.textContent = \"BokehJS is loading...\";\n",
       "    }\n",
       "    if (root.Bokeh !== undefined) {\n",
       "      if (el != null) {\n",
       "        el.textContent = \"BokehJS \" + root.Bokeh.version + \" successfully loaded.\";\n",
       "      }\n",
       "    } else if (Date.now() < root._bokeh_timeout) {\n",
       "      setTimeout(display_loaded, 100)\n",
       "    }\n",
       "  }\n",
       "\n",
       "\n",
       "  function run_callbacks() {\n",
       "    try {\n",
       "      root._bokeh_onload_callbacks.forEach(function(callback) { callback() });\n",
       "    }\n",
       "    finally {\n",
       "      delete root._bokeh_onload_callbacks\n",
       "    }\n",
       "    console.info(\"Bokeh: all callbacks have finished\");\n",
       "  }\n",
       "\n",
       "  function load_libs(js_urls, callback) {\n",
       "    root._bokeh_onload_callbacks.push(callback);\n",
       "    if (root._bokeh_is_loading > 0) {\n",
       "      console.log(\"Bokeh: BokehJS is being loaded, scheduling callback at\", now());\n",
       "      return null;\n",
       "    }\n",
       "    if (js_urls == null || js_urls.length === 0) {\n",
       "      run_callbacks();\n",
       "      return null;\n",
       "    }\n",
       "    console.log(\"Bokeh: BokehJS not loaded, scheduling load and callback at\", now());\n",
       "    root._bokeh_is_loading = js_urls.length;\n",
       "    for (var i = 0; i < js_urls.length; i++) {\n",
       "      var url = js_urls[i];\n",
       "      var s = document.createElement('script');\n",
       "      s.src = url;\n",
       "      s.async = false;\n",
       "      s.onreadystatechange = s.onload = function() {\n",
       "        root._bokeh_is_loading--;\n",
       "        if (root._bokeh_is_loading === 0) {\n",
       "          console.log(\"Bokeh: all BokehJS libraries loaded\");\n",
       "          run_callbacks()\n",
       "        }\n",
       "      };\n",
       "      s.onerror = function() {\n",
       "        console.warn(\"failed to load library \" + url);\n",
       "      };\n",
       "      console.log(\"Bokeh: injecting script tag for BokehJS library: \", url);\n",
       "      document.getElementsByTagName(\"head\")[0].appendChild(s);\n",
       "    }\n",
       "  };var element = document.getElementById(\"cbd8d133-bdfa-49e8-9257-5e3cef3a5400\");\n",
       "  if (element == null) {\n",
       "    console.log(\"Bokeh: ERROR: autoload.js configured with elementid 'cbd8d133-bdfa-49e8-9257-5e3cef3a5400' but no matching script tag was found. \")\n",
       "    return false;\n",
       "  }\n",
       "\n",
       "  var js_urls = [\"https://cdn.pydata.org/bokeh/release/bokeh-0.13.0.min.js\", \"https://cdn.pydata.org/bokeh/release/bokeh-widgets-0.13.0.min.js\", \"https://cdn.pydata.org/bokeh/release/bokeh-tables-0.13.0.min.js\", \"https://cdn.pydata.org/bokeh/release/bokeh-gl-0.13.0.min.js\"];\n",
       "\n",
       "  var inline_js = [\n",
       "    function(Bokeh) {\n",
       "      Bokeh.set_log_level(\"info\");\n",
       "    },\n",
       "    \n",
       "    function(Bokeh) {\n",
       "      \n",
       "    },\n",
       "    function(Bokeh) {\n",
       "      console.log(\"Bokeh: injecting CSS: https://cdn.pydata.org/bokeh/release/bokeh-0.13.0.min.css\");\n",
       "      Bokeh.embed.inject_css(\"https://cdn.pydata.org/bokeh/release/bokeh-0.13.0.min.css\");\n",
       "      console.log(\"Bokeh: injecting CSS: https://cdn.pydata.org/bokeh/release/bokeh-widgets-0.13.0.min.css\");\n",
       "      Bokeh.embed.inject_css(\"https://cdn.pydata.org/bokeh/release/bokeh-widgets-0.13.0.min.css\");\n",
       "      console.log(\"Bokeh: injecting CSS: https://cdn.pydata.org/bokeh/release/bokeh-tables-0.13.0.min.css\");\n",
       "      Bokeh.embed.inject_css(\"https://cdn.pydata.org/bokeh/release/bokeh-tables-0.13.0.min.css\");\n",
       "    }\n",
       "  ];\n",
       "\n",
       "  function run_inline_js() {\n",
       "    \n",
       "    if ((root.Bokeh !== undefined) || (force === true)) {\n",
       "      for (var i = 0; i < inline_js.length; i++) {\n",
       "        inline_js[i].call(root, root.Bokeh);\n",
       "      }if (force === true) {\n",
       "        display_loaded();\n",
       "      }} else if (Date.now() < root._bokeh_timeout) {\n",
       "      setTimeout(run_inline_js, 100);\n",
       "    } else if (!root._bokeh_failed_load) {\n",
       "      console.log(\"Bokeh: BokehJS failed to load within specified timeout.\");\n",
       "      root._bokeh_failed_load = true;\n",
       "    } else if (force !== true) {\n",
       "      var cell = $(document.getElementById(\"cbd8d133-bdfa-49e8-9257-5e3cef3a5400\")).parents('.cell').data().cell;\n",
       "      cell.output_area.append_execute_result(NB_LOAD_WARNING)\n",
       "    }\n",
       "\n",
       "  }\n",
       "\n",
       "  if (root._bokeh_is_loading === 0) {\n",
       "    console.log(\"Bokeh: BokehJS loaded, going straight to plotting\");\n",
       "    run_inline_js();\n",
       "  } else {\n",
       "    load_libs(js_urls, function() {\n",
       "      console.log(\"Bokeh: BokehJS plotting callback run at\", now());\n",
       "      run_inline_js();\n",
       "    });\n",
       "  }\n",
       "}(window));"
      ],
      "application/vnd.bokehjs_load.v0+json": "\n(function(root) {\n  function now() {\n    return new Date();\n  }\n\n  var force = true;\n\n  if (typeof (root._bokeh_onload_callbacks) === \"undefined\" || force === true) {\n    root._bokeh_onload_callbacks = [];\n    root._bokeh_is_loading = undefined;\n  }\n\n  \n\n  \n  if (typeof (root._bokeh_timeout) === \"undefined\" || force === true) {\n    root._bokeh_timeout = Date.now() + 5000;\n    root._bokeh_failed_load = false;\n  }\n\n  var NB_LOAD_WARNING = {'data': {'text/html':\n     \"<div style='background-color: #fdd'>\\n\"+\n     \"<p>\\n\"+\n     \"BokehJS does not appear to have successfully loaded. If loading BokehJS from CDN, this \\n\"+\n     \"may be due to a slow or bad network connection. Possible fixes:\\n\"+\n     \"</p>\\n\"+\n     \"<ul>\\n\"+\n     \"<li>re-rerun `output_notebook()` to attempt to load from CDN again, or</li>\\n\"+\n     \"<li>use INLINE resources instead, as so:</li>\\n\"+\n     \"</ul>\\n\"+\n     \"<code>\\n\"+\n     \"from bokeh.resources import INLINE\\n\"+\n     \"output_notebook(resources=INLINE)\\n\"+\n     \"</code>\\n\"+\n     \"</div>\"}};\n\n  function display_loaded() {\n    var el = document.getElementById(\"cbd8d133-bdfa-49e8-9257-5e3cef3a5400\");\n    if (el != null) {\n      el.textContent = \"BokehJS is loading...\";\n    }\n    if (root.Bokeh !== undefined) {\n      if (el != null) {\n        el.textContent = \"BokehJS \" + root.Bokeh.version + \" successfully loaded.\";\n      }\n    } else if (Date.now() < root._bokeh_timeout) {\n      setTimeout(display_loaded, 100)\n    }\n  }\n\n\n  function run_callbacks() {\n    try {\n      root._bokeh_onload_callbacks.forEach(function(callback) { callback() });\n    }\n    finally {\n      delete root._bokeh_onload_callbacks\n    }\n    console.info(\"Bokeh: all callbacks have finished\");\n  }\n\n  function load_libs(js_urls, callback) {\n    root._bokeh_onload_callbacks.push(callback);\n    if (root._bokeh_is_loading > 0) {\n      console.log(\"Bokeh: BokehJS is being loaded, scheduling callback at\", now());\n      return null;\n    }\n    if (js_urls == null || js_urls.length === 0) {\n      run_callbacks();\n      return null;\n    }\n    console.log(\"Bokeh: BokehJS not loaded, scheduling load and callback at\", now());\n    root._bokeh_is_loading = js_urls.length;\n    for (var i = 0; i < js_urls.length; i++) {\n      var url = js_urls[i];\n      var s = document.createElement('script');\n      s.src = url;\n      s.async = false;\n      s.onreadystatechange = s.onload = function() {\n        root._bokeh_is_loading--;\n        if (root._bokeh_is_loading === 0) {\n          console.log(\"Bokeh: all BokehJS libraries loaded\");\n          run_callbacks()\n        }\n      };\n      s.onerror = function() {\n        console.warn(\"failed to load library \" + url);\n      };\n      console.log(\"Bokeh: injecting script tag for BokehJS library: \", url);\n      document.getElementsByTagName(\"head\")[0].appendChild(s);\n    }\n  };var element = document.getElementById(\"cbd8d133-bdfa-49e8-9257-5e3cef3a5400\");\n  if (element == null) {\n    console.log(\"Bokeh: ERROR: autoload.js configured with elementid 'cbd8d133-bdfa-49e8-9257-5e3cef3a5400' but no matching script tag was found. \")\n    return false;\n  }\n\n  var js_urls = [\"https://cdn.pydata.org/bokeh/release/bokeh-0.13.0.min.js\", \"https://cdn.pydata.org/bokeh/release/bokeh-widgets-0.13.0.min.js\", \"https://cdn.pydata.org/bokeh/release/bokeh-tables-0.13.0.min.js\", \"https://cdn.pydata.org/bokeh/release/bokeh-gl-0.13.0.min.js\"];\n\n  var inline_js = [\n    function(Bokeh) {\n      Bokeh.set_log_level(\"info\");\n    },\n    \n    function(Bokeh) {\n      \n    },\n    function(Bokeh) {\n      console.log(\"Bokeh: injecting CSS: https://cdn.pydata.org/bokeh/release/bokeh-0.13.0.min.css\");\n      Bokeh.embed.inject_css(\"https://cdn.pydata.org/bokeh/release/bokeh-0.13.0.min.css\");\n      console.log(\"Bokeh: injecting CSS: https://cdn.pydata.org/bokeh/release/bokeh-widgets-0.13.0.min.css\");\n      Bokeh.embed.inject_css(\"https://cdn.pydata.org/bokeh/release/bokeh-widgets-0.13.0.min.css\");\n      console.log(\"Bokeh: injecting CSS: https://cdn.pydata.org/bokeh/release/bokeh-tables-0.13.0.min.css\");\n      Bokeh.embed.inject_css(\"https://cdn.pydata.org/bokeh/release/bokeh-tables-0.13.0.min.css\");\n    }\n  ];\n\n  function run_inline_js() {\n    \n    if ((root.Bokeh !== undefined) || (force === true)) {\n      for (var i = 0; i < inline_js.length; i++) {\n        inline_js[i].call(root, root.Bokeh);\n      }if (force === true) {\n        display_loaded();\n      }} else if (Date.now() < root._bokeh_timeout) {\n      setTimeout(run_inline_js, 100);\n    } else if (!root._bokeh_failed_load) {\n      console.log(\"Bokeh: BokehJS failed to load within specified timeout.\");\n      root._bokeh_failed_load = true;\n    } else if (force !== true) {\n      var cell = $(document.getElementById(\"cbd8d133-bdfa-49e8-9257-5e3cef3a5400\")).parents('.cell').data().cell;\n      cell.output_area.append_execute_result(NB_LOAD_WARNING)\n    }\n\n  }\n\n  if (root._bokeh_is_loading === 0) {\n    console.log(\"Bokeh: BokehJS loaded, going straight to plotting\");\n    run_inline_js();\n  } else {\n    load_libs(js_urls, function() {\n      console.log(\"Bokeh: BokehJS plotting callback run at\", now());\n      run_inline_js();\n    });\n  }\n}(window));"
     },
     "metadata": {},
     "output_type": "display_data"
    }
   ],
   "source": [
    "# prep\n",
    "import pandas as pd\n",
    "from pandas.api.types import CategoricalDtype\n",
    "\n",
    "import bokeh\n",
    "\n",
    "from bokeh.io import output_notebook\n",
    "from bokeh.models.callbacks import CustomJS\n",
    "from bokeh.models import ColumnDataSource, HoverTool, PrintfTickFormatter\n",
    "\n",
    "from bokeh.layouts import widgetbox, column\n",
    "from bokeh.models.widgets import RadioButtonGroup, Slider\n",
    "\n",
    "from bokeh.plotting import figure, output_file, show\n",
    "\n",
    "output_notebook()"
   ]
  },
  {
   "cell_type": "code",
   "execution_count": 3,
   "metadata": {
    "collapsed": true
   },
   "outputs": [],
   "source": [
    "# load data\n",
    "gdp           = pd.read_csv('data/gdp.csv')\n",
    "log_gdp       = pd.read_csv('data/log_gdp.csv')\n",
    "gdp_growth    = pd.read_csv('data/gdp_growth.csv')\n",
    "df_electric   = pd.read_csv('data/electric.csv')\n",
    "df_internet   = pd.read_csv('data/internet.csv')\n",
    "df_cellphones = pd.read_csv('data/cellphones.csv')"
   ]
  },
  {
   "cell_type": "code",
   "execution_count": 4,
   "metadata": {
    "collapsed": true
   },
   "outputs": [],
   "source": [
    "# rename gdp growth columns\n",
    "years = list(range(1990, 2018, 1))\n",
    "years = [str(year) for year in years]\n",
    "renamed_years = ['gdp_growth_' + year for year in years]\n",
    "zipped_dict   = dict(zip(years, renamed_years))\n",
    "gdp_growth    = gdp_growth.rename(columns=zipped_dict)"
   ]
  },
  {
   "cell_type": "code",
   "execution_count": 5,
   "metadata": {},
   "outputs": [],
   "source": [
    "# add gdp growth levels in 2017 to each df\n",
    "# gdp_growth = gdp_growth.rename(columns={'2017': 'gdp_growth_2017'})\n",
    "renamed_years.append('country')\n",
    "\n",
    "drop       = ['Eritrea', 'Somalia', 'South Sudan'] # drop countries with missing data\n",
    "gdp_growth = gdp_growth[~gdp_growth.country.isin(drop)]\n",
    "\n",
    "df_electric   = pd.merge(df_electric,   gdp_growth[renamed_years], on='country', how='inner')\n",
    "df_internet   = pd.merge(df_internet,   gdp_growth[renamed_years], on='country', how='inner')\n",
    "\n",
    "df_cellphones = pd.merge(df_cellphones, gdp_growth[renamed_years], on='country', how='inner')"
   ]
  },
  {
   "cell_type": "code",
   "execution_count": 12,
   "metadata": {
    "collapsed": true
   },
   "outputs": [],
   "source": [
    "# replace NaNs for Bokeh (ref: https://stackoverflow.com/questions/38821132/bokeh-valueerror-out-of-range-float-values-are-not-json-compliant)\n",
    "df_electric = df_electric.fillna('')"
   ]
  },
  {
   "cell_type": "code",
   "execution_count": 6,
   "metadata": {
    "collapsed": true
   },
   "outputs": [],
   "source": [
    "# # add panes for the other metrics\n",
    "# radio_button_group = RadioButtonGroup(\n",
    "#         labels=[\"Option 1\", \"Option 2\", \"Option 3\"], active=0)"
   ]
  },
  {
   "cell_type": "code",
   "execution_count": 31,
   "metadata": {
    "collapsed": true
   },
   "outputs": [],
   "source": [
    "# helper function\n",
    "def safe_cds(x):\n",
    "    x = ColumnDataSource(x)\n",
    "    for k in x.data.keys():\n",
    "        x.data[k] = list(x.data[k])\n",
    "    return x\n",
    "\n",
    "def make_dataset(df, year_selected):\n",
    "    df['x_axis_to_plot'] = df[str(year_selected)] # copy year_selected into special display column\n",
    "    df['y_axis_to_plot'] = df['gdp_growth_' + str(gdp_year_selected)] \n",
    "    return safe_cds(df)"
   ]
  },
  {
   "cell_type": "code",
   "execution_count": 51,
   "metadata": {
    "collapsed": true
   },
   "outputs": [],
   "source": [
    "def make_widgets(source):\n",
    "\n",
    "    #- create the interactive widgets\n",
    "    year_select = Slider(start=1990, end=2016, value=1990, step=1, title=\"Choose a Year for Electricity\")\n",
    "    gdp_select  = Slider(start=1990, end=2017, value=1990, step=1, title=\"Choose a Year for GDP\")\n",
    "\n",
    "    #- define update functions: this is written in python but will be read with Javascript to update plots in html\n",
    "    #- remember: must pass all vars that are updated as parameters\n",
    "    def update_year(year_select=year_select, gdp_select=gdp_select, source=source):\n",
    "        year_selected = year_select.value     # get value of active slider value\n",
    "        new_data = source.data[year_selected] # get corresponding data from CDS for that year\n",
    "        source.data['x_axis_to_plot'] = [n for n in new_data] # copy data into special column that will be displayd\n",
    "        \n",
    "        gdp_year_selected = gdp_select.value    \n",
    "        new_gdp_data = source.data['gdp_growth_' + str(gdp_year_selected)]    \n",
    "        source.data['y_axis_to_plot'] = [n for n in new_gdp_data] \n",
    "        \n",
    "        source.change.emit()  # refresh plot        \n",
    "    \n",
    "    #- set callbacks\n",
    "    year_select.callback = CustomJS.from_py_func(update_year)\n",
    "    gdp_select.callback = CustomJS.from_py_func(update_year)\n",
    "\n",
    "    \n",
    "    return year_select, gdp_select"
   ]
  },
  {
   "cell_type": "code",
   "execution_count": 56,
   "metadata": {
    "collapsed": true
   },
   "outputs": [],
   "source": [
    "def make_plot(source):\n",
    "\n",
    "    # set figure\n",
    "    p = figure(title='GDP Growth and Electricity Access', \n",
    "               plot_width=750, plot_height=500, \n",
    "               x_axis_label = 'Electricity Access (% of Pop)', \n",
    "               y_axis_label ='GDP Growth',\n",
    "               toolbar_location=\"above\", \n",
    "               tools = \"pan, box_zoom, reset\")\n",
    "    \n",
    "    # format axis\n",
    "    p.yaxis.formatter = PrintfTickFormatter(format='%0.0f %%')\n",
    "    p.xaxis.formatter = PrintfTickFormatter(format='%0.0f %%')\n",
    "    \n",
    "    # add widgets\n",
    "    year_select, gdp_select = make_widgets(source)\n",
    "\n",
    "    # add glyphs\n",
    "    p.circle(x      = 'x_axis_to_plot', \n",
    "             y      = 'y_axis_to_plot',\n",
    "             source = source, \n",
    "             size   = 12, \n",
    "             alpha = 0.5)\n",
    "    \n",
    "    # add hover\n",
    "    TOOLTIPS = [\n",
    "        ('Country', '@country'),\n",
    "        ('Income Level', '@income_level'),\n",
    "        ('GDP Growth Rate', '@y_axis_to_plot'),\n",
    "        ('% Pop with Electricty Access', '@x_axis_to_plot')]\n",
    "    \n",
    "    p.add_tools(HoverTool(tooltips=TOOLTIPS, toggleable=False))\n",
    "\n",
    "    layout = column(p, widgetbox(year_select, gdp_select, width=750))\n",
    "    \n",
    "    show(layout)"
   ]
  },
  {
   "cell_type": "code",
   "execution_count": 57,
   "metadata": {
    "scrolled": true
   },
   "outputs": [
    {
     "data": {
      "text/html": [
       "\n",
       "\n",
       "\n",
       "\n",
       "\n",
       "\n",
       "  <div class=\"bk-root\" id=\"293114f1-9759-4e44-8e3b-08fbfd84f40f\"></div>\n"
      ]
     },
     "metadata": {},
     "output_type": "display_data"
    },
    {
     "data": {
      "application/javascript": [
       "(function(root) {\n",
       "  function embed_document(root) {\n",
       "    \n",
       "  var docs_json = {\"8310cd40-eea9-4a43-b794-730e9a562cb6\":{\"roots\":{\"references\":[{\"attributes\":{\"axis_label\":\"Electricity Access (% of Pop)\",\"formatter\":{\"id\":\"1675fd8d-f430-40f6-80ee-e4939f07e179\",\"type\":\"PrintfTickFormatter\"},\"plot\":{\"id\":\"37164399-86c7-4259-9d1a-e9ccb0f7bcdf\",\"subtype\":\"Figure\",\"type\":\"Plot\"},\"ticker\":{\"id\":\"228c23e0-695c-4d18-a6a1-6a1528d53e79\",\"type\":\"BasicTicker\"}},\"id\":\"1baaa5e6-aa90-41ab-85d3-dfeb537e38c0\",\"type\":\"LinearAxis\"},{\"attributes\":{},\"id\":\"c7fa9f4f-9cbe-45cc-9f12-7525dd360dec\",\"type\":\"UnionRenderers\"},{\"attributes\":{\"source\":{\"id\":\"48e12657-8aa6-421b-8849-84b1aa43ac31\",\"type\":\"ColumnDataSource\"}},\"id\":\"223d99b9-83bc-4eff-ac64-c3c3586ca4c3\",\"type\":\"CDSView\"},{\"attributes\":{\"data_source\":{\"id\":\"48e12657-8aa6-421b-8849-84b1aa43ac31\",\"type\":\"ColumnDataSource\"},\"glyph\":{\"id\":\"c039a6c4-89c0-4e8e-9989-8980b6b00454\",\"type\":\"Circle\"},\"hover_glyph\":null,\"muted_glyph\":null,\"nonselection_glyph\":{\"id\":\"6a325460-4b66-4a64-ac4a-83b498d25b6b\",\"type\":\"Circle\"},\"selection_glyph\":null,\"view\":{\"id\":\"223d99b9-83bc-4eff-ac64-c3c3586ca4c3\",\"type\":\"CDSView\"}},\"id\":\"e01ed448-49f8-43b0-b1f8-958368250162\",\"type\":\"GlyphRenderer\"},{\"attributes\":{\"below\":[{\"id\":\"1baaa5e6-aa90-41ab-85d3-dfeb537e38c0\",\"type\":\"LinearAxis\"}],\"left\":[{\"id\":\"d1cd882f-07c9-4295-83dc-ed512b4acdda\",\"type\":\"LinearAxis\"}],\"plot_height\":500,\"plot_width\":750,\"renderers\":[{\"id\":\"1baaa5e6-aa90-41ab-85d3-dfeb537e38c0\",\"type\":\"LinearAxis\"},{\"id\":\"9a947f4d-031c-4b29-800a-398e2a3b8589\",\"type\":\"Grid\"},{\"id\":\"d1cd882f-07c9-4295-83dc-ed512b4acdda\",\"type\":\"LinearAxis\"},{\"id\":\"701a0138-8987-44af-a1ff-4f3d79e6fc0b\",\"type\":\"Grid\"},{\"id\":\"46f13a35-960f-44a1-bf6a-e0182a11bad8\",\"type\":\"BoxAnnotation\"},{\"id\":\"e01ed448-49f8-43b0-b1f8-958368250162\",\"type\":\"GlyphRenderer\"}],\"title\":{\"id\":\"04ea5efa-eb56-4dd9-98c8-b37d44c47415\",\"type\":\"Title\"},\"toolbar\":{\"id\":\"fcd3df77-9105-41c8-8a1b-1248645e2ad1\",\"type\":\"Toolbar\"},\"toolbar_location\":\"above\",\"x_range\":{\"id\":\"a8129e0c-d33d-4309-a5b5-8654e84384a9\",\"type\":\"DataRange1d\"},\"x_scale\":{\"id\":\"6961d946-f80a-47aa-8434-3c66d6de5b6f\",\"type\":\"LinearScale\"},\"y_range\":{\"id\":\"1ce6be1c-a1a0-488b-9697-7453a4f743ae\",\"type\":\"DataRange1d\"},\"y_scale\":{\"id\":\"3a3c45ea-7465-4efe-85d8-0ff66cf8fd59\",\"type\":\"LinearScale\"}},\"id\":\"37164399-86c7-4259-9d1a-e9ccb0f7bcdf\",\"subtype\":\"Figure\",\"type\":\"Plot\"},{\"attributes\":{\"args\":{\"gdp_select\":{\"id\":\"3ab355a2-5396-4b8b-b8e7-e81e451a0870\",\"type\":\"Slider\"},\"source\":{\"id\":\"48e12657-8aa6-421b-8849-84b1aa43ac31\",\"type\":\"ColumnDataSource\"},\"year_select\":{\"id\":\"716693ab-ad9c-43c5-bff6-6b5f8630754c\",\"type\":\"Slider\"}},\"code\":\"var _pyfunc_str = String;\\nvar cb;\\ncb = function flx_cb (year_select, gdp_select, source) {\\n    var gdp_year_selected, new_data, new_gdp_data, stub1_, stub1_i0, stub1_iter0, stub1_n, stub2_, stub2_i0, stub2_iter0, stub2_n, year_selected;\\n    year_select = (year_select === undefined) ? year_select: year_select;\\n    gdp_select = (gdp_select === undefined) ? gdp_select: gdp_select;\\n    source = (source === undefined) ? source: source;\\n    year_selected = year_select.value;\\n    new_data = source.data[year_selected];\\n    stub1_ = [];stub1_iter0 = new_data;if ((typeof stub1_iter0 === \\\"object\\\") && (!Array.isArray(stub1_iter0))) {stub1_iter0 = Object.keys(stub1_iter0);}for (stub1_i0=0; stub1_i0<stub1_iter0.length; stub1_i0++) {stub1_n = stub1_iter0[stub1_i0];{stub1_.push(stub1_n);}}\\n    source.data[\\\"x_axis_to_plot\\\"] = stub1_;\\n    gdp_year_selected = gdp_select.value;\\n    new_gdp_data = source.data[\\\"gdp_growth_\\\" + _pyfunc_str(gdp_year_selected)];\\n    stub2_ = [];stub2_iter0 = new_gdp_data;if ((typeof stub2_iter0 === \\\"object\\\") && (!Array.isArray(stub2_iter0))) {stub2_iter0 = Object.keys(stub2_iter0);}for (stub2_i0=0; stub2_i0<stub2_iter0.length; stub2_i0++) {stub2_n = stub2_iter0[stub2_i0];{stub2_.push(stub2_n);}}\\n    source.data[\\\"y_axis_to_plot\\\"] = stub2_;\\n    source.change.emit();\\n    return null;\\n};\\ncb(year_select, gdp_select, source);\\n\"},\"id\":\"66f6f1f6-1f35-4edf-9c66-830cfaa098d1\",\"type\":\"CustomJS\"},{\"attributes\":{\"dimension\":1,\"plot\":{\"id\":\"37164399-86c7-4259-9d1a-e9ccb0f7bcdf\",\"subtype\":\"Figure\",\"type\":\"Plot\"},\"ticker\":{\"id\":\"579bc36a-e3f4-46f6-9ac2-64f18a94cccc\",\"type\":\"BasicTicker\"}},\"id\":\"701a0138-8987-44af-a1ff-4f3d79e6fc0b\",\"type\":\"Grid\"},{\"attributes\":{\"children\":[{\"id\":\"716693ab-ad9c-43c5-bff6-6b5f8630754c\",\"type\":\"Slider\"},{\"id\":\"3ab355a2-5396-4b8b-b8e7-e81e451a0870\",\"type\":\"Slider\"}],\"width\":750},\"id\":\"db974b73-0656-4322-a324-20011856af20\",\"type\":\"WidgetBox\"},{\"attributes\":{\"plot\":{\"id\":\"37164399-86c7-4259-9d1a-e9ccb0f7bcdf\",\"subtype\":\"Figure\",\"type\":\"Plot\"},\"ticker\":{\"id\":\"228c23e0-695c-4d18-a6a1-6a1528d53e79\",\"type\":\"BasicTicker\"}},\"id\":\"9a947f4d-031c-4b29-800a-398e2a3b8589\",\"type\":\"Grid\"},{\"attributes\":{},\"id\":\"3a3c45ea-7465-4efe-85d8-0ff66cf8fd59\",\"type\":\"LinearScale\"},{\"attributes\":{\"fill_alpha\":{\"value\":0.1},\"fill_color\":{\"value\":\"#1f77b4\"},\"line_alpha\":{\"value\":0.1},\"line_color\":{\"value\":\"#1f77b4\"},\"size\":{\"units\":\"screen\",\"value\":12},\"x\":{\"field\":\"x_axis_to_plot\"},\"y\":{\"field\":\"y_axis_to_plot\"}},\"id\":\"6a325460-4b66-4a64-ac4a-83b498d25b6b\",\"type\":\"Circle\"},{\"attributes\":{},\"id\":\"0ad709f2-6e51-4159-a9e6-9667deb01ec0\",\"type\":\"ResetTool\"},{\"attributes\":{\"children\":[{\"id\":\"37164399-86c7-4259-9d1a-e9ccb0f7bcdf\",\"subtype\":\"Figure\",\"type\":\"Plot\"},{\"id\":\"db974b73-0656-4322-a324-20011856af20\",\"type\":\"WidgetBox\"}]},\"id\":\"9d74afe8-9328-45fa-ad63-006fa0b1e398\",\"type\":\"Column\"},{\"attributes\":{},\"id\":\"6961d946-f80a-47aa-8434-3c66d6de5b6f\",\"type\":\"LinearScale\"},{\"attributes\":{\"callback\":null,\"renderers\":\"auto\",\"toggleable\":false,\"tooltips\":[[\"Country\",\"@country\"],[\"Income Level\",\"@income_level\"],[\"GDP Growth Rate\",\"@y_axis_to_plot\"],[\"% Pop with Electricty Access\",\"@x_axis_to_plot\"]]},\"id\":\"be36ded6-3be4-4841-9688-5e1b6415cb5b\",\"type\":\"HoverTool\"},{\"attributes\":{},\"id\":\"6bb8f3bb-6d99-4d3d-bee1-4d6c07c877be\",\"type\":\"Selection\"},{\"attributes\":{\"callback\":{\"id\":\"21f668a3-d856-4c05-963a-969443f2042f\",\"type\":\"CustomJS\"},\"end\":2017,\"start\":1990,\"title\":\"Choose a Year for GDP\",\"value\":1990},\"id\":\"3ab355a2-5396-4b8b-b8e7-e81e451a0870\",\"type\":\"Slider\"},{\"attributes\":{\"callback\":null},\"id\":\"1ce6be1c-a1a0-488b-9697-7453a4f743ae\",\"type\":\"DataRange1d\"},{\"attributes\":{\"callback\":null,\"data\":{\"1990\":[11.397808074951199,7.31127214431763,6.043880462646491,2.6105573177337598,0.348627060651779,30.1297168731689,0.00999999977648258,0.00999999977648258,15.299549102783198,0.00999999977648258,0.00999999977648258,37.6637115478516,58.5914421081543,0.00999999977648258,64.61288452148439,16.2323532104492,23.536262512207,6.42906713485718,0.00999999977648258,3.31838989257812,0.00999999977648258,0.00999999977648258,9.57178211212158,1.1207196712493899,0.00999999977648258,3.8861868381500204,99.2344207763672,0.00999999977648258,25.234790802002,2.2900023460388197,27.3,0.00999999977648258,42.757965087890604,25.130535125732397,89.5455856323242,7.081538200378421,59.3379402160645,32.8,2.4837088584899902,0.00999999977648258,1.2664570808410602,13.9,30.3578319549561],\"1991\":[12.5793790817261,8.68394088745117,10.1,3.3087186813354506,0.688546001911163,29.0,0.538830280303955,0.0307872705161572,17.7665767669678,0.582454681396484,0.8346933722496029,38.7843894958496,59.0105171203613,0.00999999977648258,65.70444488525389,17.5063056945801,25.6872043609619,7.4742112159729,0.265749454498291,4.61489009857178,0.00999999977648258,0.00999999977648258,10.014093399047901,1.5494590997695903,0.0236798115074635,5.40018510818481,99.27847290039058,0.0102698123082519,26.317316055297898,2.8871281147003196,33.558380126953104,0.00999999977648258,43.6918334960938,26.657602310180696,90.0195541381836,7.52079248428345,60.575080871582,27.0560111999512,3.23441529273987,0.942452967166901,5.6,14.1154260635376,30.718805313110398],\"1992\":[13.7604398727417,10.0560998916626,10.3697214126587,4.00637006759644,1.02795505523682,32.5555992126465,1.08137118816376,0.108397804200649,20.2330932617188,1.18300318717957,1.6276037693023702,39.90456008911129,59.4290771484375,0.0273247733712196,66.79550170898439,18.779748916626,27.8376350402832,8.5188455581665,0.541686713695526,5.91088104248047,0.00999999977648258,0.00999999977648258,9.2,3.2,0.13086751103401198,6.91367387771606,99.32201385498051,0.0298860743641853,26.4,4.4,34.6189117431641,2.3,44.6251907348633,28.184158325195302,90.49301147460942,7.9595365524292,61.811710357665994,27.578321456909197,6.8,2.84530162811279,2.76766586303711,19.2,28.2],\"1993\":[14.9384412765503,11.425199508667,12.529327392578098,6.1,1.3643051385879499,33.7652244567871,1.68202197551727,0.29748061299323997,22.6965522766113,1.91118037700653,3.9797055721283,41.021671295166,59.8445816040039,0.15724191069603,67.8834991455078,17.7,30.6,9.56042003631592,1.1927692890167199,10.9,0.00999999977648258,0.00999999977648258,10.8946380615234,2.40285897254944,0.511635363101959,8.42410373687744,99.3625030517578,0.15972380340099301,28.4782886505127,4.077301025390629,35.6763877868652,0.0427721999585629,45.5554885864258,26.0,90.96340942382808,8.39522171020508,63.045284271240206,28.0975704193115,4.73174905776978,4.74509143829346,3.5149564743042006,15.287503242492699,31.4366779327393],\"1994\":[16.1103248596191,12.788180351257301,14.6828155517578,5.38943719863892,1.69453692436218,34.9687347412109,2.27655458450317,0.575130105018616,25.1538925170898,2.6332392692565896,6.325689315795901,36.5,60.2539672851562,0.598653972148895,68.9653701782227,21.3143997192383,32.1262588500977,10.595876693725598,1.8377336263656598,8.49062538146973,0.00999999977648258,0.00999999977648258,11.327262878417999,2.82191109657288,0.8855078816413879,9.92841529846191,99.3968658447266,0.5594853162765501,29.5511283874512,4.664740085601809,36.727745056152294,0.18825627863407102,46.479671478271506,31.225034713745103,90.0,8.824788093566891,64.27273559570311,28.6107025146484,5.4727678298950195,6.6387624740600595,4.25612878799438,15.865894317627001,28.1],\"1995\":[17.2730312347412,14.1419849395752,16.827127456665,6.06873416900635,2.01559138298035,36.16306686401371,3.0,1.00354039669037,27.602054595947298,3.34612107276917,8.66249561309814,43.2344818115234,60.6541748046875,1.11878561973572,70.0380706787109,22.569486618042003,34.2583389282227,11.6221561431885,2.47352051734924,9.76826190948486,0.00999999977648258,0.00999999977648258,11.750709533691401,3.23178601264954,2.4924738407135,11.4235486984253,99.42205810546879,1.1791011095047,30.6147899627686,6.2,37.769924163818395,0.5774781107902529,47.3946723937988,32.7332382202148,91.8827972412109,9.24517822265625,65.4910125732422,29.1146564483643,6.20460987091064,8.523256301879881,6.8,16.4351081848145,32.1300773620605],\"1996\":[18.4235019683838,14.5,18.9592018127441,6.73579454421997,2.32440948486328,37.345161437988295,3.4350285530090297,1.4197142124176,28.9,4.046766281127931,10.987065315246598,44.324058532714794,61.0421485900879,2.78076887130737,71.0985336303711,23.8123397827148,36.3781776428223,12.6361989974976,3.09707117080689,11.033660888671902,0.0135795697569847,0.00999999977648258,12.1619205474854,3.6294245719909703,6.2,12.9064464569092,99.4350128173828,2.3186979293823198,31.666213989257802,7.0,38.7998695373535,1.1623027324676498,48.29743957519529,34.229202270507805,92.3256683349609,9.65333080291748,57.6,29.6063747406006,9.4,10.395514488220199,5.707881927490231,17.3,32.459949493408196],\"1997\":[19.5586757659912,16.8098239898682,21.075979232788104,7.3875594139099094,2.61793184280396,38.5119590759277,3.99285197257996,2.3,32.458610534668004,4.73211622238159,13.296339988708501,45.398342132568395,61.414821624755895,4.42745685577393,72.1436996459961,25.0398960113525,38.482723236084,13.634946823120101,3.70532631874084,12.2837648391724,0.0616895519196987,0.00999999977648258,10.9,4.01176738739014,5.66663694381714,14.3740491867065,99.4326705932617,6.6,32.7023429870605,6.35975551605225,39.8145141601562,2.14179015159607,49.1849136352539,32.2,92.0,10.0461883544922,67.88779449462889,30.0827980041504,7.62852478027344,12.2524766921997,6.41234493255615,17.533767700195302,32.774528503418004],\"1998\":[20.675495147705103,18.117742538452102,23.1744041442871,8.020970344543459,3.9,40.7,4.5323204994201705,2.20311617851257,34.860885620117195,5.39911127090454,15.587259292602502,46.45426940917971,61.7691459655762,6.055789947509769,73.17051696777341,26.249097824096697,42.6,14.6153392791748,4.29522657394409,14.5,0.301523357629776,0.00999999977648258,12.935396194458,4.37575578689575,7.227716445922849,15.823296546936,99.4119720458984,4.548945903778081,33.720119476318395,6.7,40.81081008911129,3.10292291641235,50.054027557373,37.172187805175795,93.1624603271484,10.4206914901733,64.9,30.540864944457997,8.314479827880861,15.3,7.09845304489136,19.0,33.0707511901855],\"1999\":[21.7709007263184,19.404245376586896,25.2514152526856,6.9,3.1468539237976096,40.787437438964794,5.05037546157837,2.5642261505127,37.2417488098145,6.044692516326901,17.856765747070302,48.2,62.10205078125,7.6627092361450195,74.17591857910159,27.436885833740202,42.63368606567379,16.4,4.86371326446533,14.725850105285598,0.9568244814872741,0.00999999977648258,13.291543006897,4.71833038330078,8.76738166809082,17.2511291503906,99.36986541748051,5.63347864151001,34.716480255127,7.40309143066406,44.9,4.04264211654663,50.9017333984375,36.2,93.55026245117192,10.773780822753901,70.21115875244139,30.9775199890137,8.0,15.9082775115967,7.76314783096313,18.559007644653303,38.4],\"2000\":[22.843355178832997,20.6677970886231,27.3054733276367,9.22201061248779,3.3776555061340297,41.0,6.0,2.90238356590271,39.5996589660645,6.7,20.103319168090803,48.5003471374512,62.4120063781738,12.7,73.6,34.3,44.675510406494105,16.5103454589844,5.40924739837646,15.9132328033447,4.25876010781671,0.00999999977648258,13.624736785888699,4.8,10.2840948104858,18.6560115814209,99.0,6.6950588226318395,36.5,6.481481481481481,42.7376136779785,6.2,52.9,62.2570630965705,93.9151153564453,11.1039171218872,71.3391799926758,23.0,9.62061023712158,16.956234880140702,8.4048900604248,16.7,33.597419738769496],\"2001\":[20.0,21.9,24.8,9.79264450073242,3.5900473594665496,46.2,6.022170543670651,3.2221312522888197,41.9391593933105,7.27154016494751,22.331462860107397,49.493499755859396,62.7035522460937,10.812232971191401,76.1223983764648,29.748146057128896,46.6989250183105,17.4279613494873,5.9363718032836905,17.0822067260742,3.62964963912964,0.00999999977648258,14.8,5.33916425704956,10.8,22.2,99.2213287353516,5.7,36.6448860168457,8.36069869995117,43.6711311340332,5.85776567459106,52.5328216552734,41.4305763244629,94.2615585327148,11.4156436920166,70.2,31.786512374877898,10.2437896728516,19.4783496856689,8.6,19.4985198974609,33.830867767334],\"2002\":[24.939094543457,23.1457328796387,31.364421844482397,10.350932121276902,3.79009222984314,44.050506591796896,6.486515998840329,3.5295321941375697,44.8,7.863412380218509,24.5472602844238,51.4,62.982749938964794,12.3654432296753,77.074089050293,30.882225036621104,48.709991455078104,18.33323097229,6.45114946365356,18.2388324737549,5.3033766746521,0.00999999977648258,14.2419586181641,5.62802982330322,13.2683544158936,21.416606903076197,99.4,8.76905345916748,37.5875396728516,8.81795120239258,44.5923004150391,6.74377536773682,53.3268165588379,36.8,96.1,11.7150239944458,77.1,32.1694564819336,10.854621887207001,21.241834640502898,7.8,17.4,34.2],\"2003\":[25.9745082855225,24.3722438812256,33.381439208984396,11.4,3.9838535785675,45.1175422668457,6.94457817077637,3.83064913749695,46.5871810913086,8.449001312255861,26.756772994995103,51.4488296508789,63.2556648254395,13.9123697280884,78.0194931030273,32.010021209716804,48.3,19.2322177886963,6.959643363952639,16.0,6.97081995010376,0.00999999977648258,20.3,6.2,14.748027801513699,22.784448623657198,99.0233993530273,8.1,38.52390670776371,9.268918991088869,52.2,7.623501777648929,54.114528656005895,44.1986808776855,94.92346954345699,12.0081205368042,78.8,32.5461196899414,11.1,22.999036788940398,10.2439088821411,18.5,34.2667846679688],\"2004\":[27.0097007751465,25.598535537719698,35.3982353210449,11.454719543457001,4.1773943901062,47.1,7.402419567108151,3.5,48.907833099365206,9.03436851501465,28.966064453125,52.4231300354004,63.5283622741699,15.459075927734402,78.9646835327148,33.1375961303711,52.7193374633789,20.1309833526611,7.46791648864746,20.5392971038818,6.8,0.011186852119863,14.8340463638306,6.9,16.2274799346924,24.1520690917969,98.92108154296879,10.8179121017456,39.460056304931605,9.71966648101807,46.4218521118164,8.50300693511963,54.902015686035206,36.8,95.2510604858398,16.8,80.9,32.922561645507805,11.4,24.7560157775879,10.848390579223599,20.3,34.4813804626465],\"2005\":[28.050735473632802,26.8306674957275,37.4208755493164,12.0123443603516,3.2073170731707297,47.257022857665994,7.8661036491394105,4.43828439712524,51.2343215942383,6.0,33.8,58.9,63.8068962097168,14.0,81.6,30.4562675012354,54.7297439575195,20.2,7.98203182220459,21.6952629089355,10.311107635498,0.044350128620862996,15.135821342468299,6.48117589950562,17.7127742767334,18.2,98.8246002197266,11.8480739593506,40.402046203613295,7.1,47.34236145019529,4.8,55.6953468322754,47.1,95.5844879150391,11.332485516461801,80.9,33.3048439025879,12.673668861389197,26.5188388824463,8.9,21.2778854370117,34.7018203735352],\"2006\":[29.1036758422852,27.9,39.4554214477539,12.5818758010864,4.58806562423706,49.0,7.80516932525804,4.7569284439086905,53.5727195739746,10.2286949157715,33.4082412719727,60.1710526315789,64.0973358154297,18.576078414917,80.8786392211914,35.4163360595703,55.09345007577029,21.9521045684814,14.5361990950226,22.8631324768066,9.7,0.24477654695510898,15.449502944946301,3.6532273329547595,16.6,26.910898208618196,98.74002075195308,12.890141487121598,41.3559417724609,9.3,48.274776458740206,10.285608291626,56.5005874633789,49.9,99.0,12.910337448120101,80.7,33.699031829834,13.2957448959351,27.9,9.0,21.737333297729503,37.2],\"2007\":[37.5,29.336711883544897,41.5079345703125,13.169374465942399,4.81732225418091,48.2,8.83524990081787,5.09354114532471,55.929084777832,15.2,35.653247833252,55.4053421020508,64.4057464599609,20.1585006713867,81.8595428466797,36.5796241760254,58.792331695556605,22.886587142944304,9.052042007446289,24.0489711761475,13.6990165710449,3.0,15.781151771545401,7.09936189651489,20.7251415252686,33.0405405405405,98.6734085083008,13.950177192688,43.7,11.13121509552,50.1309194284432,11.2008304595947,57.3237915039063,49.7807388305664,96.2931365966797,13.238929748535199,82.0,34.1111869812012,13.935788154602001,30.0862636566162,12.7211399078369,18.5,35.184478759765604],\"2008\":[31.2680130004883,30.621238708496104,43.1,13.7793941497803,4.8,50.569175720214794,9.35132789611816,5.45267391204834,58.3079681396484,11.4933834075928,37.9207763671875,56.4378814697266,64.7366790771484,21.7634429931641,82.8629608154297,37.765438079834,60.5,23.8435878753662,9.61855220794678,25.2573299407959,15.424475669860803,1.7526564598083503,16.1353225708008,7.439959526062009,22.262830734252898,30.0,98.6293258666992,13.571223846374302,43.32218933105471,11.640199661254899,50.3,6.0,58.169517517089794,51.219661712646506,96.67896270751949,12.1,81.9,34.5458641052246,11.5,31.901479721069304,13.3838567733765,22.7146854400635,35.4573097229004],\"2009\":[32.3824691772461,31.9267921447754,45.679027557373,14.4104413986206,5.3419041633606,51.71525573730471,9.8884334564209,5.83283472061157,60.707881927490206,12.158015251159698,37.1,57.4914436340332,65.0886383056641,23.3894119262695,83.8874130249023,38.9722747802734,62.9389572143555,24.8216171264648,4.7,23.0,17.0,1.9,17.4,7.80158472061157,24.0308958348372,31.186975479126,98.60626220703129,15.0,44.33760070800779,12.1702108383179,51.191989898681605,13.0973424911499,56.9,53.5,97.08582305908199,13.962181091308599,82.7,29.0,11.2,33.7377243041992,10.0,23.2356491088867,43.3690818728747],\"2010\":[33.514949798584,34.2,47.7931137084961,13.1,5.3,52.8793601989746,9.8,6.4,63.1258201599121,12.840670585632301,42.5159149169922,58.56303405761721,65.4586181640625,25.033405303955103,84.9298858642578,40.197135925293004,65.0408096313477,25.8176708221436,6.0,19.2,18.935472488403303,5.14613103866577,16.9037399291992,8.7,25.398286819457997,32.651882171630895,98.60122680664058,17.2579231262207,45.371036529540994,12.7182464599609,48.0,9.7,59.921047210693395,54.157588958740206,97.0,11.462173073547499,82.9,35.4752998352051,14.8,30.7917436845348,14.769371032714801,22.0,36.063056945800795],\"2011\":[34.6,36.9,53.24,15.723602294921902,5.93858003616333,53.7,11.013710975647,6.644222259521481,65.55877685546879,13.5383453369141,44.8375129699707,59.6496429443359,66.1,23.0,85.9873809814453,41.437019348144496,64.06255999999999,26.828742980957,11.432229995727502,28.996553421020497,20.7150020599365,4.1,14.3,7.6,26.9900455474853,34.1318130493164,99.4,20.2,46.419490814209006,14.3,55.9,10.8,60.8208427429199,56.5,97.9505996704102,14.2,84.7,35.9640464782715,14.2,39.7,14.6,24.3286437988281,36.9],\"2012\":[35.821964263916,38.4,52.0633392333984,16.3997077941895,6.5,55.249626159668,11.5958757400513,7.06944179534912,69.3,15.4,41.6,55.8,66.2406387329102,28.3634471893311,89.3,42.6889152526856,69.28656005859379,26.2,12.064826011657699,30.270999908447298,22.5065479278564,8.59968376159668,17.7322368621826,7.4,25.6,35.6237564086914,98.63320922851558,19.54319190979,47.4799613952637,14.4,54.269905090332,16.069776535034197,57.9,57.1555976867676,98.40927124023442,15.1747264862061,85.3,36.4648094177246,15.3,39.342582702636705,16.2149639129639,24.894666671752898,36.7288780212402],\"2013\":[36.9904899597168,37.2992057800293,54.213470458984396,17.0848274230957,6.583319187164309,56.449779510498104,12.187051773071301,7.50367307662964,70.4577331542969,14.9667387008667,49.5137557983399,61.8559036254883,66.64666748046879,30.0434875488281,86.4,44.5,70.7,28.8839321136475,12.706434249877901,31.554456710815398,24.307104110717802,9.8,12.9,9.0,30.2066078186035,37.1247100830078,98.6642227172852,20.7008457183838,47.4,14.4404544830322,55.6,15.2,62.653480529785206,57.0,98.0,13.5,85.4,36.9745864868164,16.4,41.2328987121582,13.9,25.469701766967802,37.076812744140604],\"2014\":[32.0,34.1,56.3696098327637,19.2,7.0,56.8,12.784235954284698,7.94391202926636,72.917724609375,13.5,51.8623924255371,61.9,67.058708190918,27.2,89.21994018554692,45.2167434692383,78.3,29.9220409393311,17.2,36.0,27.8,9.4,18.5967807769775,11.9,31.8254013061523,38.8,98.7012405395508,21.8645076751709,49.624935150146506,15.0305442810059,56.3719139099121,19.8,68.6,61.0,99.29888916015629,16.033155441284197,86.0,44.9,18.9101791381836,45.7,20.4,27.9,32.3],\"2015\":[42.0,40.033477783203104,58.528751373290994,18.4700813293457,7.25208950042725,58.8651008605957,13.384423255920401,7.7,75.3807144165039,16.4191646575928,60.4,64.0861968994141,67.473747253418,33.418590545654304,90.3074722290039,46.486663818359396,75.7152786254883,30.9631519317627,14.0046701431274,41.6,27.9232387542725,13.840091705322301,19.0350608825684,10.8,37.6,39.5,98.7412567138672,24.0,50.7034301757813,16.6,52.5,22.8,64.5101470947266,60.5,99.6783218383789,16.468376159668,85.5,38.0091552734375,18.5,45.0285453796387,18.5,31.1,33.7],\"2016\":[40.5206069946289,41.402614593505895,60.6883964538574,19.1647129058838,7.58847713470459,60.0747680664063,13.985112190246598,8.83089828491211,77.8442153930664,17.1473789215088,56.5661697387695,64.3,67.889289855957,42.9,91.39550018310551,47.7570877075195,79.3,33.5,14.6557903289795,56.0,29.7333087921143,19.8,22.9,11.0,35.0694999694824,41.652107238769496,98.7817840576172,24.198339462280302,51.78242492675779,16.2172336578369,59.3,29.37,65.4404830932617,64.5,100.0,20.3,84.2,38.5284423828125,32.8,46.928375244140604,26.7,27.219337463378896,38.1451377868652],\"country\":[\"Angola\",\"Benin\",\"Botswana\",\"Burkina Faso\",\"Burundi\",\"Cameroon\",\"Central African Republic\",\"Chad\",\"Comoros\",\"Congo, Dem. Rep.\",\"Congo, Rep.\",\"Cote d'Ivoire\",\"Equatorial Guinea\",\"Ethiopia\",\"Gabon\",\"Gambia, The\",\"Ghana\",\"Guinea\",\"Guinea-Bissau\",\"Kenya\",\"Lesotho\",\"Liberia\",\"Madagascar\",\"Malawi\",\"Mali\",\"Mauritania\",\"Mauritius\",\"Mozambique\",\"Namibia\",\"Niger\",\"Nigeria\",\"Rwanda\",\"Sao Tome and Principe\",\"Senegal\",\"Seychelles\",\"Sierra Leone\",\"South Africa\",\"Sudan\",\"Tanzania\",\"Togo\",\"Uganda\",\"Zambia\",\"Zimbabwe\"],\"country_code\":[\"AO\",\"BJ\",\"BW\",\"BF\",\"BI\",\"CM\",\"CF\",\"TD\",\"KM\",\"CD\",\"CG\",\"CI\",\"GQ\",\"ET\",\"GA\",\"GM\",\"GH\",\"GN\",\"GW\",\"KE\",\"LS\",\"LR\",\"MG\",\"MW\",\"ML\",\"MR\",\"MU\",\"MZ\",\"NM\",\"NE\",\"NG\",\"RW\",\"ST\",\"SN\",\"SC\",\"SL\",\"ZA\",\"SD\",\"TZ\",\"TG\",\"UG\",\"ZM\",\"ZW\"],\"delta_2000\":[17.6772518157959,20.734817504882802,33.382923126220696,9.942702293396009,4.21082162857056,19.0747680664063,7.9851121902466,5.9285147190093985,38.2445564270019,10.4473789215088,36.462850570678704,15.799652862548795,5.477283477783203,30.2,17.795500183105503,13.457087707519506,34.6244895935059,16.9896545410156,9.246542930603036,40.086767196655295,25.47454868429759,19.790000000223518,9.275263214111297,6.2,24.7854051589966,22.996095657348604,-0.2182159423827983,17.503280639648462,15.282424926757797,9.73575217635542,16.562386322021492,23.17,12.540483093261704,2.242936903429502,6.084884643554702,9.1960828781128,12.860820007324207,15.5284423828125,23.179389762878408,29.972140363999902,18.2951099395752,10.5193374633789,4.547718048095697],\"gdp_growth_1990\":[-3.4500986836049106,8.97613436064626,6.772821949325531,-0.6029284800100501,3.49982214003694,-6.105697646082669,-2.1475280657408704,-4.17847237277677,5.091392684724231,-6.56831069464246,1.00000356694369,-1.09590841115427,-1.7585640840493402,2.72645178301019,5.19223727652398,3.55887936867589,3.32881788322055,4.32406275371827,6.09999998640174,4.19205097421585,6.04547332985945,-51.030864950591706,3.1300294278687297,5.692294493757499,-2.5023951034775798,-1.7713045336383102,7.18673677131353,0.999992833134456,2.04745997828502,-1.2843553810081298,12.766009173610101,-2.39929109691023,\"\",-0.6756381496858671,6.99554469003365,3.3499979838772296,-0.317785675763332,-5.4700537761547805,7.045071643842009,-0.243656135667422,6.474140150859211,-0.48107202778166397,6.988552933185459],\"gdp_growth_1991\":[0.9913592919288449,4.22579941870274,7.458709112318799,9.06998446083453,4.99683645144218,-3.8085993724514706,-0.552543005101867,8.53513716647174,-5.395598907071719,-8.42105149913377,2.39536745406824,0.0409251687355976,-1.0222388775824,-7.13747970825791,6.11250348301178,3.10703925567447,5.28182629016473,2.61342300463021,5.100000022784809,1.4383467910851397,6.9666070266267,-14.225211758844098,-6.309534393100849,8.730231828614139,11.7452037933746,1.7880871162111003,4.43544622851655,4.89999913888791,8.16561248089252,2.50420327438201,-0.617850588622787,-2.51437965357354,\"\",2.55582543667512,2.7604260993450804,2.3519606446944703,-1.01821987373044,7.510910625889809,2.0719882113419197,-0.6999674882918471,5.554095495926419,-0.0361333838823157,5.531782072312129],\"gdp_growth_1992\":[-5.838280728699441,2.95771082640847,2.91707030692542,0.23271076254276604,1.00999836586126,-3.10000321079072,-6.4240781994633,8.00144334631926,8.53092343286595,-10.5000085646477,2.61194805221436,-0.244560612179285,34.7453200290652,-8.672480128197531,-3.09014565154393,3.37868893949896,3.8794192532496203,3.27094730051635,1.09999997118952,-0.7994939599276311,6.9563652230770705,-35.0856810920709,1.18615228657475,-7.332978135323191,-3.21866249030752,1.87412589492735,6.51269860385797,-5.231330589933309,7.18934255925738,-6.51644460135972,0.433725356726427,5.87272523445922,\"\",1.24264722718526,7.161466736857519,-19.0129096336849,-2.1370568870763798,6.57786138499603,0.584322133806509,-3.9806868212771,3.41835689152536,-1.7309221735256601,-9.015569820553],\"gdp_growth_1993\":[-23.9834174287564,5.836172087799669,1.9161071417014297,3.46138493514046,-6.2399999992023005,-7.932066574565741,0.33527568464603497,-15.7098370452077,3.00593747764503,-13.469050538128,-0.9796832063430829,-0.19248510004538802,11.0332130375277,13.142833959648302,3.94655500790242,3.0121010643014503,4.85000056385225,5.0441445420409,2.0999999996825798,0.35319725637262395,3.50976624651729,-32.9753914988814,2.09655981924968,9.691840267806631,3.17216817730322,5.87363725103273,5.08206293591371,8.76714182446069,-1.5795391351987702,1.44943787573517,2.0903778005318703,-8.10869187352247,\"\",1.3007804065253898,6.19664976803203,1.3745493787097702,1.23351991210198,4.5687491895471295,1.2058008087038,-15.0958274773304,8.32629252049524,6.79727404907118,1.05145850909602],\"gdp_growth_1994\":[1.3393634369786298,2.02040044766727,3.62791602093857,1.31500727214082,-3.8299999966925498,2.1239354436073703,4.89994941000114,10.136887633514698,-5.27668203789099,-3.8999968031238597,-5.49307574498933,0.8112066846600359,16.6688355418416,3.1899645701301003,3.71275484108966,0.154346247509338,3.29999959123657,3.97009910595062,3.2000000204495493,2.6327845185903302,5.9798736114903095,-21.762349799733,-0.0716082564920271,-10.2401817338935,3.7799340510106703,-3.0607321004176495,4.13614290948917,6.158862480647461,1.72987944193255,4.00456170421623,0.9097633351719878,-50.2480671049986,\"\",-0.0173286575899851,-0.7986969991204229,-1.94738433456803,3.23414295211768,1.0062282425578999,1.56766176561416,14.982414345874501,6.4036357432406295,-8.6254419523128,9.23519874187009],\"gdp_growth_1995\":[15.0000000268975,6.045198647744981,7.03041026074564,5.71637386679346,-7.9200000006572,3.4697921483269,7.20004555751903,1.23654931686494,3.61012947783628,0.699998829794396,3.98532437806188,7.125744724172961,17.4862637323938,6.12751141238475,4.9738477633510305,0.881848176099027,4.11241903993425,4.60767320202197,4.40000000803329,4.40621652580508,3.2909385773151296,-4.26621160409556,1.71221317582496,16.7288175920015,0.9210223976916009,9.81980046004915,4.28773665968166,2.2373100453749504,3.8990141901370095,2.60575585436614,-0.307468969258068,35.224078307843705,\"\",5.36347288938663,-0.8256423627434941,-7.9997532856654505,3.11563360981586,5.99709232020216,3.56991186829411,7.845832317237179,11.5232438082442,2.89766889341698,0.158025752422645],\"gdp_growth_1996\":[13.5443697525014,4.32428403143146,5.829800078422751,11.014743869212001,-8.00000000137253,4.36108651788504,-4.00009296364789,2.2144730346744104,-1.29166843572652,-1.02317264199922,4.290481555641089,7.72932742209996,66.57999722158961,12.426173779818402,3.62504902027987,2.22354559172069,4.6024610452861605,4.46157508495051,11.599999996280902,4.1468392671671,5.597035225233849,12.121212121212098,2.1489150482302097,7.3166815111922405,7.05578540412266,5.81882660237976,5.587843840749559,26.8453219118008,3.1913242300966003,3.41909309854091,4.9937055370533,12.745695757101199,\"\",2.01212511103481,4.9175253483063095,1.7538213991709701,4.30672786823662,5.91912475789582,4.54436680182472,8.83621162941807,9.07211458193092,6.21854648894293,10.3606967432948],\"gdp_growth_1997\":[7.27427734536784,5.73468837672671,8.02654902640244,6.316834734984009,-1.58999999719993,5.23132070868648,5.29993601826074,5.65339232788355,4.030340668869701,-5.61704659870088,-0.624812149505956,3.7435531440301,149.972963487965,3.13390686700421,5.73836739483843,4.89999909182424,4.1963575760962,5.18160345884999,6.5,0.474901920484101,3.70360371825977,106.27980922098601,3.6934926062313997,3.79241909896268,4.82902433934807,-4.04469662170189,5.687477445314139,10.842031640483901,4.22010026385584,2.7539656235095604,2.80225643858698,13.849752486034602,\"\",3.12403328205608,11.9615559840765,-5.877082014860621,2.64682909480527,10.566736309579099,3.52527819146272,14.3773775773718,5.10000186361175,3.81400749718355,2.68059417376931],\"gdp_growth_1998\":[4.6911464445745095,3.96101213801589,0.7219931551298371,7.30771963314496,4.7499999920648,4.50229124101836,4.7001423787932906,6.95157991354007,1.28266247510143,-1.6241540447898999,3.73755276986071,4.93067962768323,23.774482329960698,-3.4581391483897996,3.47783358718901,3.49999851271944,4.70039077886524,3.64412124248008,-28.0999797293575,3.2902137230934603,1.5376558645163199,30.2081310211946,3.9323364428415,3.89525362963713,7.57166763990283,2.77780491977309,6.070628116407219,11.8593939808971,3.29158555639795,10.4222625215939,2.7156401786109305,8.85866949565283,\"\",5.89867256325405,8.40339852531204,1.78501428129722,0.517360382047372,4.30850410363315,3.7085115959471,-2.29987656608031,4.90526548390793,-0.38574614579035,2.88521191729652],\"gdp_growth_1999\":[2.18148973162356,5.34144937202619,9.66724074151195,7.40417896632496,-1.0099999961992001,4.29201694525005,3.5999749043227403,-0.682850217297741,1.92412366644894,-4.270140831133499,-2.5821993574722204,1.61752744311248,25.664015441041798,5.16214582423673,-8.93262280230105,6.3999993162971505,4.39999685991612,3.8120040345377797,1.0255374085929698,2.3053885959187297,0.47602485809923706,21.741447884977998,4.65911570041995,3.0422780913400094,5.70094365419142,7.71282541101877,2.6107795269945298,7.822974027004089,3.3692785937437004,-0.5687583318657939,0.47423757536905997,4.32237815774312,\"\",6.35984298103649,1.87200658737905,-1.9792855883144298,2.35810775433269,3.10409567996366,4.84038232526845,2.4817514261956,8.053948376594949,4.6501897463740995,-0.817820898748295],\"gdp_growth_2000\":[3.05462423372167,5.8599921011058305,1.9876958543875398,1.82024189276156,-0.8568640592235541,3.5533743641612703,-2.48943244028874,-0.8796810254448392,10.848074951269698,-6.910927316520981,7.575980392156839,-2.06840005678232,18.2137799569674,6.07321749231046,-1.88296639760897,5.50000017414997,3.7000001146381303,2.50306056145635,5.42698736686771,0.599695391613636,3.8755466066199906,28.615933349588698,4.760065098911981,1.57607783734666,-0.0608349718131365,-0.430406256338173,9.026614099322972,1.6785029847975002,3.49218322208907,-1.4095093500444902,5.318093380648519,8.37090817337022,\"\",3.1866390825781297,1.51433881472376,6.65272788470479,4.154544582627319,6.34586776869979,4.933846627114581,-0.7834796058857879,3.1419073382037204,3.89732294341896,-3.05918962553469],\"gdp_growth_2001\":[4.2059985539409395,5.33041085668984,0.250573866722732,6.613399555128139,2.05580710931326,4.36808424217001,4.46473902640867,11.658134654293999,2.33293649377548,-2.10017302488849,3.8026019001617795,0.121371915123646,63.379875425060206,8.30130632157484,2.13523342197423,5.800000235815769,4.0,3.65834647077443,2.1889068147073103,3.77990649628987,3.56158244721682,2.9187172984168703,6.017824403090559,-4.974963846494401,15.3762394579174,2.00879692462925,2.57357028844818,12.7209658181604,1.17794885809354,7.104340612067491,4.411065195659059,8.48458172729094,\"\",4.58091644150905,-2.2711627615124597,-6.34545515304801,2.73549529086156,6.500360420697461,5.9978288575808705,-1.62680627160073,5.18366112628937,5.31686827418419,1.43961507446073],\"gdp_growth_2002\":[13.6656865110139,4.64447002567962,6.06953086765014,4.35300432287377,4.4465194189146295,4.23720367718512,3.6165421915059603,8.49120981898056,2.3247792591424705,2.9477651835977103,4.58187006145742,-1.66764213793115,19.462834035925102,1.5147256932108502,-0.249033168543434,-3.25000030726741,4.49999969929409,5.16460946575926,-0.9851775249913859,0.546859529994521,0.723835899172968,3.7627649991322403,-12.673788136278999,1.70000001363076,3.1063082520568597,0.66500415627597,2.11331329043134,8.794057581275341,4.788661308461389,2.99912203563383,3.7846481828823797,13.192067570011,2.3768774742280803,0.654803648439568,1.21283126716007,26.4173165994528,3.66779687687513,6.427273901371651,7.16355353648275,-0.922151021553645,8.73268576401529,4.50601428032601,-8.894023417261039],\"gdp_growth_2003\":[4.55404242325068,3.44404484874129,4.6258947919155595,7.8024398982150105,-1.22372795923965,4.56719525637388,-5.397485218558769,14.7216670121033,2.10410195294466,5.57782231144421,0.8132640747153349,-1.3595359429726397,13.955250316382502,-2.16135972141942,2.2473300115045,6.8699998028644,5.19999998393914,1.2486012600021898,0.568510176088452,2.93247554619273,4.559776840390951,-30.145222524093104,9.784892131332901,5.7056394374716,9.11904199532427,5.9782533480340705,3.6568563976751,6.50060666771599,4.239794315454589,5.2999999983132104,10.354184564513199,2.20237237170937,6.57347269933454,6.683228177136309,-5.88712752754415,9.313120969642029,2.9490781458875097,7.734591717043901,6.886226532281969,4.95439766619923,6.47325867148687,6.94497398221226,-16.9950745275501],\"gdp_growth_2004\":[10.2383565294963,4.42962902368194,2.70582173663567,4.4784743486678495,4.83365776164824,6.78095592377316,5.994884227986961,33.629371852465894,1.9196023794612198,6.738373933242941,3.47663162277507,1.23177283997175,37.998726855642296,13.5726031535762,0.689543058464849,7.04999993440634,5.59999998982201,2.34011731261732,2.7614019904803198,5.10429977568934,1.6923738991997799,2.6206052559567996,5.25700360420996,5.4204976936605505,1.5599986605349199,5.747423540012551,5.745767526515349,7.81118610813213,12.269548029665598,0.10000000083576299,33.7357750284295,7.447676378847929,3.83222708464513,5.87077221388358,-2.85045365900451,6.59794485903731,4.554569920568549,3.88330729113338,7.82829838095938,2.11906531640768,6.807233344270441,7.03239511515217,-5.807538303469401],\"gdp_growth_2005\":[20.907027037371897,1.71157762807459,4.5566456573284295,8.66186160516736,0.9000000028640049,2.02066230714679,0.908210514871953,17.3325337350837,2.8374077642229,6.1351511554897495,7.75575897797003,1.7212473673173299,16.7487006053541,11.8187659353249,2.6762115645117004,-0.9416759117342791,5.9000039528815105,2.99727256157516,4.26609893145407,5.90666608168013,3.4661229362705397,5.2819757300214905,4.60289996515068,3.2687258275752997,6.53476265710999,8.96942231802176,1.2413875380507,8.72066787720824,2.52926260309158,4.4999999993622195,3.44466681332356,9.37791592670048,7.09377044675625,5.622606857196491,9.0057614282839,4.5050956724012305,5.277111734982361,7.48973814215957,8.17333583413813,1.18040695642318,6.33256511630916,7.23559900655543,-5.7110838330468],\"gdp_growth_2006\":[18.9890352018358,3.94701374716007,8.36387106895727,6.25315860358158,5.38465739821253,3.45766879254916,4.77108543044105,0.648262014094541,2.64689986791771,5.3209795654899805,6.23599701269603,1.51584236363406,7.70491760658767,10.8347270718859,-2.80659506146299,1.1240997016995802,6.399912418563889,1.1801404463136398,2.30935799520284,6.472494298624821,4.23009492147506,8.043162022448259,5.022607002324901,4.69999999202611,4.6621868797987505,18.8690993366062,8.538255614015041,9.85105546470831,7.07317536234564,5.8000000015313695,8.2109648588917,9.227075844282009,9.11564654590207,2.46157025349719,9.40612787953089,4.22391427876417,5.60366478897241,10.0643080017239,4.66057099548016,4.05241254210087,10.7847443860372,7.903694444800809,-3.46149505040178],\"gdp_growth_2007\":[23.1895972587248,5.98651552196785,8.27676379346968,5.65500511828274,4.78583195088814,4.90220173244047,4.6075348545202806,3.2714995788864303,0.80015279901626,6.259477764536901,-1.58222275043937,1.7650367837002399,15.2821139194857,11.456166995433302,6.00811574215278,3.63102553253154,4.3468191531195,6.82747442663229,3.2629554631013598,6.85072977063138,4.83296332155336,9.53489285750719,6.24057845116124,9.60000000260818,3.4936168106396903,2.81783677236747,5.72701614247437,7.4260609905568895,6.6170944531768,3.14657039559731,6.82839834798025,7.63328703919099,3.25360491236708,4.93848508315149,10.4214361107185,8.05814515305374,5.36046513961614,11.521910033371197,8.46438124155671,2.29045388913028,8.41242596550525,8.35243624447408,-3.65332704339563],\"gdp_growth_2008\":[13.817097706224198,4.88989863684026,6.24543736290877,7.29449815007301,5.04811878327607,3.4888009190369202,2.0541309620048502,3.05269153196825,0.40026685523496003,6.22589426911561,5.57223323509915,2.54284147624236,17.7991091333811,10.788521681449302,-3.30842037606865,5.73464194582782,9.14979909377527,4.13661615308007,3.20356730327771,0.232282745665941,6.73953368064724,7.1469392850702596,7.12851353881621,7.639736774103921,4.77338272676239,1.07996716687543,5.38696257005078,6.87620544687803,2.64981196691456,9.5876732094865,6.270263697327371,11.161244614812501,8.18617181896396,3.68252440283356,-2.14689265536722,5.398285209125089,3.19105164505264,7.801963334393821,5.5665956483045305,2.22548023245801,8.7087519014194,7.773895815423599,-17.6689465976187],\"gdp_growth_2009\":[2.41290970138972,2.32930120963711,-7.6523102025347605,2.9620143713861204,3.4684254250000097,2.1986641019343303,1.7092392199805901,4.21769555189633,1.94999997780702,2.8550640096968998,7.468942484076919,3.2514537186760197,1.34335628806097,8.80255320238874,0.13033198041993901,6.44969585762844,4.84448688878084,-1.11763859460218,3.3689749480458597,3.3069398153475804,2.15430820043095,5.30009907470476,-4.01386058280512,8.32811027624575,4.6790656995892,-1.0420817041113002,3.3150769885353704,6.351970294355331,0.29597102832717304,-0.712671173770957,6.93441600392744,6.2482625635957,2.4262813439985096,2.4231759171114797,-1.1052457934675,3.18805121519152,-1.5381008639149298,3.2418475722429503,5.38234616843563,3.5102966752256,6.801517348014361,9.220348405866302,12.0195605024805],\"gdp_growth_2010\":[3.45287464846986,2.11019929660023,8.56363174773267,5.3733731260305895,3.78590254312172,3.4225076411544,3.04663473280731,13.550100859549,2.19999998173273,7.107976576219669,8.75160145933471,2.01763859205302,-8.92417588851806,12.5505383420508,7.08869205327534,6.52629745205277,7.89971191216314,4.82071541392241,4.61097090973794,8.40569922421719,6.072038616327161,6.09994469237347,0.263110855703317,6.87406563500954,5.41345222224766,4.7736971748957595,4.37720323945265,6.687221632315849,6.0392494098738805,8.369239798490781,7.83973947709083,7.33463877344005,6.67198531992175,4.179363062550509,5.95496246872393,5.3464660527989905,3.0397770627674596,3.4693350926497297,6.35888608129918,3.99567877036402,5.63759980250855,10.298205851749302,12.5810269716888],\"gdp_growth_2011\":[3.87333069411847,2.96275035081007,6.04831636706808,6.62686519230525,4.19162568095399,4.1292771605696705,3.30071915650572,0.0828697984381677,2.60000008817858,6.8746708897063495,3.42066568060184,-4.38725478828525,6.52392362989873,11.1782962356071,7.09201032793609,-4.29512177343575,14.0471236468325,5.61210427912495,8.084779737823041,6.108263719796501,6.9013340724865495,8.199998145976581,1.4543921677091298,4.85405510898322,3.24025291319951,4.70406653145888,4.07753807362208,7.11760663190503,5.09133819752299,2.2782847388081096,4.88738661141304,8.01710691458877,4.398201688265701,1.7611180480466002,7.8872795969773195,6.31504503617386,3.28416505337685,-1.96772897878996,7.90450757234741,4.8837639460034294,9.39166774905111,5.564624716738731,15.445732984523199],\"gdp_growth_2012\":[5.177593943475371,4.81647824066904,4.456167213097871,6.452698754974249,4.01936552951105,4.543265015667361,4.11279786850471,8.88257607170316,2.9999999719327004,7.08689894672231,3.79997131252208,10.7065041030832,8.31287184445641,8.647811635391049,5.25236593059937,5.599761221591691,9.29278941435285,5.91691173154778,-1.7126830134913102,4.563209130711201,5.998071843477581,7.99445127045679,3.02750809231563,1.88579950731867,-0.836178865643376,5.7950781718770505,3.4961183375798197,7.1981858257921205,5.06168201326828,11.8498191816674,4.27927731389333,8.64572901953593,3.1419758486854903,4.41118028450084,1.26082881933036,15.181769083311998,2.21335365258994,0.521559266641702,5.14101362067316,4.8203435162355195,3.83745560597488,7.5976169688654505,14.779595141064501],\"gdp_growth_2013\":[6.84271653749451,7.18971631205676,11.343424252775199,5.7925893168712195,4.59405421822632,5.40426570971735,-36.6999524381893,5.70000136285864,3.4999999938922697,8.481956635523009,3.4407052491938,8.889421301729241,-4.13319249934219,10.5822700402274,5.638928731990321,4.78892198182359,7.31252502101229,3.9347840250179202,3.2559042498813797,5.87868947702617,1.84304506099926,8.70387501576046,2.25520404025168,5.19999999835549,2.30358480929436,6.090258732361421,3.3604061030308503,7.14168329950449,5.61471970064058,5.26841489730204,5.394416310894611,4.6588729265100595,4.81479438698751,3.45547165102727,6.0180762676385795,20.715768285833498,2.48518583499988,4.39471113218659,7.263060997129299,3.96779263278005,3.5869058261957205,5.05937637822657,5.52978720755759],\"gdp_growth_2014\":[4.70397061679529,6.351831941113219,4.14925278594787,4.32683735691617,4.66091818447367,5.88405932668046,1.04001804711078,6.89998504532167,2.06163946899514,9.470288097596038,6.77991615766737,8.794077390343231,0.415061836473669,10.2574929647496,4.31399532475427,0.9000000833667059,3.9858656241520696,3.7074516130114,0.964560752255068,5.35711677812012,3.1217218439165,0.7011416358233761,3.31585416456267,5.7000000037720895,7.043356203659529,5.57954385588333,3.74457443095584,7.44406949211971,6.35167796144982,7.52904306849105,6.3097185961020195,7.62457574959272,6.54993310203444,4.07508332555257,4.50478543066701,4.55677236618277,1.8470084416527301,2.67941181278037,6.96513493572905,5.87172631921244,5.10630732428807,4.6958263726904805,2.1270839080275197],\"gdp_growth_2015\":[2.9997474931435297,2.0958083832335,-1.69793059199191,3.894548056942,-3.92114275053206,5.651463743628299,4.79988608115663,2.7676756848447,1.01511845919811,6.91618781038352,2.64648587686472,8.84286544168236,-9.08905879341432,10.3924630218107,3.87925759519121,4.299999772894569,3.83704086423404,3.81494988965694,6.13408294161364,5.718507131335139,2.51658774593766,0.0,3.1166147142309906,2.79999999900333,5.96258159051517,1.39999644340145,3.4686641338710698,6.59398590645148,6.106731719270071,4.33759111585388,2.65269328877392,8.867977374439018,3.81998853521304,6.456907802051459,4.93738645869301,-20.5987707153392,1.27953825560994,4.9060451745281695,6.959314246823139,5.384842189378131,5.187859862610299,2.91988111018713,1.6895945920784199],\"gdp_growth_2016\":[-0.813494095515892,3.96485991037314,4.31550626955971,5.924577561372019,-0.570434450658766,4.45045326629905,4.53128596327306,-6.255527085452809,2.20000002289547,2.39937909800997,-2.80001878768313,8.34211309645272,-8.57588213036557,7.56176669023149,2.08238031633867,2.21633366332313,3.7219029045057406,10.4541058171845,6.26280564499115,5.869192849110321,2.39715448807888,-1.60000000000001,4.17999023566718,2.4840406264186803,5.79999999505212,1.99999906234294,3.79999998981377,3.7629430392301697,0.7000992179017231,4.92571448640469,-1.6168689499181599,5.981314912965961,4.179209268018201,6.741818200981069,4.50303159109606,6.05547402886204,0.565362939110358,4.70000004201418,6.9681294933237,5.3981461886104105,4.6565755980861505,3.75717780476374,0.615713754356918],\"gdp_growth_2017\":[0.721699271937197,5.584195081026991,2.3591970823241,6.7426535423516905,0.519139010390006,3.17708470588063,4.29993805303965,-2.95377154892373,2.4999999999999902,3.70085074967523,-4.589083577900951,7.79700562748845,-3.22022814221914,10.245810850259,1.1047193316722899,3.5000001318703102,8.507156218990671,8.24984422988283,5.91897567049733,4.8854444803255,5.590876671068701,2.45459643673698,4.170794765865129,4.00003051653042,5.29999999967936,3.4999999999999907,3.79999999999998,3.7106974241938997,-0.770335374082606,4.8945165911239,0.8145440297296891,6.10059404835408,3.8749602212071497,6.787080450231509,4.2000000000000295,4.15766205148933,1.3200611696550302,4.2830710040181295,7.10416126472153,5.56579104193331,3.96477988833888,4.07671549730144,3.4470951447746403],\"income_level\":[\"Lower middle income\",\"Low income\",\"Upper middle income\",\"Low income\",\"Low income\",\"Lower middle income\",\"Low income\",\"Low income\",\"Low income\",\"Low income\",\"Lower middle income\",\"Lower middle income\",\"Upper middle income\",\"Low income\",\"Upper middle income\",\"Low income\",\"Lower middle income\",\"Low income\",\"Low income\",\"Lower middle income\",\"Lower middle income\",\"Low income\",\"Low income\",\"Low income\",\"Low income\",\"Lower middle income\",\"Upper middle income\",\"Low income\",\"Upper middle income\",\"Low income\",\"Lower middle income\",\"Low income\",\"Lower middle income\",\"Low income\",\"High income\",\"Low income\",\"Upper middle income\",\"Lower middle income\",\"Low income\",\"Low income\",\"Low income\",\"Lower middle income\",\"Low income\"],\"index\":[0,1,2,3,4,5,6,7,8,9,10,11,12,13,14,15,16,17,18,19,20,21,22,23,24,25,26,27,28,29,30,31,32,33,34,35,36,37,38,39,40,41,42],\"x_axis_to_plot\":[11.397808074951199,7.31127214431763,6.043880462646491,2.6105573177337598,0.348627060651779,30.1297168731689,0.00999999977648258,0.00999999977648258,15.299549102783198,0.00999999977648258,0.00999999977648258,37.6637115478516,58.5914421081543,0.00999999977648258,64.61288452148439,16.2323532104492,23.536262512207,6.42906713485718,0.00999999977648258,3.31838989257812,0.00999999977648258,0.00999999977648258,9.57178211212158,1.1207196712493899,0.00999999977648258,3.8861868381500204,99.2344207763672,0.00999999977648258,25.234790802002,2.2900023460388197,27.3,0.00999999977648258,42.757965087890604,25.130535125732397,89.5455856323242,7.081538200378421,59.3379402160645,32.8,2.4837088584899902,0.00999999977648258,1.2664570808410602,13.9,30.3578319549561],\"y_axis_to_plot\":[3.87333069411847,2.96275035081007,6.04831636706808,6.62686519230525,4.19162568095399,4.1292771605696705,3.30071915650572,0.0828697984381677,2.60000008817858,6.8746708897063495,3.42066568060184,-4.38725478828525,6.52392362989873,11.1782962356071,7.09201032793609,-4.29512177343575,14.0471236468325,5.61210427912495,8.084779737823041,6.108263719796501,6.9013340724865495,8.199998145976581,1.4543921677091298,4.85405510898322,3.24025291319951,4.70406653145888,4.07753807362208,7.11760663190503,5.09133819752299,2.2782847388081096,4.88738661141304,8.01710691458877,4.398201688265701,1.7611180480466002,7.8872795969773195,6.31504503617386,3.28416505337685,-1.96772897878996,7.90450757234741,4.8837639460034294,9.39166774905111,5.564624716738731,15.445732984523199]},\"selected\":{\"id\":\"6bb8f3bb-6d99-4d3d-bee1-4d6c07c877be\",\"type\":\"Selection\"},\"selection_policy\":{\"id\":\"c7fa9f4f-9cbe-45cc-9f12-7525dd360dec\",\"type\":\"UnionRenderers\"}},\"id\":\"48e12657-8aa6-421b-8849-84b1aa43ac31\",\"type\":\"ColumnDataSource\"},{\"attributes\":{\"format\":\"%0.0f %%\"},\"id\":\"0d2bc81b-8493-423b-b6e3-229b633c146d\",\"type\":\"PrintfTickFormatter\"},{\"attributes\":{\"active_drag\":\"auto\",\"active_inspect\":\"auto\",\"active_multi\":null,\"active_scroll\":\"auto\",\"active_tap\":\"auto\",\"tools\":[{\"id\":\"d4fd4bd3-d4f7-47a6-8246-79dbad923271\",\"type\":\"PanTool\"},{\"id\":\"da4bba68-7e37-44c6-9239-15140106059b\",\"type\":\"BoxZoomTool\"},{\"id\":\"0ad709f2-6e51-4159-a9e6-9667deb01ec0\",\"type\":\"ResetTool\"},{\"id\":\"be36ded6-3be4-4841-9688-5e1b6415cb5b\",\"type\":\"HoverTool\"}]},\"id\":\"fcd3df77-9105-41c8-8a1b-1248645e2ad1\",\"type\":\"Toolbar\"},{\"attributes\":{\"axis_label\":\"GDP Growth\",\"formatter\":{\"id\":\"0d2bc81b-8493-423b-b6e3-229b633c146d\",\"type\":\"PrintfTickFormatter\"},\"plot\":{\"id\":\"37164399-86c7-4259-9d1a-e9ccb0f7bcdf\",\"subtype\":\"Figure\",\"type\":\"Plot\"},\"ticker\":{\"id\":\"579bc36a-e3f4-46f6-9ac2-64f18a94cccc\",\"type\":\"BasicTicker\"}},\"id\":\"d1cd882f-07c9-4295-83dc-ed512b4acdda\",\"type\":\"LinearAxis\"},{\"attributes\":{\"args\":{\"gdp_select\":{\"id\":\"3ab355a2-5396-4b8b-b8e7-e81e451a0870\",\"type\":\"Slider\"},\"source\":{\"id\":\"48e12657-8aa6-421b-8849-84b1aa43ac31\",\"type\":\"ColumnDataSource\"},\"year_select\":{\"id\":\"716693ab-ad9c-43c5-bff6-6b5f8630754c\",\"type\":\"Slider\"}},\"code\":\"var _pyfunc_str = String;\\nvar cb;\\ncb = function flx_cb (year_select, gdp_select, source) {\\n    var gdp_year_selected, new_data, new_gdp_data, stub1_, stub1_i0, stub1_iter0, stub1_n, stub2_, stub2_i0, stub2_iter0, stub2_n, year_selected;\\n    year_select = (year_select === undefined) ? year_select: year_select;\\n    gdp_select = (gdp_select === undefined) ? gdp_select: gdp_select;\\n    source = (source === undefined) ? source: source;\\n    year_selected = year_select.value;\\n    new_data = source.data[year_selected];\\n    stub1_ = [];stub1_iter0 = new_data;if ((typeof stub1_iter0 === \\\"object\\\") && (!Array.isArray(stub1_iter0))) {stub1_iter0 = Object.keys(stub1_iter0);}for (stub1_i0=0; stub1_i0<stub1_iter0.length; stub1_i0++) {stub1_n = stub1_iter0[stub1_i0];{stub1_.push(stub1_n);}}\\n    source.data[\\\"x_axis_to_plot\\\"] = stub1_;\\n    gdp_year_selected = gdp_select.value;\\n    new_gdp_data = source.data[\\\"gdp_growth_\\\" + _pyfunc_str(gdp_year_selected)];\\n    stub2_ = [];stub2_iter0 = new_gdp_data;if ((typeof stub2_iter0 === \\\"object\\\") && (!Array.isArray(stub2_iter0))) {stub2_iter0 = Object.keys(stub2_iter0);}for (stub2_i0=0; stub2_i0<stub2_iter0.length; stub2_i0++) {stub2_n = stub2_iter0[stub2_i0];{stub2_.push(stub2_n);}}\\n    source.data[\\\"y_axis_to_plot\\\"] = stub2_;\\n    source.change.emit();\\n    return null;\\n};\\ncb(year_select, gdp_select, source);\\n\"},\"id\":\"21f668a3-d856-4c05-963a-969443f2042f\",\"type\":\"CustomJS\"},{\"attributes\":{\"plot\":null,\"text\":\"GDP Growth and Electricty Access\"},\"id\":\"04ea5efa-eb56-4dd9-98c8-b37d44c47415\",\"type\":\"Title\"},{\"attributes\":{},\"id\":\"579bc36a-e3f4-46f6-9ac2-64f18a94cccc\",\"type\":\"BasicTicker\"},{\"attributes\":{\"fill_alpha\":{\"value\":0.5},\"fill_color\":{\"value\":\"#1f77b4\"},\"line_alpha\":{\"value\":0.5},\"line_color\":{\"value\":\"#1f77b4\"},\"size\":{\"units\":\"screen\",\"value\":12},\"x\":{\"field\":\"x_axis_to_plot\"},\"y\":{\"field\":\"y_axis_to_plot\"}},\"id\":\"c039a6c4-89c0-4e8e-9989-8980b6b00454\",\"type\":\"Circle\"},{\"attributes\":{\"overlay\":{\"id\":\"46f13a35-960f-44a1-bf6a-e0182a11bad8\",\"type\":\"BoxAnnotation\"}},\"id\":\"da4bba68-7e37-44c6-9239-15140106059b\",\"type\":\"BoxZoomTool\"},{\"attributes\":{\"callback\":{\"id\":\"66f6f1f6-1f35-4edf-9c66-830cfaa098d1\",\"type\":\"CustomJS\"},\"end\":2016,\"start\":1990,\"title\":\"Choose a Year for Electricty\",\"value\":1990},\"id\":\"716693ab-ad9c-43c5-bff6-6b5f8630754c\",\"type\":\"Slider\"},{\"attributes\":{\"callback\":null},\"id\":\"a8129e0c-d33d-4309-a5b5-8654e84384a9\",\"type\":\"DataRange1d\"},{\"attributes\":{},\"id\":\"d4fd4bd3-d4f7-47a6-8246-79dbad923271\",\"type\":\"PanTool\"},{\"attributes\":{\"bottom_units\":\"screen\",\"fill_alpha\":{\"value\":0.5},\"fill_color\":{\"value\":\"lightgrey\"},\"left_units\":\"screen\",\"level\":\"overlay\",\"line_alpha\":{\"value\":1.0},\"line_color\":{\"value\":\"black\"},\"line_dash\":[4,4],\"line_width\":{\"value\":2},\"plot\":null,\"render_mode\":\"css\",\"right_units\":\"screen\",\"top_units\":\"screen\"},\"id\":\"46f13a35-960f-44a1-bf6a-e0182a11bad8\",\"type\":\"BoxAnnotation\"},{\"attributes\":{},\"id\":\"228c23e0-695c-4d18-a6a1-6a1528d53e79\",\"type\":\"BasicTicker\"},{\"attributes\":{\"format\":\"%0.0f %%\"},\"id\":\"1675fd8d-f430-40f6-80ee-e4939f07e179\",\"type\":\"PrintfTickFormatter\"}],\"root_ids\":[\"9d74afe8-9328-45fa-ad63-006fa0b1e398\"]},\"title\":\"Bokeh Application\",\"version\":\"0.13.0\"}};\n",
       "  var render_items = [{\"docid\":\"8310cd40-eea9-4a43-b794-730e9a562cb6\",\"roots\":{\"9d74afe8-9328-45fa-ad63-006fa0b1e398\":\"293114f1-9759-4e44-8e3b-08fbfd84f40f\"}}];\n",
       "  root.Bokeh.embed.embed_items_notebook(docs_json, render_items);\n",
       "\n",
       "  }\n",
       "  if (root.Bokeh !== undefined) {\n",
       "    embed_document(root);\n",
       "  } else {\n",
       "    var attempts = 0;\n",
       "    var timer = setInterval(function(root) {\n",
       "      if (root.Bokeh !== undefined) {\n",
       "        embed_document(root);\n",
       "        clearInterval(timer);\n",
       "      }\n",
       "      attempts++;\n",
       "      if (attempts > 100) {\n",
       "        console.log(\"Bokeh: ERROR: Unable to run BokehJS code because BokehJS library is missing\")\n",
       "        clearInterval(timer);\n",
       "      }\n",
       "    }, 10, root)\n",
       "  }\n",
       "})(window);"
      ],
      "application/vnd.bokehjs_exec.v0+json": ""
     },
     "metadata": {
      "application/vnd.bokehjs_exec.v0+json": {
       "id": "9d74afe8-9328-45fa-ad63-006fa0b1e398"
      }
     },
     "output_type": "display_data"
    }
   ],
   "source": [
    "# run plot\n",
    "source = make_dataset(df_electric, year_selected=1990)\n",
    "make_plot(source)"
   ]
  },
  {
   "cell_type": "code",
   "execution_count": null,
   "metadata": {
    "collapsed": true
   },
   "outputs": [],
   "source": []
  },
  {
   "cell_type": "code",
   "execution_count": null,
   "metadata": {
    "collapsed": true
   },
   "outputs": [],
   "source": []
  },
  {
   "cell_type": "markdown",
   "metadata": {},
   "source": [
    "#### Plot 2"
   ]
  },
  {
   "cell_type": "code",
   "execution_count": null,
   "metadata": {
    "collapsed": true
   },
   "outputs": [],
   "source": [
    "# specific to Ethiopia?\n",
    "\n",
    "# group by income level and plot various characteristics? could do tabs for levels ?\n",
    "# https://bokeh.pydata.org/en/latest/docs/gallery/bar_pandas_groupby_nested.html\n",
    "\n",
    "# ref: https://bokeh.pydata.org/en/latest/docs/user_guide/categorical.html"
   ]
  },
  {
   "cell_type": "code",
   "execution_count": 93,
   "metadata": {},
   "outputs": [],
   "source": [
    "from bokeh.io import show, output_file\n",
    "from bokeh.plotting import figure\n",
    "from bokeh.palettes import Spectral5, Spectral4\n",
    "from bokeh.sampledata.autompg import autompg_clean as df\n",
    "from bokeh.transform import factor_cmap"
   ]
  },
  {
   "cell_type": "code",
   "execution_count": 74,
   "metadata": {
    "collapsed": true
   },
   "outputs": [],
   "source": [
    "# load data\n",
    "df_electric   = pd.read_csv('data/electric.csv')\n",
    "df_internet   = pd.read_csv('data/internet.csv')\n",
    "df_cellphones = pd.read_csv('data/cellphones.csv')"
   ]
  },
  {
   "cell_type": "code",
   "execution_count": null,
   "metadata": {
    "collapsed": true
   },
   "outputs": [],
   "source": [
    "# fix Swaziland\n",
    "df_electric['income_level'][df_electric.country == 'Swaziland'] = 'Lower middle income'"
   ]
  },
  {
   "cell_type": "code",
   "execution_count": 81,
   "metadata": {
    "collapsed": true
   },
   "outputs": [],
   "source": [
    "# add category info back to files\n",
    "cat_type = CategoricalDtype(categories=['High income', 'Upper middle income', \n",
    "                                        'Lower middle income', 'Low income'], \n",
    "                            ordered=True)\n",
    "for df in [df_electric, df_internet, df_cellphones]:\n",
    "    df['income_level'] = df['income_level'].astype(cat_type)"
   ]
  },
  {
   "cell_type": "code",
   "execution_count": 199,
   "metadata": {},
   "outputs": [],
   "source": [
    "# sort datasets by income_level\n",
    "df_electric = df_electric.sort_values('income_level')"
   ]
  },
  {
   "cell_type": "code",
   "execution_count": 200,
   "metadata": {
    "collapsed": true
   },
   "outputs": [],
   "source": [
    "def make_dataset_2(df, year_selected):\n",
    "    df['right_to_plot'] = df[str(year_selected)]\n",
    "    return safe_cds(df)"
   ]
  },
  {
   "cell_type": "code",
   "execution_count": 201,
   "metadata": {
    "collapsed": true
   },
   "outputs": [],
   "source": [
    "def make_widgets_2(source):\n",
    "\n",
    "    #- create the interactive widgets\n",
    "    year_select = Slider(start=1990, end=2016, value=1990, step=1, title=\"Choose a Year\")\n",
    "\n",
    "    #- define update function\n",
    "    def update_year(year_select=year_select, source=source):\n",
    "        year_selected = year_select.value     \n",
    "        new_data      = source.data[year_selected] \n",
    "        source.data['right_to_plot'] = [n for n in new_data] \n",
    "        \n",
    "        source.change.emit()  # refresh plot        \n",
    "    \n",
    "    #- set callbacks\n",
    "    year_select.callback = CustomJS.from_py_func(update_year)\n",
    "    \n",
    "    return year_select"
   ]
  },
  {
   "cell_type": "code",
   "execution_count": 202,
   "metadata": {},
   "outputs": [],
   "source": [
    "def make_plot_2(source):\n",
    "\n",
    "    # set figure\n",
    "    p2 = figure(title   = 'Electricity Access',\n",
    "                y_range = source.data['country'],\n",
    "                x_range = (0,100),\n",
    "                plot_width=750, plot_height=500, \n",
    "                x_axis_label = '% of Population with Access to Electricity',\n",
    "                toolbar_location = \"above\", \n",
    "                tools = \"pan, box_zoom, reset\"\n",
    "               )    \n",
    "    \n",
    "    # format axis\n",
    "    p2.xaxis.formatter = PrintfTickFormatter(format='%0.0f %%')\n",
    "    \n",
    "    # add widgets\n",
    "    year_select = make_widgets_2(source)\n",
    "    \n",
    "    # set colors\n",
    "    cmap = factor_cmap('income_level', palette=Spectral4, factors=['High income', 'Upper middle income', \n",
    "                                        'Lower middle income', 'Low income'])\n",
    "\n",
    "    # add glyphs\n",
    "    p2.hbar(y      = 'country', \n",
    "            right  = 'right_to_plot', \n",
    "            source = source, \n",
    "            height = 1, \n",
    "            fill_color = cmap, \n",
    "            line_color='white')\n",
    "\n",
    "    # add hover\n",
    "    TOOLTIPS = [\n",
    "        ('Country', '@country'),\n",
    "        ('Income Level', '@income_level'),\n",
    "        ('% Pop with Electricty Access', '@right_to_plot')]\n",
    "    \n",
    "    p2.add_tools(HoverTool(tooltips=TOOLTIPS, toggleable=False))\n",
    "\n",
    "    layout = column(widgetbox(year_select, width=750), p2)\n",
    "    \n",
    "    show(layout)"
   ]
  },
  {
   "cell_type": "code",
   "execution_count": 203,
   "metadata": {
    "collapsed": true
   },
   "outputs": [],
   "source": [
    "# add colors and groups?\n",
    "# add legend\n",
    "# add tabs for other indicators"
   ]
  },
  {
   "cell_type": "code",
   "execution_count": 204,
   "metadata": {
    "scrolled": true
   },
   "outputs": [
    {
     "data": {
      "text/html": [
       "\n",
       "\n",
       "\n",
       "\n",
       "\n",
       "\n",
       "  <div class=\"bk-root\" id=\"a4b943b1-f92f-47ab-88f3-51e4c0fb63de\"></div>\n"
      ]
     },
     "metadata": {},
     "output_type": "display_data"
    },
    {
     "data": {
      "application/javascript": [
       "(function(root) {\n",
       "  function embed_document(root) {\n",
       "    \n",
       "  var docs_json = {\"fed6599c-4c3f-4ac5-920d-ad51c3201a71\":{\"roots\":{\"references\":[{\"attributes\":{},\"id\":\"ac78198c-9ee1-4815-a5a4-2c3f7d61da29\",\"type\":\"Selection\"},{\"attributes\":{\"children\":[{\"id\":\"0f403690-0bd6-4139-b62f-d074ff011d1a\",\"type\":\"WidgetBox\"},{\"id\":\"6ee10601-7095-4e89-b472-732fdeee3cae\",\"subtype\":\"Figure\",\"type\":\"Plot\"}]},\"id\":\"da2cb8f5-2eb1-4cc0-8312-dbaa066800ee\",\"type\":\"Column\"},{\"attributes\":{\"fill_alpha\":{\"value\":0.1},\"fill_color\":{\"value\":\"#1f77b4\"},\"height\":{\"value\":1},\"line_alpha\":{\"value\":0.1},\"line_color\":{\"value\":\"#1f77b4\"},\"right\":{\"field\":\"right_to_plot\"},\"y\":{\"field\":\"country\"}},\"id\":\"5625c9dd-364a-4646-85e0-f2b02beddebc\",\"type\":\"HBar\"},{\"attributes\":{\"children\":[{\"id\":\"05d83494-44d0-46ac-a7d7-5b3e3b045a93\",\"type\":\"Slider\"}],\"width\":750},\"id\":\"0f403690-0bd6-4139-b62f-d074ff011d1a\",\"type\":\"WidgetBox\"},{\"attributes\":{\"axis_label\":\"% of Population with Access to Electricity\",\"formatter\":{\"id\":\"db8ba886-ea79-4869-bd41-266370299177\",\"type\":\"PrintfTickFormatter\"},\"plot\":{\"id\":\"6ee10601-7095-4e89-b472-732fdeee3cae\",\"subtype\":\"Figure\",\"type\":\"Plot\"},\"ticker\":{\"id\":\"0ac151c5-806d-4e36-a354-b53501146eea\",\"type\":\"BasicTicker\"}},\"id\":\"b912cb0d-d7f2-4e50-ad30-23e4259fb5b8\",\"type\":\"LinearAxis\"},{\"attributes\":{\"source\":{\"id\":\"6dae14fa-2e0b-4a6f-acb4-3325e6dcc63e\",\"type\":\"ColumnDataSource\"}},\"id\":\"0a7145db-384c-4d75-9bef-60768b663c5a\",\"type\":\"CDSView\"},{\"attributes\":{\"callback\":null,\"renderers\":\"auto\",\"toggleable\":false,\"tooltips\":[[\"Country\",\"@country\"],[\"Income Level\",\"@income_level\"],[\"% Pop with Electricty Access\",\"@right_to_plot\"]]},\"id\":\"c964a3df-b9bc-4c38-a591-f7ea5c5952ff\",\"type\":\"HoverTool\"},{\"attributes\":{\"args\":{\"source\":{\"id\":\"6dae14fa-2e0b-4a6f-acb4-3325e6dcc63e\",\"type\":\"ColumnDataSource\"},\"year_select\":{\"id\":\"05d83494-44d0-46ac-a7d7-5b3e3b045a93\",\"type\":\"Slider\"}},\"code\":\"var cb;\\ncb = function flx_cb (year_select, source) {\\n    var new_data, stub1_, stub1_i0, stub1_iter0, stub1_n, year_selected;\\n    year_select = (year_select === undefined) ? year_select: year_select;\\n    source = (source === undefined) ? source: source;\\n    year_selected = year_select.value;\\n    new_data = source.data[year_selected];\\n    stub1_ = [];stub1_iter0 = new_data;if ((typeof stub1_iter0 === \\\"object\\\") && (!Array.isArray(stub1_iter0))) {stub1_iter0 = Object.keys(stub1_iter0);}for (stub1_i0=0; stub1_i0<stub1_iter0.length; stub1_i0++) {stub1_n = stub1_iter0[stub1_i0];{stub1_.push(stub1_n);}}\\n    source.data[\\\"right_to_plot\\\"] = stub1_;\\n    source.change.emit();\\n    return null;\\n};\\ncb(year_select, source);\\n\"},\"id\":\"e69579b8-5ae1-4a44-a2d2-8d0d38c77eaf\",\"type\":\"CustomJS\"},{\"attributes\":{\"factors\":[\"High income\",\"Upper middle income\",\"Lower middle income\",\"Low income\"],\"palette\":[\"#2b83ba\",\"#abdda4\",\"#fdae61\",\"#d7191c\"]},\"id\":\"35c0e01b-abb6-417c-bd1b-6ae292a7b7e6\",\"type\":\"CategoricalColorMapper\"},{\"attributes\":{\"below\":[{\"id\":\"b912cb0d-d7f2-4e50-ad30-23e4259fb5b8\",\"type\":\"LinearAxis\"}],\"left\":[{\"id\":\"b940053a-d279-4dee-94a3-3ae26e280dfc\",\"type\":\"CategoricalAxis\"}],\"plot_height\":500,\"plot_width\":750,\"renderers\":[{\"id\":\"b912cb0d-d7f2-4e50-ad30-23e4259fb5b8\",\"type\":\"LinearAxis\"},{\"id\":\"7a1b2453-8fc9-48c0-b65e-691b58c4e9b3\",\"type\":\"Grid\"},{\"id\":\"b940053a-d279-4dee-94a3-3ae26e280dfc\",\"type\":\"CategoricalAxis\"},{\"id\":\"3017e4a3-5270-4ee8-b66b-2bfaa8fae7a4\",\"type\":\"Grid\"},{\"id\":\"45e0d8ca-f1e7-414b-9114-4115ab2d6790\",\"type\":\"BoxAnnotation\"},{\"id\":\"d2c925df-56ef-45bc-ac1f-21e374671356\",\"type\":\"GlyphRenderer\"}],\"title\":{\"id\":\"00fba5bf-12c6-42a1-9568-01268d74c64a\",\"type\":\"Title\"},\"toolbar\":{\"id\":\"1cdfecfb-e224-4d3f-ad0f-4134f6af0600\",\"type\":\"Toolbar\"},\"toolbar_location\":\"above\",\"x_range\":{\"id\":\"42fb7787-d7fe-4e95-a1e7-e53124309da1\",\"type\":\"Range1d\"},\"x_scale\":{\"id\":\"d5c3459e-404e-487b-a458-e76cf3d0118e\",\"type\":\"LinearScale\"},\"y_range\":{\"id\":\"815b2fb5-e1b7-409d-953c-f2d81fbfe590\",\"type\":\"FactorRange\"},\"y_scale\":{\"id\":\"d96664f2-1e25-4aee-803d-66e2f745f98f\",\"type\":\"CategoricalScale\"}},\"id\":\"6ee10601-7095-4e89-b472-732fdeee3cae\",\"subtype\":\"Figure\",\"type\":\"Plot\"},{\"attributes\":{\"callback\":null,\"end\":100},\"id\":\"42fb7787-d7fe-4e95-a1e7-e53124309da1\",\"type\":\"Range1d\"},{\"attributes\":{\"callback\":null,\"data\":{\"1990\":[89.5455856323242,25.234790802002,6.043880462646491,59.3379402160645,64.61288452148439,58.5914421081543,99.2344207763672,3.8861868381500204,27.3,13.9,0.00999999977648258,3.31838989257812,42.757965087890604,23.536262512207,11.397808074951199,37.6637115478516,0.00999999977648258,32.8,0.00999999977648258,30.1297168731689,0.00999999977648258,25.130535125732397,0.00999999977648258,2.4837088584899902,0.00999999977648258,2.2900023460388197,1.2664570808410602,0.00999999977648258,7.081538200378421,9.57178211212158,0.00999999977648258,7.31127214431763,2.6105573177337598,0.348627060651779,0.00999999977648258,0.00999999977648258,15.299549102783198,0.00999999977648258,0.00999999977648258,0.00999999977648258,16.2323532104492,6.42906713485718,0.00999999977648258,0.00999999977648258,1.1207196712493899,17.8409461975098,30.3578319549561],\"1991\":[90.0195541381836,26.317316055297898,10.1,60.575080871582,65.70444488525389,59.0105171203613,99.27847290039058,5.40018510818481,33.558380126953104,14.1154260635376,0.00999999977648258,4.61489009857178,43.6918334960938,25.6872043609619,12.5793790817261,38.7843894958496,0.8346933722496029,27.0560111999512,0.42399895191192605,29.0,0.00999999977648258,26.657602310180696,0.00999999977648258,3.23441529273987,0.942452967166901,2.8871281147003196,5.6,0.00999999977648258,7.52079248428345,10.014093399047901,0.0236798115074635,8.68394088745117,3.3087186813354506,0.688546001911163,0.538830280303955,0.0307872705161572,17.7665767669678,0.0102698123082519,0.582454681396484,0.00999999977648258,17.5063056945801,7.4742112159729,0.265749454498291,0.00999999977648258,1.5494590997695903,19.0116214752197,30.718805313110398],\"1992\":[90.49301147460942,26.4,10.3697214126587,61.811710357665994,66.79550170898439,59.4290771484375,99.32201385498051,6.91367387771606,34.6189117431641,19.2,0.00999999977648258,5.91088104248047,44.6251907348633,27.8376350402832,13.7604398727417,39.90456008911129,1.6276037693023702,27.578321456909197,1.44882464408874,32.5555992126465,0.00999999977648258,28.184158325195302,2.3,6.8,2.84530162811279,4.4,2.76766586303711,0.00999999977648258,7.9595365524292,9.2,0.13086751103401198,10.0560998916626,4.00637006759644,1.02795505523682,1.08137118816376,0.108397804200649,20.2330932617188,0.0298860743641853,1.18300318717957,0.0273247733712196,18.779748916626,8.5188455581665,0.541686713695526,0.00999999977648258,3.2,20.1817874908447,28.2],\"1993\":[90.96340942382808,28.4782886505127,12.529327392578098,63.045284271240206,67.8834991455078,59.8445816040039,99.3625030517578,8.42410373687744,35.6763877868652,15.287503242492699,0.00999999977648258,10.9,45.5554885864258,30.6,14.9384412765503,41.021671295166,3.9797055721283,28.0975704193115,3.0026297569274902,33.7652244567871,0.00999999977648258,26.0,0.0427721999585629,4.73174905776978,4.74509143829346,4.077301025390629,3.5149564743042006,0.00999999977648258,8.39522171020508,10.8946380615234,0.511635363101959,11.425199508667,6.1,1.3643051385879499,1.68202197551727,0.29748061299323997,22.6965522766113,0.15972380340099301,1.91118037700653,0.15724191069603,17.7,9.56042003631592,1.1927692890167199,0.00999999977648258,2.40285897254944,21.3488922119141,31.4366779327393],\"1994\":[90.0,29.5511283874512,14.6828155517578,64.27273559570311,68.9653701782227,60.2539672851562,99.3968658447266,9.92841529846191,36.727745056152294,15.865894317627001,0.00999999977648258,8.49062538146973,46.479671478271506,32.1262588500977,16.1103248596191,36.5,6.325689315795901,28.6107025146484,5.79214000701904,34.9687347412109,0.00999999977648258,31.225034713745103,0.18825627863407102,5.4727678298950195,6.6387624740600595,4.664740085601809,4.25612878799438,0.0246996525675058,8.824788093566891,11.327262878417999,0.8855078816413879,12.788180351257301,5.38943719863892,1.69453692436218,2.27655458450317,0.575130105018616,25.1538925170898,0.5594853162765501,2.6332392692565896,0.598653972148895,21.3143997192383,10.595876693725598,1.8377336263656598,0.00999999977648258,2.82191109657288,22.5098819732666,28.1],\"1995\":[91.8827972412109,30.6147899627686,16.827127456665,65.4910125732422,70.0380706787109,60.6541748046875,99.42205810546879,11.4235486984253,37.769924163818395,16.4351081848145,0.00999999977648258,9.76826190948486,47.3946723937988,34.2583389282227,17.2730312347412,43.2344818115234,8.66249561309814,29.1146564483643,8.57247352600098,36.16306686401371,0.00999999977648258,32.7332382202148,0.5774781107902529,6.20460987091064,8.523256301879881,6.2,6.8,0.13690839707851402,9.24517822265625,11.750709533691401,2.4924738407135,14.1419849395752,6.06873416900635,2.01559138298035,3.0,1.00354039669037,27.602054595947298,1.1791011095047,3.34612107276917,1.11878561973572,22.569486618042003,11.6221561431885,2.47352051734924,0.00999999977648258,3.23178601264954,22.9,32.1300773620605],\"1996\":[92.3256683349609,31.666213989257802,18.9592018127441,57.6,71.0985336303711,61.0421485900879,99.4350128173828,12.9064464569092,38.7998695373535,17.3,0.0135795697569847,11.033660888671902,48.29743957519529,36.3781776428223,18.4235019683838,44.324058532714794,10.987065315246598,29.6063747406006,11.340569496154801,37.345161437988295,0.00999999977648258,34.229202270507805,1.1623027324676498,9.4,10.395514488220199,7.0,5.707881927490231,0.525144457817078,9.65333080291748,12.1619205474854,6.2,14.5,6.73579454421997,2.32440948486328,3.4350285530090297,1.4197142124176,28.9,2.3186979293823198,4.046766281127931,2.78076887130737,23.8123397827148,12.6361989974976,3.09707117080689,0.00999999977648258,3.6294245719909703,24.8012676239014,32.459949493408196],\"1997\":[92.0,32.7023429870605,21.075979232788104,67.88779449462889,72.1436996459961,61.414821624755895,99.4326705932617,14.3740491867065,39.8145141601562,17.533767700195302,0.0616895519196987,12.2837648391724,49.1849136352539,38.482723236084,19.5586757659912,45.398342132568395,13.296339988708501,30.0827980041504,14.093370437622099,38.5119590759277,0.00999999977648258,32.2,2.14179015159607,7.62852478027344,12.2524766921997,6.35975551605225,6.41234493255615,0.9507777094841,10.0461883544922,10.9,5.66663694381714,16.8098239898682,7.3875594139099094,2.61793184280396,3.99285197257996,2.3,32.458610534668004,6.6,4.73211622238159,4.42745685577393,25.0398960113525,13.634946823120101,3.70532631874084,0.00999999977648258,4.01176738739014,25.9255447387695,32.774528503418004],\"1998\":[93.1624603271484,33.720119476318395,23.1744041442871,64.9,73.17051696777341,61.7691459655762,99.4119720458984,15.823296546936,40.81081008911129,19.0,0.301523357629776,14.5,50.054027557373,42.6,20.675495147705103,46.45426940917971,15.587259292602502,30.540864944457997,16.8278179168701,40.7,0.00999999977648258,37.172187805175795,3.10292291641235,8.314479827880861,15.3,6.7,7.09845304489136,2.48747158050537,10.4206914901733,12.935396194458,7.227716445922849,18.117742538452102,8.020970344543459,3.9,4.5323204994201705,2.20311617851257,34.860885620117195,4.548945903778081,5.39911127090454,6.055789947509769,26.249097824096697,14.6153392791748,4.29522657394409,0.00999999977648258,4.37575578689575,27.031469345092802,33.0707511901855],\"1999\":[93.55026245117192,34.716480255127,25.2514152526856,70.21115875244139,74.17591857910159,62.10205078125,99.36986541748051,17.2511291503906,44.9,18.559007644653303,0.9568244814872741,14.725850105285598,50.9017333984375,42.63368606567379,21.7709007263184,48.2,17.856765747070302,30.9775199890137,19.5408496856689,40.787437438964794,0.00999999977648258,36.2,4.04264211654663,8.0,15.9082775115967,7.40309143066406,7.76314783096313,4.00275182723999,10.773780822753901,13.291543006897,8.76738166809082,19.404245376586896,6.9,3.1468539237976096,5.05037546157837,2.5642261505127,37.2417488098145,5.63347864151001,6.044692516326901,7.6627092361450195,27.436885833740202,16.4,4.86371326446533,0.00999999977648258,4.71833038330078,28.115980148315398,38.4],\"2000\":[93.9151153564453,36.5,27.3054733276367,71.3391799926758,73.6,62.4120063781738,99.0,18.6560115814209,42.7376136779785,16.7,4.25876010781671,15.9132328033447,52.9,44.675510406494105,22.843355178832997,48.5003471374512,20.103319168090803,23.0,22.2309303283691,41.0,0.00999999977648258,62.2570630965705,6.2,9.62061023712158,16.956234880140702,6.481481481481481,8.4048900604248,5.495079517364499,11.1039171218872,13.624736785888699,10.2840948104858,20.6677970886231,9.22201061248779,3.3776555061340297,6.0,2.90238356590271,39.5996589660645,6.6950588226318395,6.7,12.7,34.3,16.5103454589844,5.40924739837646,0.00999999977648258,4.8,29.177537918090803,33.597419738769496],\"2001\":[94.2615585327148,36.6448860168457,24.8,70.2,76.1223983764648,62.7035522460937,99.2213287353516,22.2,43.6711311340332,19.4985198974609,3.62964963912964,17.0822067260742,52.5328216552734,46.6989250183105,20.0,49.493499755859396,22.331462860107397,31.786512374877898,26.9,46.2,0.00999999977648258,41.4305763244629,5.85776567459106,10.2437896728516,19.4783496856689,8.36069869995117,8.6,6.96899747848511,11.4156436920166,14.8,10.8,21.9,9.79264450073242,3.5900473594665496,6.022170543670651,3.2221312522888197,41.9391593933105,5.7,7.27154016494751,10.812232971191401,29.748146057128896,17.4279613494873,5.9363718032836905,0.00999999977648258,5.33916425704956,30.2206859588623,33.830867767334],\"2002\":[96.1,37.5875396728516,31.364421844482397,77.1,77.074089050293,62.982749938964794,99.4,21.416606903076197,44.5923004150391,17.4,5.3033766746521,18.2388324737549,53.3268165588379,48.709991455078104,24.939094543457,51.4,24.5472602844238,32.1694564819336,27.5619239807129,44.050506591796896,0.00999999977648258,36.8,6.74377536773682,10.854621887207001,21.241834640502898,8.81795120239258,7.8,7.4,11.7150239944458,14.2419586181641,13.2683544158936,23.1457328796387,10.350932121276902,3.79009222984314,6.486515998840329,3.5295321941375697,44.8,8.76905345916748,7.863412380218509,12.3654432296753,30.882225036621104,18.33323097229,6.45114946365356,0.00999999977648258,5.62802982330322,32.2,34.2],\"2003\":[94.92346954345699,38.52390670776371,33.381439208984396,78.8,78.0194931030273,63.2556648254395,99.0233993530273,22.784448623657198,52.2,18.5,6.97081995010376,16.0,54.114528656005895,48.3,25.9745082855225,51.4488296508789,26.756772994995103,32.5461196899414,30.2149639129639,45.1175422668457,0.00999999977648258,44.1986808776855,7.623501777648929,11.1,22.999036788940398,9.268918991088869,10.2439088821411,9.88585567474365,12.0081205368042,20.3,14.748027801513699,24.3722438812256,11.4,3.9838535785675,6.94457817077637,3.83064913749695,46.5871810913086,8.1,8.449001312255861,13.9123697280884,32.010021209716804,19.2322177886963,6.959643363952639,0.00999999977648258,6.2,32.2760047912598,34.2667846679688],\"2004\":[95.2510604858398,39.460056304931605,35.3982353210449,80.9,78.9646835327148,63.5283622741699,98.92108154296879,24.1520690917969,46.4218521118164,20.3,6.8,20.5392971038818,54.902015686035206,52.7193374633789,27.0097007751465,52.4231300354004,28.966064453125,32.922561645507805,32.8677825927734,47.1,0.0113150468096137,36.8,8.50300693511963,11.4,24.7560157775879,9.71966648101807,10.848390579223599,11.340922355651902,16.8,14.8340463638306,16.2274799346924,25.598535537719698,11.454719543457001,4.1773943901062,7.402419567108151,3.5,48.907833099365206,10.8179121017456,9.03436851501465,15.459075927734402,33.1375961303711,20.1309833526611,7.46791648864746,0.011186852119863,6.9,33.300304412841804,34.4813804626465],\"2005\":[95.5844879150391,40.402046203613295,37.4208755493164,80.9,81.6,63.8068962097168,98.8246002197266,18.2,47.34236145019529,21.2778854370117,10.311107635498,21.6952629089355,55.6953468322754,54.7297439575195,28.050735473632802,58.9,33.8,33.3048439025879,35.5264434814453,47.257022857665994,0.0336989164352417,47.1,4.8,12.673668861389197,26.5188388824463,7.1,8.9,12.8018312454224,11.332485516461801,15.135821342468299,17.7127742767334,26.8306674957275,12.0123443603516,3.2073170731707297,7.8661036491394105,4.43828439712524,51.2343215942383,11.8480739593506,6.0,14.0,30.4562675012354,20.2,7.98203182220459,0.044350128620862996,6.48117589950562,34.3304443359375,34.7018203735352],\"2006\":[99.0,41.3559417724609,39.4554214477539,80.7,80.8786392211914,64.0973358154297,98.74002075195308,26.910898208618196,48.274776458740206,21.737333297729503,9.7,22.8631324768066,56.5005874633789,55.09345007577029,29.1036758422852,60.1710526315789,33.4082412719727,33.699031829834,35.2,49.0,0.15520825982093803,49.9,10.285608291626,13.2957448959351,27.9,9.3,9.0,15.233785822021101,12.910337448120101,15.449502944946301,16.6,27.9,12.5818758010864,4.58806562423706,7.80516932525804,4.7569284439086905,53.5727195739746,12.890141487121598,10.2286949157715,18.576078414917,35.4163360595703,21.9521045684814,14.5361990950226,0.24477654695510898,3.6532273329547595,35.372486114502,37.2],\"2007\":[96.2931365966797,43.7,41.5079345703125,82.0,81.8595428466797,64.4057464599609,98.6734085083008,33.0405405405405,50.1309194284432,18.5,13.6990165710449,24.0489711761475,57.3237915039063,58.792331695556605,37.5,55.4053421020508,35.653247833252,34.1111869812012,40.8855476379395,48.2,0.5029495358467101,49.7807388305664,11.2008304595947,13.935788154602001,30.0862636566162,11.13121509552,12.7211399078369,15.7654285430908,13.238929748535199,15.781151771545401,20.7251415252686,29.336711883544897,13.169374465942399,4.81732225418091,8.83524990081787,5.09354114532471,55.929084777832,13.950177192688,15.2,20.1585006713867,36.5796241760254,22.886587142944304,9.052042007446289,3.0,7.09936189651489,36.4324989318848,35.184478759765604],\"2008\":[96.67896270751949,43.32218933105471,43.1,81.9,82.8629608154297,64.7366790771484,98.6293258666992,30.0,50.3,22.7146854400635,15.424475669860803,25.2573299407959,58.169517517089794,60.5,31.2680130004883,56.4378814697266,37.9207763671875,34.5458641052246,43.59660339355471,50.569175720214794,1.02175235748291,51.219661712646506,6.0,11.5,31.901479721069304,11.640199661254899,13.3838567733765,17.278732299804698,12.1,16.1353225708008,22.262830734252898,30.621238708496104,13.7793941497803,4.8,9.35132789611816,5.45267391204834,58.3079681396484,13.571223846374302,11.4933834075928,21.7634429931641,37.765438079834,23.8435878753662,9.61855220794678,1.7526564598083503,7.439959526062009,37.51503372192379,35.4573097229004],\"2009\":[97.08582305908199,44.33760070800779,45.679027557373,82.7,83.8874130249023,65.0886383056641,98.60626220703129,31.186975479126,51.191989898681605,23.2356491088867,17.0,23.0,56.9,62.9389572143555,32.3824691772461,57.4914436340332,37.1,29.0,46.328685760498,51.71525573730471,3.0,53.5,13.0973424911499,11.2,33.7377243041992,12.1702108383179,10.0,18.813062667846697,13.962181091308599,17.4,24.0308958348372,31.9267921447754,14.4104413986206,5.3419041633606,9.8884334564209,5.83283472061157,60.707881927490206,15.0,12.158015251159698,23.3894119262695,38.9722747802734,24.8216171264648,4.7,1.9,7.80158472061157,38.618595123291,43.3690818728747],\"2010\":[97.0,45.371036529540994,47.7931137084961,82.9,84.9298858642578,65.4586181640625,98.60122680664058,32.651882171630895,48.0,22.0,18.935472488403303,19.2,59.921047210693395,65.0408096313477,33.514949798584,58.56303405761721,42.5159149169922,35.4752998352051,45.5523376086057,52.8793601989746,1.5,54.157588958740206,9.7,14.8,30.7917436845348,12.7182464599609,14.769371032714801,20.3654174804688,11.462173073547499,16.9037399291992,25.398286819457997,34.2,13.1,5.3,9.8,6.4,63.1258201599121,17.2579231262207,12.840670585632301,25.033405303955103,40.197135925293004,25.8176708221436,6.0,5.14613103866577,8.7,39.740180969238295,36.063056945800795],\"2011\":[97.9505996704102,46.419490814209006,53.24,84.7,85.9873809814453,66.1,99.4,34.1318130493164,55.9,24.3286437988281,20.7150020599365,28.996553421020497,60.8208427429199,64.06255999999999,34.6,59.6496429443359,44.8375129699707,35.9640464782715,51.84391784667971,53.7,3.91866946220398,56.5,10.8,14.2,39.7,14.3,14.6,21.9327907562256,14.2,14.3,26.9900455474853,36.9,15.723602294921902,5.93858003616333,11.013710975647,6.644222259521481,65.55877685546879,20.2,13.5383453369141,23.0,41.437019348144496,26.828742980957,11.432229995727502,4.1,7.6,40.8767852783203,36.9],\"2012\":[98.40927124023442,47.4799613952637,52.0633392333984,85.3,89.3,66.2406387329102,98.63320922851558,35.6237564086914,54.269905090332,24.894666671752898,22.5065479278564,30.270999908447298,57.9,69.28656005859379,35.821964263916,55.8,41.6,36.4648094177246,54.621063232421896,55.249626159668,4.91234540939331,57.1555976867676,16.069776535034197,15.3,39.342582702636705,14.4,16.2149639129639,23.5121803283691,15.1747264862061,17.7322368621826,25.6,38.4,16.3997077941895,6.5,11.5958757400513,7.06944179534912,69.3,19.54319190979,15.4,28.3634471893311,42.6889152526856,26.2,12.064826011657699,8.59968376159668,7.4,42.0254058837891,36.7288780212402],\"2013\":[98.0,47.4,54.213470458984396,85.4,86.4,66.64666748046879,98.6642227172852,37.1247100830078,55.6,25.469701766967802,24.307104110717802,31.554456710815398,62.653480529785206,70.7,36.9904899597168,61.8559036254883,49.5137557983399,36.9745864868164,57.4072151184082,56.449779510498104,5.915032863616941,57.0,15.2,16.4,41.2328987121582,14.4404544830322,13.9,25.100582122802702,13.5,12.9,30.2066078186035,37.2992057800293,17.0848274230957,6.583319187164309,12.187051773071301,7.50367307662964,70.4577331542969,20.7008457183838,14.9667387008667,30.0434875488281,44.5,28.8839321136475,12.706434249877901,9.8,9.0,43.1830368041992,37.076812744140604],\"2014\":[99.29888916015629,49.624935150146506,56.3696098327637,86.0,89.21994018554692,67.058708190918,98.7012405395508,38.8,56.3719139099121,27.9,27.8,36.0,68.6,78.3,32.0,61.9,51.8623924255371,44.9,65.0,56.8,6.92372846603394,61.0,19.8,18.9101791381836,45.7,15.0305442810059,20.4,26.694992065429698,16.033155441284197,18.5967807769775,31.8254013061523,34.1,19.2,7.0,12.784235954284698,7.94391202926636,72.917724609375,21.8645076751709,13.5,27.2,45.2167434692383,29.9220409393311,17.2,9.4,11.9,44.346675872802706,32.3],\"2015\":[99.6783218383789,50.7034301757813,58.528751373290994,85.5,90.3074722290039,67.473747253418,98.7412567138672,39.5,52.5,31.1,27.9232387542725,41.6,64.5101470947266,75.7152786254883,42.0,64.0861968994141,60.4,38.0091552734375,62.994544982910206,58.8651008605957,7.93542766571045,60.5,22.8,18.5,45.0285453796387,16.6,18.5,28.292404174804698,16.468376159668,19.0350608825684,37.6,40.033477783203104,18.4700813293457,7.25208950042725,13.384423255920401,7.7,75.3807144165039,24.0,16.4191646575928,33.418590545654304,46.486663818359396,30.9631519317627,14.0046701431274,13.840091705322301,10.8,45.5133209228516,33.7],\"2016\":[100.0,51.78242492675779,60.6883964538574,84.2,91.39550018310551,67.889289855957,98.7817840576172,41.652107238769496,59.3,27.219337463378896,29.7333087921143,56.0,65.4404830932617,79.3,40.5206069946289,64.3,56.5661697387695,38.5284423828125,65.7902069091797,60.0747680664063,8.94762802124023,64.5,29.37,32.8,46.928375244140604,16.2172336578369,26.7,29.890317916870103,20.3,22.9,35.0694999694824,41.402614593505895,19.1647129058838,7.58847713470459,13.985112190246598,8.83089828491211,77.8442153930664,24.198339462280302,17.1473789215088,42.9,47.7570877075195,33.5,14.6557903289795,19.8,11.0,46.6804618835449,38.1451377868652],\"country\":[\"Seychelles\",\"Namibia\",\"Botswana\",\"South Africa\",\"Gabon\",\"Equatorial Guinea\",\"Mauritius\",\"Mauritania\",\"Nigeria\",\"Zambia\",\"Lesotho\",\"Kenya\",\"Sao Tome and Principe\",\"Ghana\",\"Angola\",\"Cote d'Ivoire\",\"Congo, Rep.\",\"Sudan\",\"Swaziland\",\"Cameroon\",\"South Sudan\",\"Senegal\",\"Rwanda\",\"Tanzania\",\"Togo\",\"Niger\",\"Uganda\",\"Somalia\",\"Sierra Leone\",\"Madagascar\",\"Mali\",\"Benin\",\"Burkina Faso\",\"Burundi\",\"Central African Republic\",\"Chad\",\"Comoros\",\"Mozambique\",\"Congo, Dem. Rep.\",\"Ethiopia\",\"Gambia, The\",\"Guinea\",\"Guinea-Bissau\",\"Liberia\",\"Malawi\",\"Eritrea\",\"Zimbabwe\"],\"country_code\":[\"SC\",\"NM\",\"BW\",\"ZA\",\"GA\",\"GQ\",\"MU\",\"MR\",\"NG\",\"ZM\",\"LS\",\"KE\",\"ST\",\"GH\",\"AO\",\"CI\",\"CG\",\"SD\",\"SZ\",\"CM\",\"SS\",\"SN\",\"RW\",\"TZ\",\"TG\",\"NE\",\"UG\",\"SO\",\"SL\",\"MG\",\"ML\",\"BJ\",\"BF\",\"BI\",\"CF\",\"TD\",\"KM\",\"MZ\",\"CD\",\"ET\",\"GM\",\"GN\",\"GW\",\"LR\",\"MW\",\"ER\",\"ZW\"],\"delta_2000\":[6.084884643554702,15.282424926757797,33.382923126220696,12.860820007324207,17.795500183105503,5.477283477783203,-0.2182159423827983,22.996095657348604,16.562386322021492,10.5193374633789,25.47454868429759,40.086767196655295,12.540483093261704,34.6244895935059,17.6772518157959,15.799652862548795,36.462850570678704,15.5284423828125,43.55927658081061,19.0747680664063,8.937628021463748,2.242936903429502,23.17,23.179389762878408,29.972140363999902,9.73575217635542,18.2951099395752,24.3952383995056,9.1960828781128,9.275263214111297,24.7854051589966,20.734817504882802,9.942702293396009,4.21082162857056,7.9851121902466,5.9285147190093985,38.2445564270019,17.503280639648462,10.4473789215088,30.2,13.457087707519506,16.9896545410156,9.246542930603036,19.790000000223518,6.2,17.502923965454098,4.547718048095697],\"income_level\":[\"High income\",\"Upper middle income\",\"Upper middle income\",\"Upper middle income\",\"Upper middle income\",\"Upper middle income\",\"Upper middle income\",\"Lower middle income\",\"Lower middle income\",\"Lower middle income\",\"Lower middle income\",\"Lower middle income\",\"Lower middle income\",\"Lower middle income\",\"Lower middle income\",\"Lower middle income\",\"Lower middle income\",\"Lower middle income\",\"Lower middle income\",\"Lower middle income\",\"Low income\",\"Low income\",\"Low income\",\"Low income\",\"Low income\",\"Low income\",\"Low income\",\"Low income\",\"Low income\",\"Low income\",\"Low income\",\"Low income\",\"Low income\",\"Low income\",\"Low income\",\"Low income\",\"Low income\",\"Low income\",\"Low income\",\"Low income\",\"Low income\",\"Low income\",\"Low income\",\"Low income\",\"Low income\",\"Low income\",\"Low income\"],\"index\":[35,29,2,38,15,12,27,26,31,45,21,20,33,17,0,11,10,40,41,5,39,34,32,42,43,30,44,37,36,23,25,1,3,4,6,7,8,28,9,14,16,18,19,22,24,13,46],\"right_to_plot\":[89.5455856323242,25.234790802002,6.043880462646491,59.3379402160645,64.61288452148439,58.5914421081543,99.2344207763672,3.8861868381500204,27.3,13.9,0.00999999977648258,3.31838989257812,42.757965087890604,23.536262512207,11.397808074951199,37.6637115478516,0.00999999977648258,32.8,0.00999999977648258,30.1297168731689,0.00999999977648258,25.130535125732397,0.00999999977648258,2.4837088584899902,0.00999999977648258,2.2900023460388197,1.2664570808410602,0.00999999977648258,7.081538200378421,9.57178211212158,0.00999999977648258,7.31127214431763,2.6105573177337598,0.348627060651779,0.00999999977648258,0.00999999977648258,15.299549102783198,0.00999999977648258,0.00999999977648258,0.00999999977648258,16.2323532104492,6.42906713485718,0.00999999977648258,0.00999999977648258,1.1207196712493899,17.8409461975098,30.3578319549561]},\"selected\":{\"id\":\"ac78198c-9ee1-4815-a5a4-2c3f7d61da29\",\"type\":\"Selection\"},\"selection_policy\":{\"id\":\"c9ed6f05-8773-4481-8c7e-725b1456169a\",\"type\":\"UnionRenderers\"}},\"id\":\"6dae14fa-2e0b-4a6f-acb4-3325e6dcc63e\",\"type\":\"ColumnDataSource\"},{\"attributes\":{\"format\":\"%0.0f %%\"},\"id\":\"db8ba886-ea79-4869-bd41-266370299177\",\"type\":\"PrintfTickFormatter\"},{\"attributes\":{\"data_source\":{\"id\":\"6dae14fa-2e0b-4a6f-acb4-3325e6dcc63e\",\"type\":\"ColumnDataSource\"},\"glyph\":{\"id\":\"b3c0a31b-3e96-4b1e-bb48-f6a1b162d3fc\",\"type\":\"HBar\"},\"hover_glyph\":null,\"muted_glyph\":null,\"nonselection_glyph\":{\"id\":\"5625c9dd-364a-4646-85e0-f2b02beddebc\",\"type\":\"HBar\"},\"selection_glyph\":null,\"view\":{\"id\":\"0a7145db-384c-4d75-9bef-60768b663c5a\",\"type\":\"CDSView\"}},\"id\":\"d2c925df-56ef-45bc-ac1f-21e374671356\",\"type\":\"GlyphRenderer\"},{\"attributes\":{\"plot\":null,\"text\":\"Electricity Access\"},\"id\":\"00fba5bf-12c6-42a1-9568-01268d74c64a\",\"type\":\"Title\"},{\"attributes\":{\"active_drag\":\"auto\",\"active_inspect\":\"auto\",\"active_multi\":null,\"active_scroll\":\"auto\",\"active_tap\":\"auto\",\"tools\":[{\"id\":\"94a9e256-6cc2-4c94-b0fd-7906ecd79919\",\"type\":\"PanTool\"},{\"id\":\"4ed5a808-4bf9-4fe1-9fd1-c579489be589\",\"type\":\"BoxZoomTool\"},{\"id\":\"8fd67323-de3e-468c-ab16-1f035a1dfe05\",\"type\":\"ResetTool\"},{\"id\":\"c964a3df-b9bc-4c38-a591-f7ea5c5952ff\",\"type\":\"HoverTool\"}]},\"id\":\"1cdfecfb-e224-4d3f-ad0f-4134f6af0600\",\"type\":\"Toolbar\"},{\"attributes\":{},\"id\":\"d5c3459e-404e-487b-a458-e76cf3d0118e\",\"type\":\"LinearScale\"},{\"attributes\":{\"formatter\":{\"id\":\"1001dc4a-9c65-44c8-83cd-22538ca067d9\",\"type\":\"CategoricalTickFormatter\"},\"plot\":{\"id\":\"6ee10601-7095-4e89-b472-732fdeee3cae\",\"subtype\":\"Figure\",\"type\":\"Plot\"},\"ticker\":{\"id\":\"cd7ac228-eec7-46da-ab71-096476092e7b\",\"type\":\"CategoricalTicker\"}},\"id\":\"b940053a-d279-4dee-94a3-3ae26e280dfc\",\"type\":\"CategoricalAxis\"},{\"attributes\":{\"callback\":null,\"factors\":[\"Seychelles\",\"Namibia\",\"Botswana\",\"South Africa\",\"Gabon\",\"Equatorial Guinea\",\"Mauritius\",\"Mauritania\",\"Nigeria\",\"Zambia\",\"Lesotho\",\"Kenya\",\"Sao Tome and Principe\",\"Ghana\",\"Angola\",\"Cote d'Ivoire\",\"Congo, Rep.\",\"Sudan\",\"Swaziland\",\"Cameroon\",\"South Sudan\",\"Senegal\",\"Rwanda\",\"Tanzania\",\"Togo\",\"Niger\",\"Uganda\",\"Somalia\",\"Sierra Leone\",\"Madagascar\",\"Mali\",\"Benin\",\"Burkina Faso\",\"Burundi\",\"Central African Republic\",\"Chad\",\"Comoros\",\"Mozambique\",\"Congo, Dem. Rep.\",\"Ethiopia\",\"Gambia, The\",\"Guinea\",\"Guinea-Bissau\",\"Liberia\",\"Malawi\",\"Eritrea\",\"Zimbabwe\"]},\"id\":\"815b2fb5-e1b7-409d-953c-f2d81fbfe590\",\"type\":\"FactorRange\"},{\"attributes\":{},\"id\":\"d96664f2-1e25-4aee-803d-66e2f745f98f\",\"type\":\"CategoricalScale\"},{\"attributes\":{\"bottom_units\":\"screen\",\"fill_alpha\":{\"value\":0.5},\"fill_color\":{\"value\":\"lightgrey\"},\"left_units\":\"screen\",\"level\":\"overlay\",\"line_alpha\":{\"value\":1.0},\"line_color\":{\"value\":\"black\"},\"line_dash\":[4,4],\"line_width\":{\"value\":2},\"plot\":null,\"render_mode\":\"css\",\"right_units\":\"screen\",\"top_units\":\"screen\"},\"id\":\"45e0d8ca-f1e7-414b-9114-4115ab2d6790\",\"type\":\"BoxAnnotation\"},{\"attributes\":{},\"id\":\"cd7ac228-eec7-46da-ab71-096476092e7b\",\"type\":\"CategoricalTicker\"},{\"attributes\":{},\"id\":\"0ac151c5-806d-4e36-a354-b53501146eea\",\"type\":\"BasicTicker\"},{\"attributes\":{},\"id\":\"c9ed6f05-8773-4481-8c7e-725b1456169a\",\"type\":\"UnionRenderers\"},{\"attributes\":{\"plot\":{\"id\":\"6ee10601-7095-4e89-b472-732fdeee3cae\",\"subtype\":\"Figure\",\"type\":\"Plot\"},\"ticker\":{\"id\":\"0ac151c5-806d-4e36-a354-b53501146eea\",\"type\":\"BasicTicker\"}},\"id\":\"7a1b2453-8fc9-48c0-b65e-691b58c4e9b3\",\"type\":\"Grid\"},{\"attributes\":{\"dimension\":1,\"plot\":{\"id\":\"6ee10601-7095-4e89-b472-732fdeee3cae\",\"subtype\":\"Figure\",\"type\":\"Plot\"},\"ticker\":{\"id\":\"cd7ac228-eec7-46da-ab71-096476092e7b\",\"type\":\"CategoricalTicker\"}},\"id\":\"3017e4a3-5270-4ee8-b66b-2bfaa8fae7a4\",\"type\":\"Grid\"},{\"attributes\":{},\"id\":\"1001dc4a-9c65-44c8-83cd-22538ca067d9\",\"type\":\"CategoricalTickFormatter\"},{\"attributes\":{\"callback\":{\"id\":\"e69579b8-5ae1-4a44-a2d2-8d0d38c77eaf\",\"type\":\"CustomJS\"},\"end\":2016,\"start\":1990,\"title\":\"Choose a Year\",\"value\":1990},\"id\":\"05d83494-44d0-46ac-a7d7-5b3e3b045a93\",\"type\":\"Slider\"},{\"attributes\":{},\"id\":\"8fd67323-de3e-468c-ab16-1f035a1dfe05\",\"type\":\"ResetTool\"},{\"attributes\":{\"fill_color\":{\"field\":\"income_level\",\"transform\":{\"id\":\"35c0e01b-abb6-417c-bd1b-6ae292a7b7e6\",\"type\":\"CategoricalColorMapper\"}},\"height\":{\"value\":1},\"line_color\":{\"value\":\"white\"},\"right\":{\"field\":\"right_to_plot\"},\"y\":{\"field\":\"country\"}},\"id\":\"b3c0a31b-3e96-4b1e-bb48-f6a1b162d3fc\",\"type\":\"HBar\"},{\"attributes\":{\"overlay\":{\"id\":\"45e0d8ca-f1e7-414b-9114-4115ab2d6790\",\"type\":\"BoxAnnotation\"}},\"id\":\"4ed5a808-4bf9-4fe1-9fd1-c579489be589\",\"type\":\"BoxZoomTool\"},{\"attributes\":{},\"id\":\"94a9e256-6cc2-4c94-b0fd-7906ecd79919\",\"type\":\"PanTool\"}],\"root_ids\":[\"da2cb8f5-2eb1-4cc0-8312-dbaa066800ee\"]},\"title\":\"Bokeh Application\",\"version\":\"0.13.0\"}};\n",
       "  var render_items = [{\"docid\":\"fed6599c-4c3f-4ac5-920d-ad51c3201a71\",\"roots\":{\"da2cb8f5-2eb1-4cc0-8312-dbaa066800ee\":\"a4b943b1-f92f-47ab-88f3-51e4c0fb63de\"}}];\n",
       "  root.Bokeh.embed.embed_items_notebook(docs_json, render_items);\n",
       "\n",
       "  }\n",
       "  if (root.Bokeh !== undefined) {\n",
       "    embed_document(root);\n",
       "  } else {\n",
       "    var attempts = 0;\n",
       "    var timer = setInterval(function(root) {\n",
       "      if (root.Bokeh !== undefined) {\n",
       "        embed_document(root);\n",
       "        clearInterval(timer);\n",
       "      }\n",
       "      attempts++;\n",
       "      if (attempts > 100) {\n",
       "        console.log(\"Bokeh: ERROR: Unable to run BokehJS code because BokehJS library is missing\")\n",
       "        clearInterval(timer);\n",
       "      }\n",
       "    }, 10, root)\n",
       "  }\n",
       "})(window);"
      ],
      "application/vnd.bokehjs_exec.v0+json": ""
     },
     "metadata": {
      "application/vnd.bokehjs_exec.v0+json": {
       "id": "da2cb8f5-2eb1-4cc0-8312-dbaa066800ee"
      }
     },
     "output_type": "display_data"
    }
   ],
   "source": [
    "# run plot\n",
    "source = make_dataset_2(df_electric, year_selected=1990)\n",
    "make_plot_2(source)"
   ]
  },
  {
   "cell_type": "code",
   "execution_count": null,
   "metadata": {
    "collapsed": true
   },
   "outputs": [],
   "source": []
  },
  {
   "cell_type": "code",
   "execution_count": null,
   "metadata": {
    "collapsed": true
   },
   "outputs": [],
   "source": []
  },
  {
   "cell_type": "code",
   "execution_count": null,
   "metadata": {
    "collapsed": true
   },
   "outputs": [],
   "source": []
  },
  {
   "cell_type": "code",
   "execution_count": null,
   "metadata": {
    "collapsed": true
   },
   "outputs": [],
   "source": []
  },
  {
   "cell_type": "code",
   "execution_count": null,
   "metadata": {
    "collapsed": true
   },
   "outputs": [],
   "source": []
  },
  {
   "cell_type": "code",
   "execution_count": null,
   "metadata": {
    "collapsed": true
   },
   "outputs": [],
   "source": []
  },
  {
   "cell_type": "code",
   "execution_count": null,
   "metadata": {
    "collapsed": true
   },
   "outputs": [],
   "source": []
  },
  {
   "cell_type": "code",
   "execution_count": null,
   "metadata": {
    "collapsed": true
   },
   "outputs": [],
   "source": []
  }
 ],
 "metadata": {
  "kernelspec": {
   "display_name": "Python 3",
   "language": "python",
   "name": "python3"
  },
  "language_info": {
   "codemirror_mode": {
    "name": "ipython",
    "version": 3
   },
   "file_extension": ".py",
   "mimetype": "text/x-python",
   "name": "python",
   "nbconvert_exporter": "python",
   "pygments_lexer": "ipython3",
   "version": "3.6.1"
  }
 },
 "nbformat": 4,
 "nbformat_minor": 2
}
