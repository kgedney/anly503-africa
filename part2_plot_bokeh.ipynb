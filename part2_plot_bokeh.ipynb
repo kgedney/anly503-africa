{
 "cells": [
  {
   "cell_type": "markdown",
   "metadata": {},
   "source": [
    "#### Prep Data"
   ]
  },
  {
   "cell_type": "code",
   "execution_count": 33,
   "metadata": {
    "collapsed": true
   },
   "outputs": [],
   "source": [
    "# set wd\n",
    "import os\n",
    "project_root = '/Users/kgedney/Documents/georgetown/anly503/project/'\n",
    "os.chdir(project_root)"
   ]
  },
  {
   "cell_type": "code",
   "execution_count": 116,
   "metadata": {},
   "outputs": [
    {
     "data": {
      "text/html": [
       "\n",
       "    <div class=\"bk-root\">\n",
       "        <a href=\"https://bokeh.pydata.org\" target=\"_blank\" class=\"bk-logo bk-logo-small bk-logo-notebook\"></a>\n",
       "        <span id=\"1a492bdd-d25b-48a8-b00f-cc9b199b0f54\">Loading BokehJS ...</span>\n",
       "    </div>"
      ]
     },
     "metadata": {},
     "output_type": "display_data"
    },
    {
     "data": {
      "application/javascript": [
       "\n",
       "(function(root) {\n",
       "  function now() {\n",
       "    return new Date();\n",
       "  }\n",
       "\n",
       "  var force = true;\n",
       "\n",
       "  if (typeof (root._bokeh_onload_callbacks) === \"undefined\" || force === true) {\n",
       "    root._bokeh_onload_callbacks = [];\n",
       "    root._bokeh_is_loading = undefined;\n",
       "  }\n",
       "\n",
       "  var JS_MIME_TYPE = 'application/javascript';\n",
       "  var HTML_MIME_TYPE = 'text/html';\n",
       "  var EXEC_MIME_TYPE = 'application/vnd.bokehjs_exec.v0+json';\n",
       "  var CLASS_NAME = 'output_bokeh rendered_html';\n",
       "\n",
       "  /**\n",
       "   * Render data to the DOM node\n",
       "   */\n",
       "  function render(props, node) {\n",
       "    var script = document.createElement(\"script\");\n",
       "    node.appendChild(script);\n",
       "  }\n",
       "\n",
       "  /**\n",
       "   * Handle when an output is cleared or removed\n",
       "   */\n",
       "  function handleClearOutput(event, handle) {\n",
       "    var cell = handle.cell;\n",
       "\n",
       "    var id = cell.output_area._bokeh_element_id;\n",
       "    var server_id = cell.output_area._bokeh_server_id;\n",
       "    // Clean up Bokeh references\n",
       "    if (id != null && id in Bokeh.index) {\n",
       "      Bokeh.index[id].model.document.clear();\n",
       "      delete Bokeh.index[id];\n",
       "    }\n",
       "\n",
       "    if (server_id !== undefined) {\n",
       "      // Clean up Bokeh references\n",
       "      var cmd = \"from bokeh.io.state import curstate; print(curstate().uuid_to_server['\" + server_id + \"'].get_sessions()[0].document.roots[0]._id)\";\n",
       "      cell.notebook.kernel.execute(cmd, {\n",
       "        iopub: {\n",
       "          output: function(msg) {\n",
       "            var id = msg.content.text.trim();\n",
       "            if (id in Bokeh.index) {\n",
       "              Bokeh.index[id].model.document.clear();\n",
       "              delete Bokeh.index[id];\n",
       "            }\n",
       "          }\n",
       "        }\n",
       "      });\n",
       "      // Destroy server and session\n",
       "      var cmd = \"import bokeh.io.notebook as ion; ion.destroy_server('\" + server_id + \"')\";\n",
       "      cell.notebook.kernel.execute(cmd);\n",
       "    }\n",
       "  }\n",
       "\n",
       "  /**\n",
       "   * Handle when a new output is added\n",
       "   */\n",
       "  function handleAddOutput(event, handle) {\n",
       "    var output_area = handle.output_area;\n",
       "    var output = handle.output;\n",
       "\n",
       "    // limit handleAddOutput to display_data with EXEC_MIME_TYPE content only\n",
       "    if ((output.output_type != \"display_data\") || (!output.data.hasOwnProperty(EXEC_MIME_TYPE))) {\n",
       "      return\n",
       "    }\n",
       "\n",
       "    var toinsert = output_area.element.find(\".\" + CLASS_NAME.split(' ')[0]);\n",
       "\n",
       "    if (output.metadata[EXEC_MIME_TYPE][\"id\"] !== undefined) {\n",
       "      toinsert[toinsert.length - 1].firstChild.textContent = output.data[JS_MIME_TYPE];\n",
       "      // store reference to embed id on output_area\n",
       "      output_area._bokeh_element_id = output.metadata[EXEC_MIME_TYPE][\"id\"];\n",
       "    }\n",
       "    if (output.metadata[EXEC_MIME_TYPE][\"server_id\"] !== undefined) {\n",
       "      var bk_div = document.createElement(\"div\");\n",
       "      bk_div.innerHTML = output.data[HTML_MIME_TYPE];\n",
       "      var script_attrs = bk_div.children[0].attributes;\n",
       "      for (var i = 0; i < script_attrs.length; i++) {\n",
       "        toinsert[toinsert.length - 1].firstChild.setAttribute(script_attrs[i].name, script_attrs[i].value);\n",
       "      }\n",
       "      // store reference to server id on output_area\n",
       "      output_area._bokeh_server_id = output.metadata[EXEC_MIME_TYPE][\"server_id\"];\n",
       "    }\n",
       "  }\n",
       "\n",
       "  function register_renderer(events, OutputArea) {\n",
       "\n",
       "    function append_mime(data, metadata, element) {\n",
       "      // create a DOM node to render to\n",
       "      var toinsert = this.create_output_subarea(\n",
       "        metadata,\n",
       "        CLASS_NAME,\n",
       "        EXEC_MIME_TYPE\n",
       "      );\n",
       "      this.keyboard_manager.register_events(toinsert);\n",
       "      // Render to node\n",
       "      var props = {data: data, metadata: metadata[EXEC_MIME_TYPE]};\n",
       "      render(props, toinsert[toinsert.length - 1]);\n",
       "      element.append(toinsert);\n",
       "      return toinsert\n",
       "    }\n",
       "\n",
       "    /* Handle when an output is cleared or removed */\n",
       "    events.on('clear_output.CodeCell', handleClearOutput);\n",
       "    events.on('delete.Cell', handleClearOutput);\n",
       "\n",
       "    /* Handle when a new output is added */\n",
       "    events.on('output_added.OutputArea', handleAddOutput);\n",
       "\n",
       "    /**\n",
       "     * Register the mime type and append_mime function with output_area\n",
       "     */\n",
       "    OutputArea.prototype.register_mime_type(EXEC_MIME_TYPE, append_mime, {\n",
       "      /* Is output safe? */\n",
       "      safe: true,\n",
       "      /* Index of renderer in `output_area.display_order` */\n",
       "      index: 0\n",
       "    });\n",
       "  }\n",
       "\n",
       "  // register the mime type if in Jupyter Notebook environment and previously unregistered\n",
       "  if (root.Jupyter !== undefined) {\n",
       "    var events = require('base/js/events');\n",
       "    var OutputArea = require('notebook/js/outputarea').OutputArea;\n",
       "\n",
       "    if (OutputArea.prototype.mime_types().indexOf(EXEC_MIME_TYPE) == -1) {\n",
       "      register_renderer(events, OutputArea);\n",
       "    }\n",
       "  }\n",
       "\n",
       "  \n",
       "  if (typeof (root._bokeh_timeout) === \"undefined\" || force === true) {\n",
       "    root._bokeh_timeout = Date.now() + 5000;\n",
       "    root._bokeh_failed_load = false;\n",
       "  }\n",
       "\n",
       "  var NB_LOAD_WARNING = {'data': {'text/html':\n",
       "     \"<div style='background-color: #fdd'>\\n\"+\n",
       "     \"<p>\\n\"+\n",
       "     \"BokehJS does not appear to have successfully loaded. If loading BokehJS from CDN, this \\n\"+\n",
       "     \"may be due to a slow or bad network connection. Possible fixes:\\n\"+\n",
       "     \"</p>\\n\"+\n",
       "     \"<ul>\\n\"+\n",
       "     \"<li>re-rerun `output_notebook()` to attempt to load from CDN again, or</li>\\n\"+\n",
       "     \"<li>use INLINE resources instead, as so:</li>\\n\"+\n",
       "     \"</ul>\\n\"+\n",
       "     \"<code>\\n\"+\n",
       "     \"from bokeh.resources import INLINE\\n\"+\n",
       "     \"output_notebook(resources=INLINE)\\n\"+\n",
       "     \"</code>\\n\"+\n",
       "     \"</div>\"}};\n",
       "\n",
       "  function display_loaded() {\n",
       "    var el = document.getElementById(\"1a492bdd-d25b-48a8-b00f-cc9b199b0f54\");\n",
       "    if (el != null) {\n",
       "      el.textContent = \"BokehJS is loading...\";\n",
       "    }\n",
       "    if (root.Bokeh !== undefined) {\n",
       "      if (el != null) {\n",
       "        el.textContent = \"BokehJS \" + root.Bokeh.version + \" successfully loaded.\";\n",
       "      }\n",
       "    } else if (Date.now() < root._bokeh_timeout) {\n",
       "      setTimeout(display_loaded, 100)\n",
       "    }\n",
       "  }\n",
       "\n",
       "\n",
       "  function run_callbacks() {\n",
       "    try {\n",
       "      root._bokeh_onload_callbacks.forEach(function(callback) { callback() });\n",
       "    }\n",
       "    finally {\n",
       "      delete root._bokeh_onload_callbacks\n",
       "    }\n",
       "    console.info(\"Bokeh: all callbacks have finished\");\n",
       "  }\n",
       "\n",
       "  function load_libs(js_urls, callback) {\n",
       "    root._bokeh_onload_callbacks.push(callback);\n",
       "    if (root._bokeh_is_loading > 0) {\n",
       "      console.log(\"Bokeh: BokehJS is being loaded, scheduling callback at\", now());\n",
       "      return null;\n",
       "    }\n",
       "    if (js_urls == null || js_urls.length === 0) {\n",
       "      run_callbacks();\n",
       "      return null;\n",
       "    }\n",
       "    console.log(\"Bokeh: BokehJS not loaded, scheduling load and callback at\", now());\n",
       "    root._bokeh_is_loading = js_urls.length;\n",
       "    for (var i = 0; i < js_urls.length; i++) {\n",
       "      var url = js_urls[i];\n",
       "      var s = document.createElement('script');\n",
       "      s.src = url;\n",
       "      s.async = false;\n",
       "      s.onreadystatechange = s.onload = function() {\n",
       "        root._bokeh_is_loading--;\n",
       "        if (root._bokeh_is_loading === 0) {\n",
       "          console.log(\"Bokeh: all BokehJS libraries loaded\");\n",
       "          run_callbacks()\n",
       "        }\n",
       "      };\n",
       "      s.onerror = function() {\n",
       "        console.warn(\"failed to load library \" + url);\n",
       "      };\n",
       "      console.log(\"Bokeh: injecting script tag for BokehJS library: \", url);\n",
       "      document.getElementsByTagName(\"head\")[0].appendChild(s);\n",
       "    }\n",
       "  };var element = document.getElementById(\"1a492bdd-d25b-48a8-b00f-cc9b199b0f54\");\n",
       "  if (element == null) {\n",
       "    console.log(\"Bokeh: ERROR: autoload.js configured with elementid '1a492bdd-d25b-48a8-b00f-cc9b199b0f54' but no matching script tag was found. \")\n",
       "    return false;\n",
       "  }\n",
       "\n",
       "  var js_urls = [\"https://cdn.pydata.org/bokeh/release/bokeh-0.13.0.min.js\", \"https://cdn.pydata.org/bokeh/release/bokeh-widgets-0.13.0.min.js\", \"https://cdn.pydata.org/bokeh/release/bokeh-tables-0.13.0.min.js\", \"https://cdn.pydata.org/bokeh/release/bokeh-gl-0.13.0.min.js\"];\n",
       "\n",
       "  var inline_js = [\n",
       "    function(Bokeh) {\n",
       "      Bokeh.set_log_level(\"info\");\n",
       "    },\n",
       "    \n",
       "    function(Bokeh) {\n",
       "      \n",
       "    },\n",
       "    function(Bokeh) {\n",
       "      console.log(\"Bokeh: injecting CSS: https://cdn.pydata.org/bokeh/release/bokeh-0.13.0.min.css\");\n",
       "      Bokeh.embed.inject_css(\"https://cdn.pydata.org/bokeh/release/bokeh-0.13.0.min.css\");\n",
       "      console.log(\"Bokeh: injecting CSS: https://cdn.pydata.org/bokeh/release/bokeh-widgets-0.13.0.min.css\");\n",
       "      Bokeh.embed.inject_css(\"https://cdn.pydata.org/bokeh/release/bokeh-widgets-0.13.0.min.css\");\n",
       "      console.log(\"Bokeh: injecting CSS: https://cdn.pydata.org/bokeh/release/bokeh-tables-0.13.0.min.css\");\n",
       "      Bokeh.embed.inject_css(\"https://cdn.pydata.org/bokeh/release/bokeh-tables-0.13.0.min.css\");\n",
       "    }\n",
       "  ];\n",
       "\n",
       "  function run_inline_js() {\n",
       "    \n",
       "    if ((root.Bokeh !== undefined) || (force === true)) {\n",
       "      for (var i = 0; i < inline_js.length; i++) {\n",
       "        inline_js[i].call(root, root.Bokeh);\n",
       "      }if (force === true) {\n",
       "        display_loaded();\n",
       "      }} else if (Date.now() < root._bokeh_timeout) {\n",
       "      setTimeout(run_inline_js, 100);\n",
       "    } else if (!root._bokeh_failed_load) {\n",
       "      console.log(\"Bokeh: BokehJS failed to load within specified timeout.\");\n",
       "      root._bokeh_failed_load = true;\n",
       "    } else if (force !== true) {\n",
       "      var cell = $(document.getElementById(\"1a492bdd-d25b-48a8-b00f-cc9b199b0f54\")).parents('.cell').data().cell;\n",
       "      cell.output_area.append_execute_result(NB_LOAD_WARNING)\n",
       "    }\n",
       "\n",
       "  }\n",
       "\n",
       "  if (root._bokeh_is_loading === 0) {\n",
       "    console.log(\"Bokeh: BokehJS loaded, going straight to plotting\");\n",
       "    run_inline_js();\n",
       "  } else {\n",
       "    load_libs(js_urls, function() {\n",
       "      console.log(\"Bokeh: BokehJS plotting callback run at\", now());\n",
       "      run_inline_js();\n",
       "    });\n",
       "  }\n",
       "}(window));"
      ],
      "application/vnd.bokehjs_load.v0+json": "\n(function(root) {\n  function now() {\n    return new Date();\n  }\n\n  var force = true;\n\n  if (typeof (root._bokeh_onload_callbacks) === \"undefined\" || force === true) {\n    root._bokeh_onload_callbacks = [];\n    root._bokeh_is_loading = undefined;\n  }\n\n  \n\n  \n  if (typeof (root._bokeh_timeout) === \"undefined\" || force === true) {\n    root._bokeh_timeout = Date.now() + 5000;\n    root._bokeh_failed_load = false;\n  }\n\n  var NB_LOAD_WARNING = {'data': {'text/html':\n     \"<div style='background-color: #fdd'>\\n\"+\n     \"<p>\\n\"+\n     \"BokehJS does not appear to have successfully loaded. If loading BokehJS from CDN, this \\n\"+\n     \"may be due to a slow or bad network connection. Possible fixes:\\n\"+\n     \"</p>\\n\"+\n     \"<ul>\\n\"+\n     \"<li>re-rerun `output_notebook()` to attempt to load from CDN again, or</li>\\n\"+\n     \"<li>use INLINE resources instead, as so:</li>\\n\"+\n     \"</ul>\\n\"+\n     \"<code>\\n\"+\n     \"from bokeh.resources import INLINE\\n\"+\n     \"output_notebook(resources=INLINE)\\n\"+\n     \"</code>\\n\"+\n     \"</div>\"}};\n\n  function display_loaded() {\n    var el = document.getElementById(\"1a492bdd-d25b-48a8-b00f-cc9b199b0f54\");\n    if (el != null) {\n      el.textContent = \"BokehJS is loading...\";\n    }\n    if (root.Bokeh !== undefined) {\n      if (el != null) {\n        el.textContent = \"BokehJS \" + root.Bokeh.version + \" successfully loaded.\";\n      }\n    } else if (Date.now() < root._bokeh_timeout) {\n      setTimeout(display_loaded, 100)\n    }\n  }\n\n\n  function run_callbacks() {\n    try {\n      root._bokeh_onload_callbacks.forEach(function(callback) { callback() });\n    }\n    finally {\n      delete root._bokeh_onload_callbacks\n    }\n    console.info(\"Bokeh: all callbacks have finished\");\n  }\n\n  function load_libs(js_urls, callback) {\n    root._bokeh_onload_callbacks.push(callback);\n    if (root._bokeh_is_loading > 0) {\n      console.log(\"Bokeh: BokehJS is being loaded, scheduling callback at\", now());\n      return null;\n    }\n    if (js_urls == null || js_urls.length === 0) {\n      run_callbacks();\n      return null;\n    }\n    console.log(\"Bokeh: BokehJS not loaded, scheduling load and callback at\", now());\n    root._bokeh_is_loading = js_urls.length;\n    for (var i = 0; i < js_urls.length; i++) {\n      var url = js_urls[i];\n      var s = document.createElement('script');\n      s.src = url;\n      s.async = false;\n      s.onreadystatechange = s.onload = function() {\n        root._bokeh_is_loading--;\n        if (root._bokeh_is_loading === 0) {\n          console.log(\"Bokeh: all BokehJS libraries loaded\");\n          run_callbacks()\n        }\n      };\n      s.onerror = function() {\n        console.warn(\"failed to load library \" + url);\n      };\n      console.log(\"Bokeh: injecting script tag for BokehJS library: \", url);\n      document.getElementsByTagName(\"head\")[0].appendChild(s);\n    }\n  };var element = document.getElementById(\"1a492bdd-d25b-48a8-b00f-cc9b199b0f54\");\n  if (element == null) {\n    console.log(\"Bokeh: ERROR: autoload.js configured with elementid '1a492bdd-d25b-48a8-b00f-cc9b199b0f54' but no matching script tag was found. \")\n    return false;\n  }\n\n  var js_urls = [\"https://cdn.pydata.org/bokeh/release/bokeh-0.13.0.min.js\", \"https://cdn.pydata.org/bokeh/release/bokeh-widgets-0.13.0.min.js\", \"https://cdn.pydata.org/bokeh/release/bokeh-tables-0.13.0.min.js\", \"https://cdn.pydata.org/bokeh/release/bokeh-gl-0.13.0.min.js\"];\n\n  var inline_js = [\n    function(Bokeh) {\n      Bokeh.set_log_level(\"info\");\n    },\n    \n    function(Bokeh) {\n      \n    },\n    function(Bokeh) {\n      console.log(\"Bokeh: injecting CSS: https://cdn.pydata.org/bokeh/release/bokeh-0.13.0.min.css\");\n      Bokeh.embed.inject_css(\"https://cdn.pydata.org/bokeh/release/bokeh-0.13.0.min.css\");\n      console.log(\"Bokeh: injecting CSS: https://cdn.pydata.org/bokeh/release/bokeh-widgets-0.13.0.min.css\");\n      Bokeh.embed.inject_css(\"https://cdn.pydata.org/bokeh/release/bokeh-widgets-0.13.0.min.css\");\n      console.log(\"Bokeh: injecting CSS: https://cdn.pydata.org/bokeh/release/bokeh-tables-0.13.0.min.css\");\n      Bokeh.embed.inject_css(\"https://cdn.pydata.org/bokeh/release/bokeh-tables-0.13.0.min.css\");\n    }\n  ];\n\n  function run_inline_js() {\n    \n    if ((root.Bokeh !== undefined) || (force === true)) {\n      for (var i = 0; i < inline_js.length; i++) {\n        inline_js[i].call(root, root.Bokeh);\n      }if (force === true) {\n        display_loaded();\n      }} else if (Date.now() < root._bokeh_timeout) {\n      setTimeout(run_inline_js, 100);\n    } else if (!root._bokeh_failed_load) {\n      console.log(\"Bokeh: BokehJS failed to load within specified timeout.\");\n      root._bokeh_failed_load = true;\n    } else if (force !== true) {\n      var cell = $(document.getElementById(\"1a492bdd-d25b-48a8-b00f-cc9b199b0f54\")).parents('.cell').data().cell;\n      cell.output_area.append_execute_result(NB_LOAD_WARNING)\n    }\n\n  }\n\n  if (root._bokeh_is_loading === 0) {\n    console.log(\"Bokeh: BokehJS loaded, going straight to plotting\");\n    run_inline_js();\n  } else {\n    load_libs(js_urls, function() {\n      console.log(\"Bokeh: BokehJS plotting callback run at\", now());\n      run_inline_js();\n    });\n  }\n}(window));"
     },
     "metadata": {},
     "output_type": "display_data"
    }
   ],
   "source": [
    "# prep\n",
    "import pandas as pd\n",
    "from pandas.api.types import CategoricalDtype\n",
    "\n",
    "import bokeh\n",
    "from bokeh.io import output_notebook\n",
    "from bokeh.models.callbacks import CustomJS\n",
    "from bokeh.models import ColumnDataSource, HoverTool\n",
    "\n",
    "from bokeh.layouts import widgetbox, column\n",
    "from bokeh.models.widgets import RadioButtonGroup, Slider\n",
    "\n",
    "from bokeh.plotting import figure, output_file, show\n",
    "\n",
    "output_notebook()"
   ]
  },
  {
   "cell_type": "code",
   "execution_count": 50,
   "metadata": {
    "collapsed": true
   },
   "outputs": [],
   "source": [
    "# load data\n",
    "gdp           = pd.read_csv('data/gdp.csv')\n",
    "log_gdp       = pd.read_csv('data/log_gdp.csv')\n",
    "gdp_growth    = pd.read_csv('data/gdp_growth.csv')\n",
    "df_electric   = pd.read_csv('data/electric.csv')\n",
    "df_internet   = pd.read_csv('data/internet.csv')\n",
    "df_cellphones = pd.read_csv('data/cellphones.csv')\n",
    "\n",
    "# add cat types back\n",
    "cat_type = CategoricalDtype(categories=['High income', 'Upper middle income', \n",
    "                                        'Lower middle income', 'Low income'], \n",
    "                            ordered=True)\n",
    "for df in [gdp, df_electric, df_internet, df_cellphones, log_gdp, gdp_growth]:\n",
    "    df['income_level'] = df['income_level'].astype(cat_type)"
   ]
  },
  {
   "cell_type": "code",
   "execution_count": 53,
   "metadata": {},
   "outputs": [
    {
     "data": {
      "text/plain": [
       "Index(['country', '1990', '1991', '1992', '1993', '1994', '1995', '1996',\n",
       "       '1997', '1998', '1999', '2000', '2001', '2002', '2003', '2004', '2005',\n",
       "       '2006', '2007', '2008', '2009', '2010', '2011', '2012', '2013', '2014',\n",
       "       '2015', '2016', 'country_code', 'income_level', 'delta_2000',\n",
       "       'gdp_growth_2017'],\n",
       "      dtype='object')"
      ]
     },
     "execution_count": 53,
     "metadata": {},
     "output_type": "execute_result"
    }
   ],
   "source": [
    "df_electric.columns"
   ]
  },
  {
   "cell_type": "code",
   "execution_count": 90,
   "metadata": {
    "collapsed": true
   },
   "outputs": [],
   "source": [
    "# add gdp growth levels in 2017 to each df\n",
    "gdp_growth = gdp_growth.rename(columns={'2017': 'gdp_growth_2017'})\n",
    "\n",
    "df_electric   = pd.merge(df_electric, gdp_growth[['country', 'gdp_growth_2017']], on='country', how='left')\n",
    "df_internet   = pd.merge(df_internet, gdp_growth[['country', 'gdp_growth_2017']], on='country', how='left')\n",
    "df_cellphones = pd.merge(df_cellphones, gdp_growth[['country', 'gdp_growth_2017']], on='country', how='left')"
   ]
  },
  {
   "cell_type": "markdown",
   "metadata": {},
   "source": [
    "#### Plot "
   ]
  },
  {
   "cell_type": "code",
   "execution_count": null,
   "metadata": {
    "collapsed": true
   },
   "outputs": [],
   "source": [
    "# make database with three telecom indicators and all years\n",
    "\n",
    "# database = {}\n",
    "    \n",
    "# indicators = ['electricty', 'internet', 'cellphones']\n",
    "# for indicator in indicators:\n",
    "#     database[indicator] = {}\n",
    "#     for genre in set(df_full.core_genre):\n",
    "#         tmp = make_dataset_genre(df_full, genre=genre, qtr_type=qtr_type)\n",
    "#         database[qtr_type][genre] = safe_cds(tmp)\n",
    "    \n",
    "#     return database"
   ]
  },
  {
   "cell_type": "code",
   "execution_count": 62,
   "metadata": {
    "collapsed": true
   },
   "outputs": [],
   "source": [
    "# # add radio button (maybe these can be panes instead)\n",
    "# radio_button_group = RadioButtonGroup(\n",
    "#         labels=[\"Option 1\", \"Option 2\", \"Option 3\"], active=0)"
   ]
  },
  {
   "cell_type": "code",
   "execution_count": 136,
   "metadata": {
    "collapsed": true
   },
   "outputs": [],
   "source": [
    "# add make_dataset function\n",
    "def make_dataset(df, year_selected):\n",
    "    df_sub = df[['country', 'country_code', 'income_level', 'gdp_growth_2017', str(year_selected)]]\n",
    "    df_sub = df_sub.rename(columns={str(year_selected): 'year_selected'})\n",
    "    return ColumnDataSource(df_sub)"
   ]
  },
  {
   "cell_type": "code",
   "execution_count": 137,
   "metadata": {},
   "outputs": [
    {
     "ename": "TypeError",
     "evalue": "object of type 'NoneType' has no len()",
     "output_type": "error",
     "traceback": [
      "\u001b[0;31m---------------------------------------------------------------------------\u001b[0m",
      "\u001b[0;31mTypeError\u001b[0m                                 Traceback (most recent call last)",
      "\u001b[0;32m<ipython-input-137-c6a66fd50268>\u001b[0m in \u001b[0;36m<module>\u001b[0;34m()\u001b[0m\n\u001b[1;32m     14\u001b[0m \u001b[0;34m\u001b[0m\u001b[0m\n\u001b[1;32m     15\u001b[0m \u001b[0;31m# set callback\u001b[0m\u001b[0;34m\u001b[0m\u001b[0;34m\u001b[0m\u001b[0m\n\u001b[0;32m---> 16\u001b[0;31m \u001b[0myear_slider\u001b[0m\u001b[0;34m.\u001b[0m\u001b[0mcallback\u001b[0m \u001b[0;34m=\u001b[0m \u001b[0mCustomJS\u001b[0m\u001b[0;34m.\u001b[0m\u001b[0mfrom_py_func\u001b[0m\u001b[0;34m(\u001b[0m\u001b[0mupdate\u001b[0m\u001b[0;34m)\u001b[0m\u001b[0;34m\u001b[0m\u001b[0m\n\u001b[0m",
      "\u001b[0;32m/Users/kgedney/anaconda/lib/python3.6/site-packages/bokeh/models/callbacks.py\u001b[0m in \u001b[0;36mfrom_py_func\u001b[0;34m(cls, func)\u001b[0m\n\u001b[1;32m     53\u001b[0m         \u001b[0;31m# Collect default values\u001b[0m\u001b[0;34m\u001b[0m\u001b[0;34m\u001b[0m\u001b[0m\n\u001b[1;32m     54\u001b[0m         \u001b[0mdefault_values\u001b[0m \u001b[0;34m=\u001b[0m \u001b[0mfunc\u001b[0m\u001b[0;34m.\u001b[0m\u001b[0m__defaults__\u001b[0m  \u001b[0;31m# Python 2.6+\u001b[0m\u001b[0;34m\u001b[0m\u001b[0m\n\u001b[0;32m---> 55\u001b[0;31m         \u001b[0mdefault_names\u001b[0m \u001b[0;34m=\u001b[0m \u001b[0mfunc\u001b[0m\u001b[0;34m.\u001b[0m\u001b[0m__code__\u001b[0m\u001b[0;34m.\u001b[0m\u001b[0mco_varnames\u001b[0m\u001b[0;34m[\u001b[0m\u001b[0;34m:\u001b[0m\u001b[0mlen\u001b[0m\u001b[0;34m(\u001b[0m\u001b[0mdefault_values\u001b[0m\u001b[0;34m)\u001b[0m\u001b[0;34m]\u001b[0m\u001b[0;34m\u001b[0m\u001b[0m\n\u001b[0m\u001b[1;32m     56\u001b[0m         \u001b[0margs\u001b[0m \u001b[0;34m=\u001b[0m \u001b[0mdict\u001b[0m\u001b[0;34m(\u001b[0m\u001b[0mzip\u001b[0m\u001b[0;34m(\u001b[0m\u001b[0mdefault_names\u001b[0m\u001b[0;34m,\u001b[0m \u001b[0mdefault_values\u001b[0m\u001b[0;34m)\u001b[0m\u001b[0;34m)\u001b[0m\u001b[0;34m\u001b[0m\u001b[0m\n\u001b[1;32m     57\u001b[0m         \u001b[0margs\u001b[0m\u001b[0;34m.\u001b[0m\u001b[0mpop\u001b[0m\u001b[0;34m(\u001b[0m\u001b[0;34m'window'\u001b[0m\u001b[0;34m,\u001b[0m \u001b[0;32mNone\u001b[0m\u001b[0;34m)\u001b[0m  \u001b[0;31m# Clear window, so we use the global window object\u001b[0m\u001b[0;34m\u001b[0m\u001b[0m\n",
      "\u001b[0;31mTypeError\u001b[0m: object of type 'NoneType' has no len()"
     ]
    }
   ],
   "source": [
    "# add year selector\n",
    "year_slider = Slider(start=1990, end=2016, value=1990, step=1, title=\"Choose a Year\")\n",
    "\n",
    "# def function to update it\n",
    "def update(year_slider):\n",
    "    \n",
    "   # grab selected year\n",
    "    year_selected = year_slider.value\n",
    "  \n",
    "    # create new ColumnDataSource\n",
    "    new_src = make_dataset(df_electric, year_selected=year_selected)\n",
    "\n",
    "    new_src.change.emit()\n",
    "    \n",
    "# set callback\n",
    "year_slider.callback = CustomJS.from_py_func(update)"
   ]
  },
  {
   "cell_type": "code",
   "execution_count": 142,
   "metadata": {},
   "outputs": [
    {
     "data": {
      "text/html": [
       "\n",
       "\n",
       "\n",
       "\n",
       "\n",
       "\n",
       "  <div class=\"bk-root\" id=\"065d5f19-ec45-4964-b3f8-9987afdb87e2\"></div>\n"
      ]
     },
     "metadata": {},
     "output_type": "display_data"
    },
    {
     "data": {
      "application/javascript": [
       "(function(root) {\n",
       "  function embed_document(root) {\n",
       "    \n",
       "  var docs_json = {\"8cfd1e84-61d7-45d7-92c9-de067464b0d2\":{\"roots\":{\"references\":[{\"attributes\":{\"formatter\":{\"id\":\"ff2bf00b-d309-446f-a47b-94ede89becc0\",\"type\":\"BasicTickFormatter\"},\"plot\":{\"id\":\"aa18f509-b21e-4cd2-bbf5-f82d3ed80bf1\",\"subtype\":\"Figure\",\"type\":\"Plot\"},\"ticker\":{\"id\":\"2cda1d13-5a6a-4707-af44-2583a5cd7005\",\"type\":\"BasicTicker\"}},\"id\":\"3f82ecaf-cca3-4466-8193-207ed5e869c0\",\"type\":\"LinearAxis\"},{\"attributes\":{\"plot\":null,\"text\":\"\"},\"id\":\"05ac1684-c441-4d06-88b4-97413ff7d8a6\",\"type\":\"Title\"},{\"attributes\":{},\"id\":\"2cda1d13-5a6a-4707-af44-2583a5cd7005\",\"type\":\"BasicTicker\"},{\"attributes\":{\"plot\":{\"id\":\"aa18f509-b21e-4cd2-bbf5-f82d3ed80bf1\",\"subtype\":\"Figure\",\"type\":\"Plot\"},\"ticker\":{\"id\":\"2cda1d13-5a6a-4707-af44-2583a5cd7005\",\"type\":\"BasicTicker\"}},\"id\":\"2b35d087-47f4-4f75-9238-1599ed947679\",\"type\":\"Grid\"},{\"attributes\":{\"formatter\":{\"id\":\"0c58ec5b-5fd0-45ed-8084-0673ef838346\",\"type\":\"BasicTickFormatter\"},\"plot\":{\"id\":\"aa18f509-b21e-4cd2-bbf5-f82d3ed80bf1\",\"subtype\":\"Figure\",\"type\":\"Plot\"},\"ticker\":{\"id\":\"b88eacaf-0cc6-4563-ad4d-33ceb37421c0\",\"type\":\"BasicTicker\"}},\"id\":\"4984f7e3-97ac-4313-a5e0-b93568443f19\",\"type\":\"LinearAxis\"},{\"attributes\":{},\"id\":\"b88eacaf-0cc6-4563-ad4d-33ceb37421c0\",\"type\":\"BasicTicker\"},{\"attributes\":{},\"id\":\"ff2bf00b-d309-446f-a47b-94ede89becc0\",\"type\":\"BasicTickFormatter\"},{\"attributes\":{},\"id\":\"bc0d0880-3428-4701-b7e9-695347d46397\",\"type\":\"LinearScale\"},{\"attributes\":{},\"id\":\"6b36ea94-9b37-41ee-b3a1-ac20099d8557\",\"type\":\"LinearScale\"},{\"attributes\":{\"callback\":null},\"id\":\"3269424b-6f4e-4399-bdb2-8ee34d3e3e6e\",\"type\":\"DataRange1d\"},{\"attributes\":{\"dimension\":1,\"plot\":{\"id\":\"aa18f509-b21e-4cd2-bbf5-f82d3ed80bf1\",\"subtype\":\"Figure\",\"type\":\"Plot\"},\"ticker\":{\"id\":\"b88eacaf-0cc6-4563-ad4d-33ceb37421c0\",\"type\":\"BasicTicker\"}},\"id\":\"86aecfe0-88bd-46bc-9917-e637ceaee815\",\"type\":\"Grid\"},{\"attributes\":{\"callback\":null},\"id\":\"876afd94-c9d3-4a3d-884b-14941bc3ef7e\",\"type\":\"DataRange1d\"},{\"attributes\":{\"active_drag\":\"auto\",\"active_inspect\":\"auto\",\"active_multi\":null,\"active_scroll\":\"auto\",\"active_tap\":\"auto\",\"tools\":[{\"id\":\"a5615a07-e40f-4da3-92b4-0dae8a55678f\",\"type\":\"PanTool\"},{\"id\":\"3f4f27d5-c513-450f-b042-7e28ba522dea\",\"type\":\"WheelZoomTool\"},{\"id\":\"d0a337c9-75fe-42ca-9516-24f200eb63c9\",\"type\":\"BoxZoomTool\"},{\"id\":\"5fe6b777-56ac-487f-b480-6d9c4b2dbe48\",\"type\":\"SaveTool\"},{\"id\":\"5ad97e15-ce24-4e9a-a7ee-cfa2cfeacce9\",\"type\":\"ResetTool\"},{\"id\":\"659dd016-29a2-43f2-a7bf-0be0dd0705d7\",\"type\":\"HelpTool\"},{\"id\":\"5b9e9d9e-e9d2-4f14-afaf-7a029d731cf8\",\"type\":\"HoverTool\"}]},\"id\":\"0bc2d156-4bf9-4187-acad-ffc520c891cd\",\"type\":\"Toolbar\"},{\"attributes\":{\"data_source\":{\"id\":\"6c539ec4-08f8-420a-b544-b1e77838e5d2\",\"type\":\"ColumnDataSource\"},\"glyph\":{\"id\":\"4db88945-8d70-4af3-b16b-8845006d1a0a\",\"type\":\"Circle\"},\"hover_glyph\":null,\"muted_glyph\":null,\"nonselection_glyph\":{\"id\":\"20285b14-194d-431b-9cdd-b2c3ae30f5a0\",\"type\":\"Circle\"},\"selection_glyph\":null,\"view\":{\"id\":\"a440af5b-7f33-4b91-b3c3-81935c1850cb\",\"type\":\"CDSView\"}},\"id\":\"b62e5c25-900d-4a96-a78b-5572458c974b\",\"type\":\"GlyphRenderer\"},{\"attributes\":{\"below\":[{\"id\":\"3f82ecaf-cca3-4466-8193-207ed5e869c0\",\"type\":\"LinearAxis\"}],\"left\":[{\"id\":\"4984f7e3-97ac-4313-a5e0-b93568443f19\",\"type\":\"LinearAxis\"}],\"renderers\":[{\"id\":\"3f82ecaf-cca3-4466-8193-207ed5e869c0\",\"type\":\"LinearAxis\"},{\"id\":\"2b35d087-47f4-4f75-9238-1599ed947679\",\"type\":\"Grid\"},{\"id\":\"4984f7e3-97ac-4313-a5e0-b93568443f19\",\"type\":\"LinearAxis\"},{\"id\":\"86aecfe0-88bd-46bc-9917-e637ceaee815\",\"type\":\"Grid\"},{\"id\":\"1d1ef54b-8916-4802-b310-001e788f5e73\",\"type\":\"BoxAnnotation\"},{\"id\":\"b62e5c25-900d-4a96-a78b-5572458c974b\",\"type\":\"GlyphRenderer\"}],\"title\":{\"id\":\"05ac1684-c441-4d06-88b4-97413ff7d8a6\",\"type\":\"Title\"},\"toolbar\":{\"id\":\"0bc2d156-4bf9-4187-acad-ffc520c891cd\",\"type\":\"Toolbar\"},\"x_range\":{\"id\":\"876afd94-c9d3-4a3d-884b-14941bc3ef7e\",\"type\":\"DataRange1d\"},\"x_scale\":{\"id\":\"6b36ea94-9b37-41ee-b3a1-ac20099d8557\",\"type\":\"LinearScale\"},\"y_range\":{\"id\":\"3269424b-6f4e-4399-bdb2-8ee34d3e3e6e\",\"type\":\"DataRange1d\"},\"y_scale\":{\"id\":\"bc0d0880-3428-4701-b7e9-695347d46397\",\"type\":\"LinearScale\"}},\"id\":\"aa18f509-b21e-4cd2-bbf5-f82d3ed80bf1\",\"subtype\":\"Figure\",\"type\":\"Plot\"},{\"attributes\":{\"callback\":null,\"data\":{\"country\":[\"Angola\",\"Benin\",\"Botswana\",\"Burkina Faso\",\"Burundi\",\"Cameroon\",\"Central African Republic\",\"Chad\",\"Comoros\",\"Congo, Dem. Rep.\",\"Congo, Rep.\",\"Cote d'Ivoire\",\"Equatorial Guinea\",\"Eritrea\",\"Ethiopia\",\"Gabon\",\"Gambia, The\",\"Ghana\",\"Guinea\",\"Guinea-Bissau\",\"Kenya\",\"Lesotho\",\"Liberia\",\"Madagascar\",\"Malawi\",\"Mali\",\"Mauritania\",\"Mauritius\",\"Mozambique\",\"Namibia\",\"Niger\",\"Nigeria\",\"Rwanda\",\"Sao Tome and Principe\",\"Senegal\",\"Seychelles\",\"Sierra Leone\",\"Somalia\",\"South Africa\",\"South Sudan\",\"Sudan\",\"Swaziland\",\"Tanzania\",\"Togo\",\"Uganda\",\"Zambia\",\"Zimbabwe\"],\"country_code\":[\"AO\",\"BJ\",\"BW\",\"BF\",\"BI\",\"CM\",\"CF\",\"TD\",\"KM\",\"CD\",\"CG\",\"CI\",\"GQ\",\"ER\",\"ET\",\"GA\",\"GM\",\"GH\",\"GN\",\"GW\",\"KE\",\"LS\",\"LR\",\"MG\",\"MW\",\"ML\",\"MR\",\"MU\",\"MZ\",\"NM\",\"NE\",\"NG\",\"RW\",\"ST\",\"SN\",\"SC\",\"SL\",\"SO\",\"ZA\",\"SS\",\"SD\",\"SZ\",\"TZ\",\"TG\",\"UG\",\"ZM\",\"ZW\"],\"gdp_growth_2017\":{\"__ndarray__\":\"fY1QEikY5z/g+j08N1YWQH00S7ii3wJA4aKSK3r4GkD+ffZpyZzgP14I42KraglAXIYC9iIzEUCK3FP6UqEHwOr//////wNAidtJo1ebDUDwx7a5OFsSwNUpQz4iMB9AnOvj+AbDCcAAAAAAAAD4f426devafSRA1KmMLe6s8T+EB7MRAAAMQE8O3fqpAyFA0+E4let/IEA+bEr1B60XQNyvNfWxihNActYoxg5dFkDFTuV0A6MDQPXfttLkrhBAJQDu/wcAEEADsS0zMzMVQOv//////wtAOWZmZmZmDkApHZIhgq8NQABg1F6Wpui/HW1CKPyTE0AE6hqkvhDqP31pTyACZxhAxxX7JOv/DkDbQuRq+CUbQO7MzMzMzBBAJt4rKXKhEEAAAAAAAAD4f680Bnb4HvU/AAAAAAAA+H+k0IJd3SERQAAAAAAAAPh/tfQlQKlqHECx5BW6XkMWQDwIooTetw9ANQbggY5OEEBKD4ieppMLQA==\",\"dtype\":\"float64\",\"shape\":[47]},\"income_level\":[\"Lower middle income\",\"Low income\",\"Upper middle income\",\"Low income\",\"Low income\",\"Lower middle income\",\"Low income\",\"Low income\",\"Low income\",\"Low income\",\"Lower middle income\",\"Lower middle income\",\"Upper middle income\",\"Low income\",\"Low income\",\"Upper middle income\",\"Low income\",\"Lower middle income\",\"Low income\",\"Low income\",\"Lower middle income\",\"Lower middle income\",\"Low income\",\"Low income\",\"Low income\",\"Low income\",\"Lower middle income\",\"Upper middle income\",\"Low income\",\"Upper middle income\",\"Low income\",\"Lower middle income\",\"Low income\",\"Lower middle income\",\"Low income\",\"High income\",\"Low income\",\"Low income\",\"Upper middle income\",\"Low income\",\"Lower middle income\",\"NaN\",\"Low income\",\"Low income\",\"Low income\",\"Lower middle income\",\"Low income\"],\"index\":[0,1,2,3,4,5,6,7,8,9,10,11,12,13,14,15,16,17,18,19,20,21,22,23,24,25,26,27,28,29,30,31,32,33,34,35,36,37,38,39,40,41,42,43,44,45,46],\"year_selected\":{\"__ndarray__\":\"DwAAgK3LJkADAAAgvj4dQAcAAADvLBhA9f//32viBED9///f50/WP/P//x81IT5A////P+F6hD////8/4XqEP/3//39emS5A////P+F6hD////8/4XqEPwUAAID01EJAAAAAYLRLTUAKAABASNcxQP///z/heoQ/AQAAgDknUED7//9/ezswQPf//39IiTdAAwAAYF23GUD///8/4XqEP/X///8PjApA////P+F6hD////8/4XqEP////5/AJCNAAQAAwHfu8T////8/4XqEP/f//x/pFg9AAQAAwADPWED///8/4XqEPw0AAEAbPDlAAwAAwOxRAkDNzMzMzEw7QP///z/heoQ//f///wRhRUD5//+/aiE5QP///9/qYlZAAwAAwH5THED///8/4XqEPwcAAKBBq01A////P+F6hD9mZmZmZmZAQP///z/heoQ/AAAAwKLeA0D///8/4XqEP+3//39oQ/Q/zczMzMzMK0ANAADgmls+QA==\",\"dtype\":\"float64\",\"shape\":[47]}},\"selected\":{\"id\":\"ba83ac01-63fb-4120-a671-2b1e45de8e6f\",\"type\":\"Selection\"},\"selection_policy\":{\"id\":\"c454a6f7-5a60-44a9-8c6b-930165aedfac\",\"type\":\"UnionRenderers\"}},\"id\":\"6c539ec4-08f8-420a-b544-b1e77838e5d2\",\"type\":\"ColumnDataSource\"},{\"attributes\":{\"fill_alpha\":{\"value\":0.1},\"fill_color\":{\"value\":\"#1f77b4\"},\"line_alpha\":{\"value\":0.1},\"line_color\":{\"value\":\"#1f77b4\"},\"x\":{\"field\":\"year_selected\"},\"y\":{\"field\":\"gdp_growth_2017\"}},\"id\":\"20285b14-194d-431b-9cdd-b2c3ae30f5a0\",\"type\":\"Circle\"},{\"attributes\":{\"children\":[{\"id\":\"14e9200f-e3eb-40c3-bd96-c9334037837b\",\"type\":\"RadioButtonGroup\"},{\"id\":\"99768f64-e08c-4ad0-9f84-580d3844fd24\",\"type\":\"Slider\"}],\"width\":500},\"id\":\"2a872916-2106-4c52-8a8f-9c00cfd7bfb2\",\"type\":\"WidgetBox\"},{\"attributes\":{},\"id\":\"c454a6f7-5a60-44a9-8c6b-930165aedfac\",\"type\":\"UnionRenderers\"},{\"attributes\":{\"callback\":null,\"end\":2016,\"start\":1990,\"title\":\"Choose a Year\",\"value\":1990},\"id\":\"99768f64-e08c-4ad0-9f84-580d3844fd24\",\"type\":\"Slider\"},{\"attributes\":{\"active\":0,\"callback\":null,\"labels\":[\"Option 1\",\"Option 2\",\"Option 3\"]},\"id\":\"14e9200f-e3eb-40c3-bd96-c9334037837b\",\"type\":\"RadioButtonGroup\"},{\"attributes\":{},\"id\":\"ba83ac01-63fb-4120-a671-2b1e45de8e6f\",\"type\":\"Selection\"},{\"attributes\":{\"children\":[{\"id\":\"2a872916-2106-4c52-8a8f-9c00cfd7bfb2\",\"type\":\"WidgetBox\"},{\"id\":\"aa18f509-b21e-4cd2-bbf5-f82d3ed80bf1\",\"subtype\":\"Figure\",\"type\":\"Plot\"}]},\"id\":\"513ef6c5-489c-405e-96fa-0a09176ca656\",\"type\":\"Column\"},{\"attributes\":{\"source\":{\"id\":\"6c539ec4-08f8-420a-b544-b1e77838e5d2\",\"type\":\"ColumnDataSource\"}},\"id\":\"a440af5b-7f33-4b91-b3c3-81935c1850cb\",\"type\":\"CDSView\"},{\"attributes\":{},\"id\":\"0c58ec5b-5fd0-45ed-8084-0673ef838346\",\"type\":\"BasicTickFormatter\"},{\"attributes\":{},\"id\":\"a5615a07-e40f-4da3-92b4-0dae8a55678f\",\"type\":\"PanTool\"},{\"attributes\":{\"bottom_units\":\"screen\",\"fill_alpha\":{\"value\":0.5},\"fill_color\":{\"value\":\"lightgrey\"},\"left_units\":\"screen\",\"level\":\"overlay\",\"line_alpha\":{\"value\":1.0},\"line_color\":{\"value\":\"black\"},\"line_dash\":[4,4],\"line_width\":{\"value\":2},\"plot\":null,\"render_mode\":\"css\",\"right_units\":\"screen\",\"top_units\":\"screen\"},\"id\":\"1d1ef54b-8916-4802-b310-001e788f5e73\",\"type\":\"BoxAnnotation\"},{\"attributes\":{},\"id\":\"3f4f27d5-c513-450f-b042-7e28ba522dea\",\"type\":\"WheelZoomTool\"},{\"attributes\":{\"overlay\":{\"id\":\"1d1ef54b-8916-4802-b310-001e788f5e73\",\"type\":\"BoxAnnotation\"}},\"id\":\"d0a337c9-75fe-42ca-9516-24f200eb63c9\",\"type\":\"BoxZoomTool\"},{\"attributes\":{\"callback\":null,\"renderers\":\"auto\",\"toggleable\":false,\"tooltips\":[[\"Country\",\"@country\"],[\"Income Level\",\"@income_level\"],[\"GDP Growth Rate (2017)\",\"@gdp_growth_2017\"]]},\"id\":\"5b9e9d9e-e9d2-4f14-afaf-7a029d731cf8\",\"type\":\"HoverTool\"},{\"attributes\":{},\"id\":\"5ad97e15-ce24-4e9a-a7ee-cfa2cfeacce9\",\"type\":\"ResetTool\"},{\"attributes\":{},\"id\":\"5fe6b777-56ac-487f-b480-6d9c4b2dbe48\",\"type\":\"SaveTool\"},{\"attributes\":{},\"id\":\"659dd016-29a2-43f2-a7bf-0be0dd0705d7\",\"type\":\"HelpTool\"},{\"attributes\":{\"fill_color\":{\"value\":\"#1f77b4\"},\"line_color\":{\"value\":\"#1f77b4\"},\"x\":{\"field\":\"year_selected\"},\"y\":{\"field\":\"gdp_growth_2017\"}},\"id\":\"4db88945-8d70-4af3-b16b-8845006d1a0a\",\"type\":\"Circle\"}],\"root_ids\":[\"513ef6c5-489c-405e-96fa-0a09176ca656\"]},\"title\":\"Bokeh Application\",\"version\":\"0.13.0\"}};\n",
       "  var render_items = [{\"docid\":\"8cfd1e84-61d7-45d7-92c9-de067464b0d2\",\"roots\":{\"513ef6c5-489c-405e-96fa-0a09176ca656\":\"065d5f19-ec45-4964-b3f8-9987afdb87e2\"}}];\n",
       "  root.Bokeh.embed.embed_items_notebook(docs_json, render_items);\n",
       "\n",
       "  }\n",
       "  if (root.Bokeh !== undefined) {\n",
       "    embed_document(root);\n",
       "  } else {\n",
       "    var attempts = 0;\n",
       "    var timer = setInterval(function(root) {\n",
       "      if (root.Bokeh !== undefined) {\n",
       "        embed_document(root);\n",
       "        clearInterval(timer);\n",
       "      }\n",
       "      attempts++;\n",
       "      if (attempts > 100) {\n",
       "        console.log(\"Bokeh: ERROR: Unable to run BokehJS code because BokehJS library is missing\")\n",
       "        clearInterval(timer);\n",
       "      }\n",
       "    }, 10, root)\n",
       "  }\n",
       "})(window);"
      ],
      "application/vnd.bokehjs_exec.v0+json": ""
     },
     "metadata": {
      "application/vnd.bokehjs_exec.v0+json": {
       "id": "513ef6c5-489c-405e-96fa-0a09176ca656"
      }
     },
     "output_type": "display_data"
    }
   ],
   "source": [
    "# set figure\n",
    "p = figure()\n",
    "\n",
    "# initialize dataset\n",
    "src = make_dataset(df_electric, year_selected=1990)\n",
    "\n",
    "# set lines\n",
    "p.circle(x = 'year_selected', \n",
    "         y = 'gdp_growth_2017',\n",
    "         source=src)\n",
    "\n",
    "# add hover\n",
    "TOOLTIPS = [\n",
    "        ('Country', '@country'),\n",
    "        ('Income Level', '@income_level'),\n",
    "        ('GDP Growth Rate (2017)', '@gdp_growth_2017')]\n",
    "\n",
    "p.add_tools(HoverTool(tooltips=TOOLTIPS, toggleable=False))\n",
    "\n",
    "layout = column(widgetbox(radio_button_group, slider, width=500), p) \n",
    "\n",
    "show(layout)"
   ]
  },
  {
   "cell_type": "code",
   "execution_count": null,
   "metadata": {
    "collapsed": true
   },
   "outputs": [],
   "source": []
  },
  {
   "cell_type": "code",
   "execution_count": null,
   "metadata": {
    "collapsed": true
   },
   "outputs": [],
   "source": []
  },
  {
   "cell_type": "code",
   "execution_count": null,
   "metadata": {
    "collapsed": true
   },
   "outputs": [],
   "source": []
  }
 ],
 "metadata": {
  "kernelspec": {
   "display_name": "Python 3",
   "language": "python",
   "name": "python3"
  },
  "language_info": {
   "codemirror_mode": {
    "name": "ipython",
    "version": 3
   },
   "file_extension": ".py",
   "mimetype": "text/x-python",
   "name": "python",
   "nbconvert_exporter": "python",
   "pygments_lexer": "ipython3",
   "version": "3.6.1"
  }
 },
 "nbformat": 4,
 "nbformat_minor": 2
}
